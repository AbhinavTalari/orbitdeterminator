{
 "cells": [
  {
   "cell_type": "code",
   "execution_count": 1,
   "metadata": {},
   "outputs": [],
   "source": [
    "import numpy as np\n",
    "import matplotlib.pyplot as plt\n",
    "import astropy.coordinates as coord\n",
    "import astropy.units as u\n",
    "from astropy import time\n",
    "\n",
    "from poliastro.bodies import Earth\n",
    "from poliastro.twobody import Orbit\n",
    "import poliastro"
   ]
  },
  {
   "cell_type": "markdown",
   "metadata": {},
   "source": [
    "ISS data and maneouver ephemeris https://spaceflight.nasa.gov/realdata/sightings/SSapplications/Post/JavaSSOP/orbit/ISS/SVPOST.html\n",
    "\n",
    "More info about ISS maneouvers and how to read ephemeris. http://iss-transit.sourceforge.net/technical.html\n",
    "\n",
    "\n",
    "Google Groups, how to convert from ECI (Earth-Centered Inertial) to lat-lon-height using astropy https://groups.google.com/forum/#!topic/astropy-dev/AIdMCZykFtw\n"
   ]
  },
  {
   "cell_type": "raw",
   "metadata": {},
   "source": [
    "   Coasting Arc #6 (Orbit 1807)\n",
    "    ---------------------------------------\n",
    " \n",
    "    Vector Time (GMT): 2019/186/09:50:00.000\n",
    "    Vector Time (MET): N/A\n",
    "    Weight (LBS)     : 916291.5\n",
    " \n",
    "              M50 Cartesian                         M50 Keplerian  \n",
    "    -----------------------------------       --------------------------------\n",
    "     X    =        3185076.73                 A    =         6791737.42  meter\n",
    "     Y    =       -4487950.28  meter          E    =           .0018075\n",
    "     Z    =        3968758.89                 I    =           51.25446\n",
    "     XDOT =       3168.775524                 Wp   =          105.89346\n",
    "     YDOT =       5758.950910  meter/sec      RA   =          270.00407  deg\n",
    "     ZDOT =       3949.351880                 TA   =          302.69398\n",
    "                                              MA   =          302.86816\n",
    "                                              Ha   =            228.455  n.mi\n",
    "                                              Hp   =            217.073\n",
    " \n",
    "              M50 Cartesian                         J2K Cartesian  \n",
    "    -----------------------------------       --------------------------------\n",
    "     X    =       10449726.80                 X    =         3215747.92\n",
    "     Y    =      -14724246.32  feet           Y    =        -4452161.64  meter\n",
    "     Z    =       13020862.50                 Z    =         3984304.30\n",
    "     XDOT =      10396.245159                 XDOT =        3084.958406\n",
    "     YDOT =      18894.195898  feet/sec       YDOT =        5793.917121  meter/sec\n",
    "     ZDOT =      12957.191208                 ZDOT =        3964.541614\n",
    " \n",
    "              TDR Cartesian                         TDR Cartesian  \n",
    "    -----------------------------------       --------------------------------\n",
    "     X    =      -10218725.88                 X    =        -3114667.65\n",
    "     Y    =      -14823133.44  feet           Y    =        -4518091.07  meter\n",
    "     Z    =       13091808.00                 Z    =         3990383.08\n",
    "     XDOT =      20216.086476                 XDOT =        6161.863158\n",
    "     YDOT =      -2374.947254  feet/sec       YDOT =        -723.883923  meter/sec\n",
    "     ZDOT =      13025.505588                 ZDOT =        3970.174103\n",
    "  \n",
    "  \n",
    "    The mean element set is posted at the UTC for which position is\n",
    "    just north of the next ascending node relative to the above\n",
    "    vector time\n",
    " \n",
    " \n",
    "    TWO LINE MEAN ELEMENT SET\n",
    "  \n",
    "    ISS\n",
    "    1 25544U 98067A   19186.46546460  .00016717  00000-0  10270-3 0  9052\n",
    "    2 25544  51.6422 270.5895 0007281 113.6717 246.5199 15.50989459 18080\n",
    "  \n",
    "  \n",
    "    Satellite: ISS\n",
    "    Catalog Number: 25544\n",
    "    Epoch time:      19186.46546460   =   yrday.fracday\n",
    "    Element set:     905\n",
    "    Inclination:       51.6422  deg\n",
    "    RA of node:       270.5895  deg\n",
    "    Eccentricity:     .0007281     \n",
    "    Arg of perigee:   113.6717  deg\n",
    "    Mean anomaly:     246.5199  deg\n",
    "    Mean motion:   15.50989459  rev/day\n",
    "    Decay rate:    1.67170E-04  rev/day^2\n",
    "    Epoch rev:            1808\n",
    "    Checksum:              346"
   ]
  },
  {
   "cell_type": "code",
   "execution_count": 2,
   "metadata": {},
   "outputs": [],
   "source": [
    "Epoch_time = time.Time(\"2019-07-05 11:10:16\") #19186.46546460   =   yrday.fracday\n",
    "\n",
    "Inclination = 51.6422 * u.deg\n",
    "RA_of_node = 270.5895  * u.deg\n",
    "Eccentricity = 0.0007281  * u.one\n",
    "Arg_of_perigee = 113.6717  * u.deg\n",
    "Mean_anomaly = 246.5199  * u.deg\n",
    "Rev_Per_Day = (15.50989459  / u.day).to(1/u.s)\n",
    "semi_major_Axis = Earth.k**(1/3) / (2 * np.pi * Rev_Per_Day)**(2/3)  \n",
    "\n"
   ]
  },
  {
   "cell_type": "code",
   "execution_count": 3,
   "metadata": {},
   "outputs": [
    {
     "data": {
      "text/plain": [
       "<Time object: scale='utc' format='iso' value=2019-07-05 11:10:16.141>"
      ]
     },
     "execution_count": 3,
     "metadata": {},
     "output_type": "execute_result"
    }
   ],
   "source": [
    "yday = 186.46546460 * u.day\n",
    "time.Time(\"2018-12-31 00:00\") + yday\n",
    "\n"
   ]
  },
  {
   "cell_type": "code",
   "execution_count": 4,
   "metadata": {},
   "outputs": [
    {
     "data": {
      "text/plain": [
       "<Time object: scale='utc' format='iso' value=2019-07-05 11:10:16.000>"
      ]
     },
     "execution_count": 4,
     "metadata": {},
     "output_type": "execute_result"
    }
   ],
   "source": [
    "Epoch_time"
   ]
  },
  {
   "cell_type": "code",
   "execution_count": 5,
   "metadata": {},
   "outputs": [
    {
     "data": {
      "text/latex": [
       "$3.9860044 \\times 10^{14} \\; \\mathrm{\\frac{m^{3}}{s^{2}}}$"
      ],
      "text/plain": [
       "<<class 'astropy.constants.constant.Constant'> name='Geocentric gravitational constant' value=398600441800000.0 uncertainty=800000.0 unit='m3 / s2' reference='IAU 2009 system of astronomical constants'>"
      ]
     },
     "execution_count": 5,
     "metadata": {},
     "output_type": "execute_result"
    }
   ],
   "source": [
    "Earth.k"
   ]
  },
  {
   "cell_type": "code",
   "execution_count": 6,
   "metadata": {},
   "outputs": [
    {
     "data": {
      "text/latex": [
       "$6791972.9 \\; \\mathrm{m}$"
      ],
      "text/plain": [
       "<Quantity 6791972.89119395 m>"
      ]
     },
     "execution_count": 6,
     "metadata": {},
     "output_type": "execute_result"
    }
   ],
   "source": [
    "semi_major_Axis"
   ]
  },
  {
   "cell_type": "code",
   "execution_count": 7,
   "metadata": {},
   "outputs": [
    {
     "data": {
      "text/latex": [
       "$413.83629 \\; \\mathrm{km}$"
      ],
      "text/plain": [
       "<Quantity 413.83629119 km>"
      ]
     },
     "execution_count": 7,
     "metadata": {},
     "output_type": "execute_result"
    }
   ],
   "source": [
    "(semi_major_Axis - Earth.R).to(u.km)"
   ]
  },
  {
   "cell_type": "code",
   "execution_count": null,
   "metadata": {},
   "outputs": [],
   "source": []
  },
  {
   "cell_type": "raw",
   "metadata": {},
   "source": [
    "https://heavens-above.com/orbit.aspx?satid=25544\n",
    "\n",
    "\n",
    "http://iss-transit.sourceforge.net/technical.html\n",
    "\n",
    "https://spaceflight.nasa.gov/realdata/sightings/SSapplications/Post/JavaSSOP/orbit/ISS/SVPOST.html\n",
    "\n",
    " ecc,\n",
    "    inc,\n",
    "    raan,\n",
    "    argp,\n",
    "    nu,\n",
    "    epoch=<Time object: scale='tdb' format='jyear_str' value=J2000.000>,"
   ]
  },
  {
   "cell_type": "code",
   "execution_count": null,
   "metadata": {},
   "outputs": [],
   "source": []
  },
  {
   "cell_type": "code",
   "execution_count": 8,
   "metadata": {},
   "outputs": [],
   "source": [
    "ZAYRA = Orbit.from_classical(Earth, \n",
    "                             semi_major_Axis, \n",
    "                             Eccentricity, \n",
    "                             Inclination, \n",
    "                             RA_of_node,\n",
    "                             Arg_of_perigee,\n",
    "                             Mean_anomaly,\n",
    "                             Epoch_time)"
   ]
  },
  {
   "cell_type": "code",
   "execution_count": null,
   "metadata": {},
   "outputs": [],
   "source": []
  },
  {
   "cell_type": "code",
   "execution_count": 37,
   "metadata": {},
   "outputs": [
    {
     "name": "stdout",
     "output_type": "stream",
     "text": [
      "6787 x 6797 km x 51.6 deg orbit around Earth (♁)\n",
      "(-4843.947670942176, 492.23019976518526, -4739.395724937) km\n",
      "174d11m51.5732s -44d24m29.2073s 426.99502909527297 km\n"
     ]
    },
    {
     "data": {
      "text/plain": [
       "(<Longitude 174.19765923 deg>,\n",
       " <Latitude -44.40811314 deg>,\n",
       " <Quantity 426.9950291 km>)"
      ]
     },
     "execution_count": 37,
     "metadata": {},
     "output_type": "execute_result"
    }
   ],
   "source": [
    "Tnow = time.Time.now()\n",
    "DeltaT = Tnow - Epoch_time\n",
    "\n",
    "\n",
    "ISSnow = ZAYRA.propagate( DeltaT )\n",
    "\n",
    "print(ISSnow)\n",
    "\n",
    "ISS_gcrs = coord.GCRS(\n",
    "    coord.CartesianRepresentation(x=ISSnow.r[0], y=ISSnow.r[1], z=ISSnow.r[2]),\n",
    "    obstime=time.Time.now())\n",
    "\n",
    "ISS_itrs = ISS_gcrs.transform_to(coord.ITRS(obstime=Tnow))\n",
    "ISS_el = coord.EarthLocation(ISS_itrs.x, ISS_itrs.y, ISS_itrs.z)\n",
    "print(ISS_el)\n",
    "\n",
    "lon, lat, height = ISS_el.to_geodetic()\n",
    "\n",
    "print(lon.to(u.degree), lat.to(u.degree), height )\n",
    "\n",
    "\n",
    "lon, lat, height "
   ]
  }
 ],
 "metadata": {
  "kernelspec": {
   "display_name": "Python 3",
   "language": "python",
   "name": "python3"
  },
  "language_info": {
   "codemirror_mode": {
    "name": "ipython",
    "version": 3
   },
   "file_extension": ".py",
   "mimetype": "text/x-python",
   "name": "python",
   "nbconvert_exporter": "python",
   "pygments_lexer": "ipython3",
   "version": "3.5.2"
  }
 },
 "nbformat": 4,
 "nbformat_minor": 2
}
