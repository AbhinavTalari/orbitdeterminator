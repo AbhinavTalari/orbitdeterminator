{
 "cells": [
  {
   "cell_type": "code",
   "execution_count": 1,
   "metadata": {},
   "outputs": [],
   "source": [
    "import numpy as np\n",
    "import matplotlib.pyplot as plt\n",
    "import astropy.coordinates as coord\n",
    "import astropy.units as u\n",
    "from astropy import time\n",
    "\n",
    "from poliastro.bodies import Earth\n",
    "from poliastro.twobody import Orbit\n",
    "import poliastro\n",
    "\n",
    "import urllib.request\n",
    "import json"
   ]
  },
  {
   "cell_type": "raw",
   "metadata": {},
   "source": [
    "# Raw data for 2019-07-10\n",
    "\n",
    "ISS (ZARYA)             \n",
    "1 25544U 98067A   19190.67737078  .00000405  00000-0  14728-4 0  9990\n",
    "2 25544  51.6431 249.6881 0007257 122.7057  10.0638 15.50965501178747"
   ]
  },
  {
   "cell_type": "code",
   "execution_count": 2,
   "metadata": {},
   "outputs": [
    {
     "name": "stdout",
     "output_type": "stream",
     "text": [
      "ISS TLE from celestrack.\n",
      "1 25544U 98067A   19191.64362958  .00000242  00000-0  11957-4 0  9999\n",
      "2 25544  51.6430 244.8938 0007211 126.3371   5.0810 15.50966263178893\n",
      "\n",
      "\n",
      "ISS Orbital Elements from TLE\n",
      "\n",
      "\tInclination    : 51.643 deg\n",
      "\tRA of node     : 244.8938 deg\n",
      "\tEccentricity   : 0.0007211\n",
      "\tArg of Perigee : 126.3371 deg\n",
      "\tMean_Anomaly   : 5.081 deg\n",
      "\tSemi-major Axis: 6792040.610266549 m\n",
      "TLE at:  2019:191:15:26:49.596  that means 2019-07-10 15:26:49.596\n"
     ]
    }
   ],
   "source": [
    "url = 'http://www.celestrak.com/NORAD/elements/stations.txt'\n",
    "\n",
    "\n",
    "response = urllib.request.urlopen(url)\n",
    "data = response.read()      # a `bytes` object\n",
    "text = data.decode('utf-8') # a `str`; this step can't be used if data is binary\n",
    "data = text.splitlines()\n",
    "\n",
    "for i in range(len(data)):\n",
    "    if data[i].startswith('ISS (ZARYA)'):\n",
    "        \n",
    "        l1 = \"1 25544U 98067A   19190.67737078  .00000405  00000-0  14728-4 0  9990\"\n",
    "        l2 = \"2 25544  51.6431 249.6881 0007257 122.7057  10.0638 15.50965501178747\"\n",
    "        \n",
    "        l1 = data[i+1].split()\n",
    "        l2 = data[i+2].split()\n",
    "        \n",
    "        \n",
    "        time_vector = l1[3]        \n",
    "        year = int(\"20\"+time_vector[0:2])\n",
    "        ydayfraction = float(time_vector[2:])\n",
    "        \n",
    "                \n",
    "        Inclination    = float(l2[2]) * u.deg\n",
    "        RA_of_node     = float(l2[3]) * u.deg\n",
    "        Eccentricity   = float(\"0.\"+l2[4]) * u.one\n",
    "        Arg_of_perigee = float(l2[5]) * u.deg\n",
    "        Mean_anomaly   = float(l2[6]) * u.deg\n",
    "        Rev_Per_Day    = (float(l2[7])  / u.day).to(1/u.s)\n",
    "        semi_major_Axis = Earth.k**(1/3) / (2 * np.pi * Rev_Per_Day)**(2/3)\n",
    "        \n",
    "\n",
    "        print(\"ISS TLE from celestrack.\")\n",
    "        print(data[i+1])\n",
    "        print(data[i+2])\n",
    "        print(\"\\n\")\n",
    "        \n",
    "        message = (\"\\tInclination    : {}\\n\"\n",
    "                   \"\\tRA of node     : {}\\n\"\n",
    "                   \"\\tEccentricity   : {}\\n\"\n",
    "                   \"\\tArg of Perigee : {}\\n\"\n",
    "                   \"\\tMean_Anomaly   : {}\\n\"\n",
    "                   \"\\tSemi-major Axis: {}\").format(Inclination, \n",
    "                                                   RA_of_node, \n",
    "                                                   Eccentricity,\n",
    "                                                   Arg_of_perigee, \n",
    "                                                   Mean_anomaly, \n",
    "                                                   semi_major_Axis)\n",
    "    \n",
    "        print(\"ISS Orbital Elements from TLE\\n\\n\" + message ) \n",
    "              \n",
    "            \n",
    "Epoch_time = time.Time(\"{}-01-01 00:00\".format(year))\n",
    "Epoch_time += (ydayfraction -1) * u.day\n",
    "\n",
    "print(\"TLE at: \", Epoch_time.yday, \" that means\", Epoch_time)\n",
    "\n",
    "ZAYRA = poliastro.twobody.Orbit.from_classical(Earth,\n",
    "                                              semi_major_Axis,\n",
    "                                              Eccentricity,\n",
    "                                              Inclination,\n",
    "                                              RA_of_node,\n",
    "                                              Arg_of_perigee,\n",
    "                                              Mean_anomaly,\n",
    "                                              Epoch_time)\n",
    "\n",
    "Tinit = time.Time(\"2019-07-11 2:03\")\n",
    "DeltaT = Tinit - Epoch_time\n",
    "#print(Tnow,\"\\n\", Epoch_time,\"\\n\", DeltaT)\n",
    "\n",
    "ISSnow = ZAYRA.propagate( DeltaT )"
   ]
  },
  {
   "cell_type": "markdown",
   "metadata": {},
   "source": [
    "The state of ISS (r,v) in the Non Rotating Frame is:"
   ]
  },
  {
   "cell_type": "code",
   "execution_count": 3,
   "metadata": {},
   "outputs": [
    {
     "data": {
      "text/latex": [
       "$[3136.2235,~-3020.854,~5208.269] \\; \\mathrm{km}$"
      ],
      "text/plain": [
       "<Quantity [ 3136.22352362, -3020.85395588,  5208.26903375] km>"
      ]
     },
     "execution_count": 3,
     "metadata": {},
     "output_type": "execute_result"
    }
   ],
   "source": [
    "ISSnow.r"
   ]
  },
  {
   "cell_type": "code",
   "execution_count": 4,
   "metadata": {},
   "outputs": [
    {
     "data": {
      "text/latex": [
       "$[4.0708818,~6.3743194,~1.2404699] \\; \\mathrm{\\frac{km}{s}}$"
      ],
      "text/plain": [
       "<Quantity [4.07088181, 6.37431937, 1.24046992] km / s>"
      ]
     },
     "execution_count": 4,
     "metadata": {},
     "output_type": "execute_result"
    }
   ],
   "source": [
    "ISSnow.v"
   ]
  },
  {
   "cell_type": "markdown",
   "metadata": {},
   "source": [
    "Now we load the ground stations info."
   ]
  },
  {
   "cell_type": "code",
   "execution_count": 5,
   "metadata": {},
   "outputs": [],
   "source": [
    "with open('ground_stations.json') as json_file:\n",
    "    data = json.load(json_file)"
   ]
  },
  {
   "cell_type": "code",
   "execution_count": 6,
   "metadata": {},
   "outputs": [],
   "source": [
    "GS = []\n",
    "gs = []\n",
    "\n",
    "for  k in sorted(data.keys()):\n",
    "    GS.append(data[k])"
   ]
  },
  {
   "cell_type": "code",
   "execution_count": 7,
   "metadata": {},
   "outputs": [],
   "source": [
    "for k in GS:\n",
    "    gs.append(coord.EarthLocation( k[\"gs_lon\"], k[\"gs_lat\"], k[\"gs_alt\"]))\n",
    "    "
   ]
  },
  {
   "cell_type": "markdown",
   "metadata": {},
   "source": [
    "Their location in the rotating system is:"
   ]
  },
  {
   "cell_type": "code",
   "execution_count": 8,
   "metadata": {},
   "outputs": [
    {
     "data": {
      "text/plain": [
       "[<EarthLocation (3946293.3013581, 809282.50717543, 4928547.87338264) m>,\n",
       " <EarthLocation (4157409.29535264, 672080.10355092, 4774350.40490151) m>,\n",
       " <EarthLocation (3899925.15472251, 855534.85353504, 4957331.36135458) m>,\n",
       " <EarthLocation (3857116.33132939, 516634.17159883, 5036460.26932419) m>]"
      ]
     },
     "execution_count": 8,
     "metadata": {},
     "output_type": "execute_result"
    }
   ],
   "source": [
    "gs"
   ]
  },
  {
   "cell_type": "code",
   "execution_count": 9,
   "metadata": {},
   "outputs": [
    {
     "data": {
      "text/plain": [
       "GeodeticLocation(lon=<Longitude 11.5892 deg>, lat=<Latitude 50.9271 deg>, height=<Quantity 143. m>)"
      ]
     },
     "execution_count": 9,
     "metadata": {},
     "output_type": "execute_result"
    }
   ],
   "source": [
    "gs[0].to_geodetic()"
   ]
  },
  {
   "cell_type": "code",
   "execution_count": 10,
   "metadata": {},
   "outputs": [],
   "source": [
    "gs_gcrs = []\n",
    "gs_vel_gcrs = []"
   ]
  },
  {
   "cell_type": "code",
   "execution_count": 11,
   "metadata": {},
   "outputs": [],
   "source": [
    "for k in gs:\n",
    "    gs_gcrs.append( k.get_itrs(Tinit) )\n",
    "    gs_vel_gcrs.append( k.get_gcrs_posvel(obstime= Tinit))"
   ]
  },
  {
   "cell_type": "code",
   "execution_count": 12,
   "metadata": {},
   "outputs": [
    {
     "data": {
      "text/plain": [
       "[(<CartesianRepresentation (x, y, z) in m\n",
       "      (3525405.75533251, -1965897.04909039, 4921942.31878877)>,\n",
       "  <CartesianRepresentation (x, y, z) in m / s\n",
       "      (143.348391, 256.40649168, -0.26263015)>),\n",
       " (<CartesianRepresentation (x, y, z) in m\n",
       "      (3595291.20334913, -2207700.45892648, 4767610.02492607)>,\n",
       "  <CartesianRepresentation (x, y, z) in m / s\n",
       "      (160.98116313, 261.52360268, -0.29543932)>),\n",
       " (<CartesianRepresentation (x, y, z) in m\n",
       "      (3520578.43009277, -1900587.0501085, 4950735.97626316)>,\n",
       "  <CartesianRepresentation (x, y, z) in m / s\n",
       "      (138.5859254, 256.05053449, -0.25375251)>),\n",
       " (<CartesianRepresentation (x, y, z) in m\n",
       "      (3266885.76846163, -2129173.4179394, 5030334.70430598)>,\n",
       "  <CartesianRepresentation (x, y, z) in m / s\n",
       "      (155.25449902, 237.54015805, -0.28520568)>)]"
      ]
     },
     "execution_count": 12,
     "metadata": {},
     "output_type": "execute_result"
    }
   ],
   "source": [
    "gs_vel_gcrs"
   ]
  },
  {
   "cell_type": "code",
   "execution_count": 13,
   "metadata": {},
   "outputs": [],
   "source": [
    "a = gs[0].get_gcrs_posvel(obstime=Tinit)[0]"
   ]
  },
  {
   "cell_type": "code",
   "execution_count": 14,
   "metadata": {},
   "outputs": [
    {
     "data": {
      "text/latex": [
       "$[3525405.8,~-1965897,~4921942.3] \\; \\mathrm{m}$"
      ],
      "text/plain": [
       "<Quantity [ 3525405.75533251, -1965897.04909039,  4921942.31878877] m>"
      ]
     },
     "execution_count": 14,
     "metadata": {},
     "output_type": "execute_result"
    }
   ],
   "source": [
    "a.xyz"
   ]
  },
  {
   "cell_type": "code",
   "execution_count": 15,
   "metadata": {},
   "outputs": [
    {
     "data": {
      "text/latex": [
       "$[-389.18223,~-1054.9569,~286.32671] \\; \\mathrm{km}$"
      ],
      "text/plain": [
       "<Quantity [ -389.18223171, -1054.95690679,   286.32671496] km>"
      ]
     },
     "execution_count": 15,
     "metadata": {},
     "output_type": "execute_result"
    }
   ],
   "source": [
    "ISSnow.r - a.xyz"
   ]
  },
  {
   "cell_type": "code",
   "execution_count": 16,
   "metadata": {},
   "outputs": [
    {
     "data": {
      "text/latex": [
       "$[3.9275334,~6.1179129,~1.2407326] \\; \\mathrm{\\frac{km}{s}}$"
      ],
      "text/plain": [
       "<Quantity [3.92753342, 6.11791288, 1.24073255] km / s>"
      ]
     },
     "execution_count": 16,
     "metadata": {},
     "output_type": "execute_result"
    }
   ],
   "source": [
    "ISSnow.v - gs[0].get_gcrs_posvel(obstime=Tinit)[1].xyz"
   ]
  },
  {
   "cell_type": "code",
   "execution_count": 17,
   "metadata": {},
   "outputs": [
    {
     "data": {
      "text/latex": [
       "$[4.0708818,~6.3743194,~1.2404699] \\; \\mathrm{\\frac{km}{s}}$"
      ],
      "text/plain": [
       "<Quantity [4.07088181, 6.37431937, 1.24046992] km / s>"
      ]
     },
     "execution_count": 17,
     "metadata": {},
     "output_type": "execute_result"
    }
   ],
   "source": [
    "ISSnow.v"
   ]
  },
  {
   "cell_type": "code",
   "execution_count": 18,
   "metadata": {},
   "outputs": [
    {
     "data": {
      "text/latex": [
       "$[143.34839,~256.40649,~-0.26263015] \\; \\mathrm{\\frac{m}{s}}$"
      ],
      "text/plain": [
       "<Quantity [143.348391  , 256.40649168,  -0.26263015] m / s>"
      ]
     },
     "execution_count": 18,
     "metadata": {},
     "output_type": "execute_result"
    }
   ],
   "source": [
    "gs[0].get_gcrs_posvel(obstime=Tinit)[1].xyz"
   ]
  },
  {
   "cell_type": "code",
   "execution_count": 19,
   "metadata": {},
   "outputs": [],
   "source": [
    "R_iss_gs0 = ISSnow.r - a.xyz"
   ]
  },
  {
   "cell_type": "code",
   "execution_count": 20,
   "metadata": {},
   "outputs": [
    {
     "data": {
      "text/latex": [
       "$[-389.18223,~-1054.9569,~286.32671] \\; \\mathrm{km}$"
      ],
      "text/plain": [
       "<Quantity [ -389.18223171, -1054.95690679,   286.32671496] km>"
      ]
     },
     "execution_count": 20,
     "metadata": {},
     "output_type": "execute_result"
    }
   ],
   "source": [
    "R_iss_gs0"
   ]
  },
  {
   "cell_type": "code",
   "execution_count": 21,
   "metadata": {},
   "outputs": [],
   "source": [
    "dist = 0\n",
    "for k in R_iss_gs0:\n",
    "    dist += k**2\n",
    "dist = (dist)**0.5"
   ]
  },
  {
   "cell_type": "code",
   "execution_count": 22,
   "metadata": {},
   "outputs": [
    {
     "data": {
      "text/latex": [
       "$1160.3361 \\; \\mathrm{km}$"
      ],
      "text/plain": [
       "<Quantity 1160.33610319 km>"
      ]
     },
     "execution_count": 22,
     "metadata": {},
     "output_type": "execute_result"
    }
   ],
   "source": [
    "dist"
   ]
  },
  {
   "cell_type": "code",
   "execution_count": 23,
   "metadata": {},
   "outputs": [
    {
     "data": {
      "text/latex": [
       "$[-0.33540474,~-0.90918218,~0.24676188] \\; \\mathrm{}$"
      ],
      "text/plain": [
       "<Quantity [-0.33540474, -0.90918218,  0.24676188]>"
      ]
     },
     "execution_count": 23,
     "metadata": {},
     "output_type": "execute_result"
    }
   ],
   "source": [
    "R_iss_gs0 / dist"
   ]
  },
  {
   "cell_type": "code",
   "execution_count": 24,
   "metadata": {},
   "outputs": [],
   "source": [
    "R_iss_gs0_unitary = R_iss_gs0 / dist"
   ]
  },
  {
   "cell_type": "code",
   "execution_count": 25,
   "metadata": {},
   "outputs": [],
   "source": [
    "V_iss_gs0 = ISSnow.v - gs[0].get_gcrs_posvel(obstime=Tinit)[1].xyz"
   ]
  },
  {
   "cell_type": "code",
   "execution_count": 26,
   "metadata": {},
   "outputs": [
    {
     "data": {
      "text/latex": [
       "$-6.5734452 \\; \\mathrm{\\frac{km}{s}}$"
      ],
      "text/plain": [
       "<Quantity -6.5734452 km / s>"
      ]
     },
     "execution_count": 26,
     "metadata": {},
     "output_type": "execute_result"
    }
   ],
   "source": [
    "V_iss_gs0.dot(R_iss_gs0_unitary)"
   ]
  },
  {
   "cell_type": "markdown",
   "metadata": {},
   "source": [
    "Ok,\n",
    "\n",
    "We have the ISS close to Germany on Thursday 2019-07-11 at 2:05 GMT\n",
    "\n",
    "According to https://spotthestation.nasa.gov/ the station will pass over germany in 5 minutes.\n",
    "\n",
    "The time window will be set for 8 minutes, sampling each 10 seconds.\n",
    "\n",
    "For testing purposes, all stations are sampling synchronously."
   ]
  },
  {
   "cell_type": "code",
   "execution_count": 27,
   "metadata": {},
   "outputs": [
    {
     "data": {
      "text/plain": [
       "<Time object: scale='utc' format='iso' value=2019-07-11 02:03:00.000>"
      ]
     },
     "execution_count": 27,
     "metadata": {},
     "output_type": "execute_result"
    }
   ],
   "source": [
    "Tinit"
   ]
  },
  {
   "cell_type": "code",
   "execution_count": 28,
   "metadata": {},
   "outputs": [],
   "source": [
    "deltat = 10 * u.s"
   ]
  },
  {
   "cell_type": "code",
   "execution_count": 29,
   "metadata": {},
   "outputs": [],
   "source": [
    "ISS_evolution = []\n",
    "T = []\n",
    "GS0_loc = []\n",
    "GS1_loc = []\n",
    "GS2_loc = []\n",
    "GS3_loc = []\n",
    "\n",
    "\n",
    "for i in range(30):\n",
    "    T.append(Tinit + deltat * i)\n",
    "    ISS_evolution.append( ISSnow.propagate(deltat * i) )\n",
    "    GS0_loc.append( gs[0].get_gcrs_posvel(obstime = Tinit + deltat*i) )\n",
    "    GS1_loc.append( gs[1].get_gcrs_posvel(obstime = Tinit + deltat*i) )\n",
    "    GS2_loc.append( gs[2].get_gcrs_posvel(obstime = Tinit + deltat*i) )\n",
    "    GS3_loc.append( gs[3].get_gcrs_posvel(obstime = Tinit + deltat*i) )"
   ]
  },
  {
   "cell_type": "code",
   "execution_count": 30,
   "metadata": {},
   "outputs": [
    {
     "data": {
      "text/latex": [
       "$[3136.2235,~-3020.854,~5208.269] \\; \\mathrm{km}$"
      ],
      "text/plain": [
       "<Quantity [ 3136.22352362, -3020.85395588,  5208.26903375] km>"
      ]
     },
     "execution_count": 30,
     "metadata": {},
     "output_type": "execute_result"
    }
   ],
   "source": [
    "ISSnow.r"
   ]
  },
  {
   "cell_type": "code",
   "execution_count": 31,
   "metadata": {},
   "outputs": [],
   "source": [
    "def norm( v ):\n",
    "    norm = 0\n",
    "    for k in v:\n",
    "        norm += k**2\n",
    "    norm = norm**0.5\n",
    "    \n",
    "    return norm"
   ]
  },
  {
   "cell_type": "markdown",
   "metadata": {},
   "source": [
    "# Data for JENA"
   ]
  },
  {
   "cell_type": "code",
   "execution_count": 32,
   "metadata": {},
   "outputs": [
    {
     "name": "stdout",
     "output_type": "stream",
     "text": [
      "2019-07-11 02:03:00.000 1160.3361031856693 km -6.573445202693996 km / s\n",
      "2019-07-11 02:03:10.000 1094.9127710278253 km -6.509229518083981 km / s\n",
      "2019-07-11 02:03:20.000 1030.196072618725 km -6.431619142630671 km / s\n",
      "2019-07-11 02:03:30.000 966.3364056692445 km -6.337167271568823 km / s\n",
      "2019-07-11 02:03:40.000 903.5238585825659 km -6.221326915861143 km / s\n",
      "2019-07-11 02:03:50.000 842.0010660696095 km -6.078060466185827 km / s\n",
      "2019-07-11 02:04:00.000 782.0806039009605 km -5.899318863171794 km / s\n",
      "2019-07-11 02:04:10.000 724.1683046629236 km -5.674377912609743 km / s\n",
      "2019-07-11 02:04:20.000 668.7937967051495 km -5.389072102079201 km / s\n",
      "2019-07-11 02:04:30.000 616.6485819669922 km -5.0251024531055855 km / s\n",
      "2019-07-11 02:04:40.000 568.6288036897915 km -4.559910994697591 km / s\n",
      "2019-07-11 02:04:50.000 525.8722978414614 km -3.9681891518313144 km / s\n",
      "2019-07-11 02:05:00.000 489.7652096528488 km -3.2267985910212564 km / s\n",
      "2019-07-11 02:05:10.000 461.87444624466644 km -2.3248633845025823 km / s\n",
      "2019-07-11 02:05:20.000 443.7556108095471 km -1.2779199321454375 km / s\n",
      "2019-07-11 02:05:30.000 436.62927429448837 km -0.138104803714919 km / s\n",
      "2019-07-11 02:05:40.000 441.02959768367845 km 1.0123949426999823 km / s\n",
      "2019-07-11 02:05:50.000 456.6231046770538 km 2.0876003396045504 km / s\n",
      "2019-07-11 02:06:00.000 482.32381569384097 km 3.026786501786966 km / s\n",
      "2019-07-11 02:06:10.000 516.6228853509263 km 3.8062010016854164 km / s\n",
      "2019-07-11 02:06:20.000 557.9333175797769 km 4.431757432819308 km / s\n",
      "2019-07-11 02:06:30.000 604.8159367503315 km 4.924796725686836 km / s\n",
      "2019-07-11 02:06:40.000 656.0724954178957 km 5.3107277377612565 km / s\n",
      "2019-07-11 02:06:50.000 710.7520849724216 km 5.612992608504543 km / s\n",
      "2019-07-11 02:07:00.000 768.1184060816673 km 5.85093093807707 km / s\n",
      "2019-07-11 02:07:10.000 827.6070070439706 km 6.039639165046708 km / s\n",
      "2019-07-11 02:07:20.000 888.7856431718203 km 6.190589095543264 km / s\n",
      "2019-07-11 02:07:30.000 951.3219021728052 km 6.312401522614408 km / s\n",
      "2019-07-11 02:07:40.000 1014.9582721064287 km 6.411540363604453 km / s\n",
      "2019-07-11 02:07:50.000 1079.4934670935231 km 6.492867541471986 km / s\n"
     ]
    }
   ],
   "source": [
    "for o, gs, t in zip(ISS_evolution, GS0_loc, T):\n",
    "    iss_rel_to_gs = o.r - gs[0].xyz\n",
    "    V_iss_rel_to_gs = o.v - gs[1].xyz\n",
    "    V = V_iss_rel_to_gs\n",
    "    \n",
    "    dist = norm(iss_rel_to_gs)\n",
    "    \n",
    "    iss_rel_to_gs_unitary = iss_rel_to_gs / dist\n",
    "    u = iss_rel_to_gs_unitary\n",
    "    \n",
    "    \n",
    "    \n",
    "    print(t,dist, V.dot(u))"
   ]
  },
  {
   "cell_type": "code",
   "execution_count": 33,
   "metadata": {},
   "outputs": [],
   "source": [
    "GroundStationLocations = [GS0_loc, GS1_loc, GS2_loc, GS3_loc]"
   ]
  },
  {
   "cell_type": "code",
   "execution_count": 34,
   "metadata": {
    "scrolled": false
   },
   "outputs": [
    {
     "name": "stdout",
     "output_type": "stream",
     "text": [
      "2019-07-11 02:03:00.000 1160.3361031856693 km -6.573445202693996 km / s\n",
      "2019-07-11 02:03:10.000 1094.9127710278253 km -6.509229518083981 km / s\n",
      "2019-07-11 02:03:20.000 1030.196072618725 km -6.431619142630671 km / s\n",
      "2019-07-11 02:03:30.000 966.3364056692445 km -6.337167271568823 km / s\n",
      "2019-07-11 02:03:40.000 903.5238585825659 km -6.221326915861143 km / s\n",
      "2019-07-11 02:03:50.000 842.0010660696095 km -6.078060466185827 km / s\n",
      "2019-07-11 02:04:00.000 782.0806039009605 km -5.899318863171794 km / s\n",
      "2019-07-11 02:04:10.000 724.1683046629236 km -5.674377912609743 km / s\n",
      "2019-07-11 02:04:20.000 668.7937967051495 km -5.389072102079201 km / s\n",
      "2019-07-11 02:04:30.000 616.6485819669922 km -5.0251024531055855 km / s\n",
      "2019-07-11 02:04:40.000 568.6288036897915 km -4.559910994697591 km / s\n",
      "2019-07-11 02:04:50.000 525.8722978414614 km -3.9681891518313144 km / s\n",
      "2019-07-11 02:05:00.000 489.7652096528488 km -3.2267985910212564 km / s\n",
      "2019-07-11 02:05:10.000 461.87444624466644 km -2.3248633845025823 km / s\n",
      "2019-07-11 02:05:20.000 443.7556108095471 km -1.2779199321454375 km / s\n",
      "2019-07-11 02:05:30.000 436.62927429448837 km -0.138104803714919 km / s\n",
      "2019-07-11 02:05:40.000 441.02959768367845 km 1.0123949426999823 km / s\n",
      "2019-07-11 02:05:50.000 456.6231046770538 km 2.0876003396045504 km / s\n",
      "2019-07-11 02:06:00.000 482.32381569384097 km 3.026786501786966 km / s\n",
      "2019-07-11 02:06:10.000 516.6228853509263 km 3.8062010016854164 km / s\n",
      "2019-07-11 02:06:20.000 557.9333175797769 km 4.431757432819308 km / s\n",
      "2019-07-11 02:06:30.000 604.8159367503315 km 4.924796725686836 km / s\n",
      "2019-07-11 02:06:40.000 656.0724954178957 km 5.3107277377612565 km / s\n",
      "2019-07-11 02:06:50.000 710.7520849724216 km 5.612992608504543 km / s\n",
      "2019-07-11 02:07:00.000 768.1184060816673 km 5.85093093807707 km / s\n",
      "2019-07-11 02:07:10.000 827.6070070439706 km 6.039639165046708 km / s\n",
      "2019-07-11 02:07:20.000 888.7856431718203 km 6.190589095543264 km / s\n",
      "2019-07-11 02:07:30.000 951.3219021728052 km 6.312401522614408 km / s\n",
      "2019-07-11 02:07:40.000 1014.9582721064287 km 6.411540363604453 km / s\n",
      "2019-07-11 02:07:50.000 1079.4934670935231 km 6.492867541471986 km / s\n",
      "\n",
      "\n",
      "\n",
      "2019-07-11 02:03:00.000 1032.5415760295148 km -6.022804293995457 km / s\n",
      "2019-07-11 02:03:10.000 973.0190387287578 km -5.8772673841059655 km / s\n",
      "2019-07-11 02:03:20.000 915.0950011441898 km -5.702051452978107 km / s\n",
      "2019-07-11 02:03:30.000 859.1003335371898 km -5.490082511897156 km / s\n",
      "2019-07-11 02:03:40.000 805.4447766102471 km -5.232624836698445 km / s\n",
      "2019-07-11 02:03:50.000 754.6343986954574 km -4.919141309745636 km / s\n",
      "2019-07-11 02:04:00.000 707.28924222069 km -4.5374353012132564 km / s\n",
      "2019-07-11 02:04:10.000 664.1569310504829 km -4.0743788915621 km / s\n",
      "2019-07-11 02:04:20.000 626.1143043098087 km -3.5176570493886152 km / s\n",
      "2019-07-11 02:04:30.000 594.1447218069598 km -2.858938569900781 km / s\n",
      "2019-07-11 02:04:40.000 569.2763265554753 km -2.098435229441807 km / s\n",
      "2019-07-11 02:04:50.000 552.4720105560158 km -1.2496795684817625 km / s\n",
      "2019-07-11 02:05:00.000 544.4810147638426 km -0.3418901031773332 km / s\n",
      "2019-07-11 02:05:10.000 545.6916543481783 km 0.5829895185121404 km / s\n",
      "2019-07-11 02:05:20.000 556.0437471774688 km 1.4789908369735718 km / s\n",
      "2019-07-11 02:05:30.000 575.0426990740324 km 2.3068576975170023 km / s\n",
      "2019-07-11 02:05:40.000 601.8681770224719 km 3.04144307926171 km / s\n",
      "2019-07-11 02:05:50.000 635.5270336010387 km 3.6730820765714896 km / s\n",
      "2019-07-11 02:06:00.000 674.9942389362523 km 4.204285324065736 km / s\n",
      "2019-07-11 02:06:10.000 719.3101934138849 km 4.6448182768927015 km / s\n",
      "2019-07-11 02:06:20.000 767.6309294269709 km 5.007451016086876 km / s\n",
      "2019-07-11 02:06:30.000 819.2430366924384 km 5.3051866993501235 km / s\n",
      "2019-07-11 02:06:40.000 873.557879431433 km 5.549827143918309 km / s\n",
      "2019-07-11 02:06:50.000 930.096340706837 km 5.7514358440109214 km / s\n",
      "2019-07-11 02:07:00.000 988.4709378266303 km 5.918293550287443 km / s\n",
      "2019-07-11 02:07:10.000 1048.3687862773938 km 6.057078647702522 km / s\n",
      "2019-07-11 02:07:20.000 1109.5368185020372 km 6.1731197091758085 km / s\n",
      "2019-07-11 02:07:30.000 1171.7695772014597 km 6.270650482993599 km / s\n",
      "2019-07-11 02:07:40.000 1234.8994066613402 km 6.353031857728723 km / s\n",
      "2019-07-11 02:07:50.000 1298.7886881919317 km 6.422937643388295 km / s\n",
      "\n",
      "\n",
      "\n",
      "2019-07-11 02:03:00.000 1212.0436914511795 km -6.638344812837973 km / s\n",
      "2019-07-11 02:03:10.000 1145.9185296905623 km -6.585062892754065 km / s\n",
      "2019-07-11 02:03:20.000 1080.378653894907 km -6.52089384373734 km / s\n",
      "2019-07-11 02:03:30.000 1015.5458908022982 km -6.443125153777695 km / s\n",
      "2019-07-11 02:03:40.000 951.5732394766503 km -6.34819136866517 km / s\n",
      "2019-07-11 02:03:50.000 888.6548655281227 km -6.231364741363771 km / s\n",
      "2019-07-11 02:04:00.000 827.039726107707 km -6.086332813650873 km / s\n",
      "2019-07-11 02:04:10.000 767.0501256787389 km -5.9046305823882275 km / s\n",
      "2019-07-11 02:04:20.000 709.1067594031526 km -5.674910684186101 km / s\n",
      "2019-07-11 02:04:30.000 653.7617238096348 km -5.382095490441068 km / s\n",
      "2019-07-11 02:04:40.000 601.7398730486888 km -5.006612856729207 km / s\n",
      "2019-07-11 02:04:50.000 553.985245356707 km -4.524287575061758 km / s\n",
      "2019-07-11 02:05:00.000 511.7004398810364 km -3.9081409024646545 km / s\n",
      "2019-07-11 02:05:10.000 476.35004603852195 km -3.13417557289042 km / s\n",
      "2019-07-11 02:05:20.000 449.57754353293564 km -2.1930584600715672 km / s\n",
      "2019-07-11 02:05:30.000 432.98058832883265 km -1.1058520954602675 km / s\n",
      "2019-07-11 02:05:40.000 427.74745780658196 km 0.06636569936628278 km / s\n",
      "2019-07-11 02:05:50.000 434.28990748504185 km 1.233257826447847 km / s\n",
      "2019-07-11 02:06:00.000 452.0964158331551 km 2.30645216956934 km / s\n",
      "2019-07-11 02:06:10.000 479.9130162798504 km 3.2292733380149468 km / s\n",
      "2019-07-11 02:06:20.000 516.1209288753514 km 3.9847763235611886 km / s\n",
      "2019-07-11 02:06:30.000 559.0885396877434 km 4.584690036987231 km / s\n",
      "2019-07-11 02:06:40.000 607.3785923496639 km 5.053807065842901 km / s\n",
      "2019-07-11 02:06:50.000 659.8186153569537 km 5.418984529551769 km / s\n",
      "2019-07-11 02:07:00.000 715.4913504276922 km 5.7039207792006055 km / s\n",
      "2019-07-11 02:07:10.000 773.6935389146485 km 5.927659939347008 km / s\n",
      "2019-07-11 02:07:20.000 833.8896883414664 km 6.104819613493488 km / s\n",
      "2019-07-11 02:07:30.000 895.671588392109 km 6.246383881917753 km / s\n",
      "2019-07-11 02:07:40.000 958.7262453488565 km 6.360543543647746 km / s\n",
      "2019-07-11 02:07:50.000 1022.8116453648171 km 6.453408707398567 km / s\n",
      "\n",
      "\n",
      "\n",
      "2019-07-11 02:03:00.000 918.60079989011 km -6.273561172090308 km / s\n",
      "2019-07-11 02:03:10.000 856.5142282002391 km -6.138920976989873 km / s\n",
      "2019-07-11 02:03:20.000 795.9325764124272 km -5.97113806344766 km / s\n",
      "2019-07-11 02:03:30.000 737.2350112637971 km -5.760182079563759 km / s\n",
      "2019-07-11 02:03:40.000 680.9168248551432 km -5.492721849669959 km / s\n",
      "2019-07-11 02:03:50.000 627.6264554536535 km -5.151343346947018 km / s\n",
      "2019-07-11 02:04:00.000 578.2088930039085 km -4.714153634050798 km / s\n",
      "2019-07-11 02:04:10.000 533.7476213156796 km -4.155681312701203 km / s\n",
      "2019-07-11 02:04:20.000 495.5844043559679 km -3.4507494030524075 km / s\n",
      "2019-07-11 02:04:30.000 465.27669165731976 km -2.583372650655027 km / s\n",
      "2019-07-11 02:04:40.000 444.4384775818424 km -1.5608039119424935 km / s\n",
      "2019-07-11 02:04:50.000 434.4372560122767 km -0.4265108530418095 km / s\n",
      "2019-07-11 02:05:00.000 436.02070502010395 km 0.7410757024918756 km / s\n",
      "2019-07-11 02:05:10.000 449.06624013672223 km 1.8516390000057579 km / s\n",
      "2019-07-11 02:05:20.000 472.6243542538316 km 2.834810061021674 km / s\n",
      "2019-07-11 02:05:30.000 505.22419422042594 km 3.657663089551183 km / s\n",
      "2019-07-11 02:05:40.000 545.2430315892766 km 4.32076583593851 km / s\n",
      "2019-07-11 02:05:50.000 591.1720316894679 km 4.843806522554853 km / s\n",
      "2019-07-11 02:06:00.000 641.7387880220921 km 5.252677218161377 km / s\n",
      "2019-07-11 02:06:10.000 695.9278938642574 km 5.572098892446351 km / s\n",
      "2019-07-11 02:06:20.000 752.9520745135542 km 5.822761116677506 km / s\n",
      "2019-07-11 02:06:30.000 812.2084886060462 km 6.020904811033816 km / s\n",
      "2019-07-11 02:06:40.000 873.2366371454376 km 6.178885722621624 km / s\n",
      "2019-07-11 02:06:50.000 935.6834961849072 km 6.305977073049255 km / s\n",
      "2019-07-11 02:07:00.000 999.276524368629 km 6.409114992829574 km / s\n",
      "2019-07-11 02:07:10.000 1063.803430130177 km 6.493500937070391 km / s\n",
      "2019-07-11 02:07:20.000 1129.0972176608884 km 6.563058098184679 km / s\n",
      "2019-07-11 02:07:30.000 1195.0251789644237 km 6.620768534932215 km / s\n",
      "2019-07-11 02:07:40.000 1261.4807757648698 km 6.6689185178385 km / s\n",
      "2019-07-11 02:07:50.000 1328.3776224648636 km 6.709277587566128 km / s\n",
      "\n",
      "\n",
      "\n"
     ]
    }
   ],
   "source": [
    "for GS_loc in GroundStationLocations:\n",
    "    for o, gs, t in zip(ISS_evolution, GS_loc, T):\n",
    "        iss_rel_to_gs = o.r - gs[0].xyz\n",
    "        V_iss_rel_to_gs = o.v - gs[1].xyz\n",
    "        V = V_iss_rel_to_gs\n",
    "\n",
    "        dist = norm(iss_rel_to_gs)\n",
    "\n",
    "        iss_rel_to_gs_unitary = iss_rel_to_gs / dist\n",
    "        u = iss_rel_to_gs_unitary\n",
    "\n",
    "\n",
    "\n",
    "        print(t,dist, V.dot(u))\n",
    "        \n",
    "    print(\"\\n\\n\")"
   ]
  },
  {
   "cell_type": "code",
   "execution_count": null,
   "metadata": {},
   "outputs": [],
   "source": []
  }
 ],
 "metadata": {
  "kernelspec": {
   "display_name": "Python 3",
   "language": "python",
   "name": "python3"
  },
  "language_info": {
   "codemirror_mode": {
    "name": "ipython",
    "version": 3
   },
   "file_extension": ".py",
   "mimetype": "text/x-python",
   "name": "python",
   "nbconvert_exporter": "python",
   "pygments_lexer": "ipython3",
   "version": "3.5.2"
  }
 },
 "nbformat": 4,
 "nbformat_minor": 2
}
