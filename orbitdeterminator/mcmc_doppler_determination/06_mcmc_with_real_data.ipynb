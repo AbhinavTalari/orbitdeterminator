{
 "cells": [
  {
   "cell_type": "markdown",
   "metadata": {},
   "source": [
    "# Running Monte Carlo over real files"
   ]
  },
  {
   "cell_type": "code",
   "execution_count": 1,
   "metadata": {},
   "outputs": [],
   "source": [
    "import numpy as np\n",
    "import matplotlib.pyplot as plt\n",
    "import random \n",
    "import urllib.request\n",
    "import json\n",
    "from   collections import OrderedDict\n",
    "\n",
    "import astropy.coordinates as coord\n",
    "import astropy.units as u\n",
    "from   astropy import time as t\n",
    "\n",
    "import poliastro\n",
    "from poliastro.bodies   import Earth\n",
    "from poliastro.twobody  import Orbit\n",
    "from poliastro.plotting import plot\n",
    "\n",
    "import emcee"
   ]
  },
  {
   "cell_type": "markdown",
   "metadata": {},
   "source": [
    "# Loading multiple files with a SINGLE satellite"
   ]
  },
  {
   "cell_type": "code",
   "execution_count": 2,
   "metadata": {},
   "outputs": [],
   "source": [
    "c = 299792.458  # km/s\n",
    "\n",
    "def get_redshift(f_c, f_m):\n",
    "    z = (f_m - f_c)/f_c\n",
    "    return z\n",
    "    \n",
    "def get_v_radial(f_c, f_m):\n",
    "    v_r = c * get_redshift(f_c, f_m)\n",
    "    return v_r"
   ]
  },
  {
   "cell_type": "code",
   "execution_count": 3,
   "metadata": {},
   "outputs": [],
   "source": [
    "file_list = ['first_test/001_20190721T052832_jena.json',\n",
    "             'first_test/001_20190721T052821_leipzig.json',\n",
    "             'first_test/001_20190721T052801_settrup.json',\n",
    "             'first_test/001_20190721T052806_stuttgart.json']\n",
    "\n",
    "N = len(file_list)"
   ]
  },
  {
   "cell_type": "code",
   "execution_count": 4,
   "metadata": {},
   "outputs": [],
   "source": [
    "raw_data = []\n",
    "\n",
    "for filename in file_list:\n",
    "    with open( filename, 'r') as myfile:\n",
    "        data=myfile.read()\n",
    "        raw_data.append(data)"
   ]
  },
  {
   "cell_type": "code",
   "execution_count": 5,
   "metadata": {},
   "outputs": [],
   "source": [
    "json_files = []\n",
    "\n",
    "for i in range(N):\n",
    "    obj = json.loads(raw_data[i])\n",
    "    json_files.append(obj)"
   ]
  },
  {
   "cell_type": "code",
   "execution_count": 6,
   "metadata": {},
   "outputs": [],
   "source": [
    "gs_geodetic_locs = []\n",
    "\n",
    "for i in range(N):\n",
    "    gs_geodetic_locs.append( json_files[i]['groundstation'])\n"
   ]
  },
  {
   "cell_type": "markdown",
   "metadata": {},
   "source": [
    "# Get Doppler Shift data from F_c and F_m"
   ]
  },
  {
   "cell_type": "code",
   "execution_count": 7,
   "metadata": {},
   "outputs": [],
   "source": [
    "f_c = obj['data'][0]['channel_f_center']"
   ]
  },
  {
   "cell_type": "code",
   "execution_count": 8,
   "metadata": {},
   "outputs": [
    {
     "name": "stdout",
     "output_type": "stream",
     "text": [
      "Sat ID: 1\n",
      "Stream length: 396\n",
      "Sat ID: 1\n",
      "Stream length: 401\n",
      "Sat ID: 1\n",
      "Stream length: 389\n",
      "Sat ID: 1\n",
      "Stream length: 392\n"
     ]
    }
   ],
   "source": [
    "tau = []\n",
    "z = []\n",
    "\n",
    "for i in range(N):\n",
    "    \n",
    "    print(\"Sat ID: {}\".format(json_files[i]['data'][0]['sat_id']))\n",
    "    stream = json_files[i]['data'][0]['stream']\n",
    "    \n",
    "    aux_tau = []\n",
    "    aux_z   = []\n",
    "    \n",
    "    for s in stream:\n",
    "        aux_tau.append( float(s['time_system']))\n",
    "        aux_z.append( get_redshift(f_c, float(s['f']) ))\n",
    "\n",
    "    print(\"Stream length: {}\".format(len(aux_z)))\n",
    "    tau.append(aux_tau)\n",
    "    z.append(aux_z)\n",
    "\n",
    "        "
   ]
  },
  {
   "cell_type": "code",
   "execution_count": 9,
   "metadata": {},
   "outputs": [
    {
     "name": "stdout",
     "output_type": "stream",
     "text": [
      "396\n",
      "401\n",
      "389\n",
      "392\n"
     ]
    }
   ],
   "source": [
    "for i in range(N):\n",
    "    print(len(tau[i]))"
   ]
  },
  {
   "cell_type": "markdown",
   "metadata": {},
   "source": [
    "### Doppler Shift measured by Ground Stations"
   ]
  },
  {
   "cell_type": "code",
   "execution_count": 10,
   "metadata": {},
   "outputs": [
    {
     "data": {
      "image/png": "[encoded data removed]",
      "text/plain": [
       "<matplotlib.figure.Figure at 0x7fdfd547afd0>"
      ]
     },
     "metadata": {
      "needs_background": "light"
     },
     "output_type": "display_data"
    }
   ],
   "source": [
    "fig = plt.figure(figsize=(6,4))\n",
    "plt.axhline(0, c=\"k\", lw=1)\n",
    "\n",
    "for i in range(N):\n",
    "    \n",
    "    label = gs_geodetic_locs[i]['gs_name']\n",
    "    plt.scatter(tau[i], z[i], s=2, label=label)\n",
    "    \n",
    "plt.ylim(-2e-5,3e-5)\n",
    "plt.xlabel(\"System Time (Unix time in seconds)\")\n",
    "plt.ylabel(\"Doppler Shift (Dimensionless)\")\n",
    "plt.legend(loc=0)\n",
    "\n",
    "plt.tight_layout()\n",
    "plt.savefig(\"first_test/measured_doppler_shift.png\")"
   ]
  },
  {
   "cell_type": "markdown",
   "metadata": {},
   "source": [
    "### Calculating GS positions and velocities in the GeoCentric Reference System"
   ]
  },
  {
   "cell_type": "code",
   "execution_count": 11,
   "metadata": {},
   "outputs": [
    {
     "data": {
      "text/plain": [
       "[{'gs_id': None,\n",
       "  'gs_name': 'jena',\n",
       "  'gs_lon': 11.56886,\n",
       "  'gs_lat': 50.91847,\n",
       "  'gs_alt': 130.0},\n",
       " {'gs_id': None,\n",
       "  'gs_name': 'leipzig',\n",
       "  'gs_lon': 12.338261,\n",
       "  'gs_lat': 51.336569,\n",
       "  'gs_alt': 80.0},\n",
       " {'gs_id': None,\n",
       "  'gs_name': 'settrup',\n",
       "  'gs_lon': 7.6289,\n",
       "  'gs_lat': 52.49356,\n",
       "  'gs_alt': 40.0},\n",
       " {'gs_id': None,\n",
       "  'gs_name': 'stuttgart',\n",
       "  'gs_lon': 9.2356,\n",
       "  'gs_lat': 48.777,\n",
       "  'gs_alt': 230.0}]"
      ]
     },
     "execution_count": 11,
     "metadata": {},
     "output_type": "execute_result"
    }
   ],
   "source": [
    "gs_geodetic_locs"
   ]
  },
  {
   "cell_type": "code",
   "execution_count": 12,
   "metadata": {},
   "outputs": [],
   "source": [
    "GS = []\n",
    "\n",
    "for i in range(N):\n",
    "    lon = gs_geodetic_locs[i]['gs_lon']\n",
    "    lat = gs_geodetic_locs[i]['gs_lat']\n",
    "    alt = gs_geodetic_locs[i]['gs_alt']\n",
    "    \n",
    "    gs = coord.EarthLocation(lon, lat, alt)\n",
    "    \n",
    "    GS.append(gs)"
   ]
  },
  {
   "cell_type": "code",
   "execution_count": 13,
   "metadata": {},
   "outputs": [
    {
     "data": {
      "text/plain": [
       "[<EarthLocation (3947302.485977, 808029.34688436, 4927932.57836334) m>,\n",
       " <EarthLocation (3900688.39630275, 853216.64217843, 4957085.63237295) m>,\n",
       " <EarthLocation (3857117.25251054, 516629.62143337, 5036460.03219459) m>,\n",
       " <EarthLocation (4156679.23402729, 675885.84844335, 4774425.562896) m>]"
      ]
     },
     "execution_count": 13,
     "metadata": {},
     "output_type": "execute_result"
    }
   ],
   "source": [
    "GS "
   ]
  },
  {
   "cell_type": "code",
   "execution_count": 14,
   "metadata": {},
   "outputs": [
    {
     "data": {
      "text/plain": [
       "[1563679712.0,\n",
       " 1563679713.0,\n",
       " 1563679714.0,\n",
       " 1563679715.0,\n",
       " 1563679716.0,\n",
       " 1563679717.0,\n",
       " 1563679718.0,\n",
       " 1563679719.0,\n",
       " 1563679720.0,\n",
       " 1563679721.0]"
      ]
     },
     "execution_count": 14,
     "metadata": {},
     "output_type": "execute_result"
    }
   ],
   "source": [
    "tau[0][:10]"
   ]
  },
  {
   "cell_type": "code",
   "execution_count": null,
   "metadata": {},
   "outputs": [],
   "source": []
  },
  {
   "cell_type": "code",
   "execution_count": 15,
   "metadata": {},
   "outputs": [
    {
     "data": {
      "text/plain": [
       "<Time object: scale='utc' format='unix' value=1563679811.0>"
      ]
     },
     "execution_count": 15,
     "metadata": {},
     "output_type": "execute_result"
    }
   ],
   "source": [
    "t.Time(1563679811.0, format='unix', scale=\"utc\")"
   ]
  },
  {
   "cell_type": "code",
   "execution_count": null,
   "metadata": {},
   "outputs": [],
   "source": []
  },
  {
   "cell_type": "code",
   "execution_count": null,
   "metadata": {},
   "outputs": [],
   "source": []
  },
  {
   "cell_type": "code",
   "execution_count": 16,
   "metadata": {},
   "outputs": [],
   "source": [
    "tau_astropytime = []\n",
    "\n",
    "for i in range(N):\n",
    "    aux = []\n",
    "    for aux_t in tau[i]:\n",
    "        theta = t.Time(aux_t, format='unix', scale='utc')\n",
    "        aux.append(theta)\n",
    "    tau_astropytime.append(aux)"
   ]
  },
  {
   "cell_type": "code",
   "execution_count": 17,
   "metadata": {},
   "outputs": [
    {
     "name": "stdout",
     "output_type": "stream",
     "text": [
      "2019-08-08 20:42:40.298626\n"
     ]
    }
   ],
   "source": [
    "print(t.Time.now())"
   ]
  },
  {
   "cell_type": "markdown",
   "metadata": {},
   "source": [
    "In the next cell we calculate the velocity and the position of each ground station at each moment of measurement. It takes around 2 minutes per 400 observations.\n",
    "In this case around 8 minutes per four stations (~1600 observations)"
   ]
  },
  {
   "cell_type": "code",
   "execution_count": 186,
   "metadata": {},
   "outputs": [
    {
     "name": "stdout",
     "output_type": "stream",
     "text": [
      "iteration 0 starts at time 2019-08-08 23:30:33.108386\n",
      "iteration 0 ends at time 2019-08-08 23:32:21.979407\n",
      "iteration 1 starts at time 2019-08-08 23:32:21.979948\n",
      "iteration 1 ends at time 2019-08-08 23:34:28.809131\n",
      "iteration 2 starts at time 2019-08-08 23:34:28.809662\n"
     ]
    },
    {
     "ename": "KeyboardInterrupt",
     "evalue": "",
     "output_type": "error",
     "traceback": [
      "\u001b[0;31m---------------------------------------------------------------------------\u001b[0m",
      "\u001b[0;31mKeyboardInterrupt\u001b[0m                         Traceback (most recent call last)",
      "\u001b[0;32m<ipython-input-186-3d9fd0d6b2c2>\u001b[0m in \u001b[0;36m<module>\u001b[0;34m\u001b[0m\n\u001b[1;32m      8\u001b[0m     \u001b[0mprint\u001b[0m\u001b[0;34m(\u001b[0m\u001b[0;34m\"iteration {} starts at time {}\"\u001b[0m\u001b[0;34m.\u001b[0m\u001b[0mformat\u001b[0m\u001b[0;34m(\u001b[0m\u001b[0mi\u001b[0m\u001b[0;34m,\u001b[0m \u001b[0mt\u001b[0m\u001b[0;34m.\u001b[0m\u001b[0mTime\u001b[0m\u001b[0;34m.\u001b[0m\u001b[0mnow\u001b[0m\u001b[0;34m(\u001b[0m\u001b[0;34m)\u001b[0m\u001b[0;34m)\u001b[0m\u001b[0;34m)\u001b[0m\u001b[0;34m\u001b[0m\u001b[0m\n\u001b[1;32m      9\u001b[0m     \u001b[0;32mfor\u001b[0m \u001b[0mt0\u001b[0m \u001b[0;32min\u001b[0m \u001b[0mtau_astropytime\u001b[0m\u001b[0;34m[\u001b[0m\u001b[0mi\u001b[0m\u001b[0;34m]\u001b[0m\u001b[0;34m:\u001b[0m\u001b[0;34m\u001b[0m\u001b[0m\n\u001b[0;32m---> 10\u001b[0;31m         \u001b[0mp\u001b[0m\u001b[0;34m,\u001b[0m\u001b[0mv\u001b[0m \u001b[0;34m=\u001b[0m \u001b[0mGS\u001b[0m\u001b[0;34m[\u001b[0m\u001b[0;36m0\u001b[0m\u001b[0;34m]\u001b[0m\u001b[0;34m.\u001b[0m\u001b[0mget_gcrs_posvel\u001b[0m\u001b[0;34m(\u001b[0m\u001b[0mobstime\u001b[0m\u001b[0;34m=\u001b[0m \u001b[0mt0\u001b[0m\u001b[0;34m)\u001b[0m\u001b[0;34m\u001b[0m\u001b[0m\n\u001b[0m\u001b[1;32m     11\u001b[0m         \u001b[0maux_pos\u001b[0m\u001b[0;34m.\u001b[0m\u001b[0mappend\u001b[0m\u001b[0;34m(\u001b[0m\u001b[0mp\u001b[0m\u001b[0;34m)\u001b[0m\u001b[0;34m\u001b[0m\u001b[0m\n\u001b[1;32m     12\u001b[0m         \u001b[0maux_vel\u001b[0m\u001b[0;34m.\u001b[0m\u001b[0mappend\u001b[0m\u001b[0;34m(\u001b[0m\u001b[0mv\u001b[0m\u001b[0;34m)\u001b[0m\u001b[0;34m\u001b[0m\u001b[0m\n",
      "\u001b[0;32m~/anaconda3/envs/env_name/lib/python3.6/site-packages/astropy/coordinates/earth.py\u001b[0m in \u001b[0;36mget_gcrs_posvel\u001b[0;34m(self, obstime)\u001b[0m\n\u001b[1;32m    646\u001b[0m         \"\"\"\n\u001b[1;32m    647\u001b[0m         \u001b[0;31m# GCRS position\u001b[0m\u001b[0;34m\u001b[0m\u001b[0;34m\u001b[0m\u001b[0m\n\u001b[0;32m--> 648\u001b[0;31m         \u001b[0mgcrs_data\u001b[0m \u001b[0;34m=\u001b[0m \u001b[0mself\u001b[0m\u001b[0;34m.\u001b[0m\u001b[0mget_gcrs\u001b[0m\u001b[0;34m(\u001b[0m\u001b[0mobstime\u001b[0m\u001b[0;34m)\u001b[0m\u001b[0;34m.\u001b[0m\u001b[0mdata\u001b[0m\u001b[0;34m\u001b[0m\u001b[0m\n\u001b[0m\u001b[1;32m    649\u001b[0m         \u001b[0mobsgeopos\u001b[0m \u001b[0;34m=\u001b[0m \u001b[0mgcrs_data\u001b[0m\u001b[0;34m.\u001b[0m\u001b[0mwithout_differentials\u001b[0m\u001b[0;34m(\u001b[0m\u001b[0;34m)\u001b[0m\u001b[0;34m\u001b[0m\u001b[0m\n\u001b[1;32m    650\u001b[0m         \u001b[0mobsgeovel\u001b[0m \u001b[0;34m=\u001b[0m \u001b[0mgcrs_data\u001b[0m\u001b[0;34m.\u001b[0m\u001b[0mdifferentials\u001b[0m\u001b[0;34m[\u001b[0m\u001b[0;34m's'\u001b[0m\u001b[0;34m]\u001b[0m\u001b[0;34m.\u001b[0m\u001b[0mto_cartesian\u001b[0m\u001b[0;34m(\u001b[0m\u001b[0;34m)\u001b[0m\u001b[0;34m\u001b[0m\u001b[0m\n",
      "\u001b[0;32m~/anaconda3/envs/env_name/lib/python3.6/site-packages/astropy/coordinates/earth.py\u001b[0m in \u001b[0;36mget_gcrs\u001b[0;34m(self, obstime)\u001b[0m\n\u001b[1;32m    626\u001b[0m         \u001b[0mzeros\u001b[0m \u001b[0;34m=\u001b[0m \u001b[0mnp\u001b[0m\u001b[0;34m.\u001b[0m\u001b[0mbroadcast_to\u001b[0m\u001b[0;34m(\u001b[0m\u001b[0;36m0.\u001b[0m \u001b[0;34m*\u001b[0m \u001b[0mu\u001b[0m\u001b[0;34m.\u001b[0m\u001b[0mkm\u001b[0m \u001b[0;34m/\u001b[0m \u001b[0mu\u001b[0m\u001b[0;34m.\u001b[0m\u001b[0ms\u001b[0m\u001b[0;34m,\u001b[0m \u001b[0;34m(\u001b[0m\u001b[0;36m3\u001b[0m\u001b[0;34m,\u001b[0m\u001b[0;34m)\u001b[0m \u001b[0;34m+\u001b[0m \u001b[0mitrs\u001b[0m\u001b[0;34m.\u001b[0m\u001b[0mshape\u001b[0m\u001b[0;34m,\u001b[0m \u001b[0msubok\u001b[0m\u001b[0;34m=\u001b[0m\u001b[0;32mTrue\u001b[0m\u001b[0;34m)\u001b[0m\u001b[0;34m\u001b[0m\u001b[0m\n\u001b[1;32m    627\u001b[0m         \u001b[0mitrs\u001b[0m\u001b[0;34m.\u001b[0m\u001b[0mdata\u001b[0m\u001b[0;34m.\u001b[0m\u001b[0mdifferentials\u001b[0m\u001b[0;34m[\u001b[0m\u001b[0;34m's'\u001b[0m\u001b[0;34m]\u001b[0m \u001b[0;34m=\u001b[0m \u001b[0mCartesianDifferential\u001b[0m\u001b[0;34m(\u001b[0m\u001b[0mzeros\u001b[0m\u001b[0;34m)\u001b[0m\u001b[0;34m\u001b[0m\u001b[0m\n\u001b[0;32m--> 628\u001b[0;31m         \u001b[0;32mreturn\u001b[0m \u001b[0mitrs\u001b[0m\u001b[0;34m.\u001b[0m\u001b[0mtransform_to\u001b[0m\u001b[0;34m(\u001b[0m\u001b[0mGCRS\u001b[0m\u001b[0;34m(\u001b[0m\u001b[0mobstime\u001b[0m\u001b[0;34m=\u001b[0m\u001b[0mobstime\u001b[0m\u001b[0;34m)\u001b[0m\u001b[0;34m)\u001b[0m\u001b[0;34m\u001b[0m\u001b[0m\n\u001b[0m\u001b[1;32m    629\u001b[0m \u001b[0;34m\u001b[0m\u001b[0m\n\u001b[1;32m    630\u001b[0m     \u001b[0;32mdef\u001b[0m \u001b[0mget_gcrs_posvel\u001b[0m\u001b[0;34m(\u001b[0m\u001b[0mself\u001b[0m\u001b[0;34m,\u001b[0m \u001b[0mobstime\u001b[0m\u001b[0;34m)\u001b[0m\u001b[0;34m:\u001b[0m\u001b[0;34m\u001b[0m\u001b[0m\n",
      "\u001b[0;32m~/anaconda3/envs/env_name/lib/python3.6/site-packages/astropy/coordinates/baseframe.py\u001b[0m in \u001b[0;36mtransform_to\u001b[0;34m(self, new_frame)\u001b[0m\n\u001b[1;32m   1165\u001b[0m             \u001b[0mmsg\u001b[0m \u001b[0;34m=\u001b[0m \u001b[0;34m'Cannot transform from {0} to {1}'\u001b[0m\u001b[0;34m\u001b[0m\u001b[0m\n\u001b[1;32m   1166\u001b[0m             \u001b[0;32mraise\u001b[0m \u001b[0mConvertError\u001b[0m\u001b[0;34m(\u001b[0m\u001b[0mmsg\u001b[0m\u001b[0;34m.\u001b[0m\u001b[0mformat\u001b[0m\u001b[0;34m(\u001b[0m\u001b[0mself\u001b[0m\u001b[0;34m.\u001b[0m\u001b[0m__class__\u001b[0m\u001b[0;34m,\u001b[0m \u001b[0mnew_frame\u001b[0m\u001b[0;34m.\u001b[0m\u001b[0m__class__\u001b[0m\u001b[0;34m)\u001b[0m\u001b[0;34m)\u001b[0m\u001b[0;34m\u001b[0m\u001b[0m\n\u001b[0;32m-> 1167\u001b[0;31m         \u001b[0;32mreturn\u001b[0m \u001b[0mtrans\u001b[0m\u001b[0;34m(\u001b[0m\u001b[0mself\u001b[0m\u001b[0;34m,\u001b[0m \u001b[0mnew_frame\u001b[0m\u001b[0;34m)\u001b[0m\u001b[0;34m\u001b[0m\u001b[0m\n\u001b[0m\u001b[1;32m   1168\u001b[0m \u001b[0;34m\u001b[0m\u001b[0m\n\u001b[1;32m   1169\u001b[0m     \u001b[0;32mdef\u001b[0m \u001b[0mis_transformable_to\u001b[0m\u001b[0;34m(\u001b[0m\u001b[0mself\u001b[0m\u001b[0;34m,\u001b[0m \u001b[0mnew_frame\u001b[0m\u001b[0;34m)\u001b[0m\u001b[0;34m:\u001b[0m\u001b[0;34m\u001b[0m\u001b[0m\n",
      "\u001b[0;32m~/anaconda3/envs/env_name/lib/python3.6/site-packages/astropy/coordinates/transformations.py\u001b[0m in \u001b[0;36m__call__\u001b[0;34m(self, fromcoord, toframe)\u001b[0m\n\u001b[1;32m   1374\u001b[0m \u001b[0;34m\u001b[0m\u001b[0m\n\u001b[1;32m   1375\u001b[0m             \u001b[0mcurr_toframe\u001b[0m \u001b[0;34m=\u001b[0m \u001b[0mt\u001b[0m\u001b[0;34m.\u001b[0m\u001b[0mtosys\u001b[0m\u001b[0;34m(\u001b[0m\u001b[0;34m**\u001b[0m\u001b[0mfrattrs\u001b[0m\u001b[0;34m)\u001b[0m\u001b[0;34m\u001b[0m\u001b[0m\n\u001b[0;32m-> 1376\u001b[0;31m             \u001b[0mcurr_coord\u001b[0m \u001b[0;34m=\u001b[0m \u001b[0mt\u001b[0m\u001b[0;34m(\u001b[0m\u001b[0mcurr_coord\u001b[0m\u001b[0;34m,\u001b[0m \u001b[0mcurr_toframe\u001b[0m\u001b[0;34m)\u001b[0m\u001b[0;34m\u001b[0m\u001b[0m\n\u001b[0m\u001b[1;32m   1377\u001b[0m \u001b[0;34m\u001b[0m\u001b[0m\n\u001b[1;32m   1378\u001b[0m         \u001b[0;31m# this is safe even in the case where self.transforms is empty, because\u001b[0m\u001b[0;34m\u001b[0m\u001b[0;34m\u001b[0m\u001b[0m\n",
      "\u001b[0;32m~/anaconda3/envs/env_name/lib/python3.6/site-packages/astropy/coordinates/transformations.py\u001b[0m in \u001b[0;36m__call__\u001b[0;34m(self, fromcoord, toframe)\u001b[0m\n\u001b[1;32m    918\u001b[0m                 fwdxyz = (fromcoord_cart.xyz +\n\u001b[1;32m    919\u001b[0m                           fromcoord_cart.differentials['s'].d_xyz*halfdt)\n\u001b[0;32m--> 920\u001b[0;31m                 \u001b[0mfwd\u001b[0m \u001b[0;34m=\u001b[0m \u001b[0msupcall\u001b[0m\u001b[0;34m(\u001b[0m\u001b[0mfromcoord\u001b[0m\u001b[0;34m.\u001b[0m\u001b[0mrealize_frame\u001b[0m\u001b[0;34m(\u001b[0m\u001b[0mCartesianRepresentation\u001b[0m\u001b[0;34m(\u001b[0m\u001b[0mfwdxyz\u001b[0m\u001b[0;34m)\u001b[0m\u001b[0;34m)\u001b[0m\u001b[0;34m,\u001b[0m \u001b[0mtoframe\u001b[0m\u001b[0;34m)\u001b[0m\u001b[0;34m\u001b[0m\u001b[0m\n\u001b[0m\u001b[1;32m    921\u001b[0m                 backxyz = (fromcoord_cart.xyz -\n\u001b[1;32m    922\u001b[0m                            fromcoord_cart.differentials['s'].d_xyz*halfdt)\n",
      "\u001b[0;32m~/anaconda3/envs/env_name/lib/python3.6/site-packages/astropy/coordinates/builtin_frames/intermediate_rotation_transforms.py\u001b[0m in \u001b[0;36mcirs_to_gcrs\u001b[0;34m(cirs_coo, gcrs_frame)\u001b[0m\n\u001b[1;32m     68\u001b[0m \u001b[0;34m\u001b[0m\u001b[0m\n\u001b[1;32m     69\u001b[0m     \u001b[0;31m# now do any needed offsets (no-op if same obstime and 0 pos/vel)\u001b[0m\u001b[0;34m\u001b[0m\u001b[0;34m\u001b[0m\u001b[0m\n\u001b[0;32m---> 70\u001b[0;31m     \u001b[0;32mreturn\u001b[0m \u001b[0mgcrs\u001b[0m\u001b[0;34m.\u001b[0m\u001b[0mtransform_to\u001b[0m\u001b[0;34m(\u001b[0m\u001b[0mgcrs_frame\u001b[0m\u001b[0;34m)\u001b[0m\u001b[0;34m\u001b[0m\u001b[0m\n\u001b[0m\u001b[1;32m     71\u001b[0m \u001b[0;34m\u001b[0m\u001b[0m\n\u001b[1;32m     72\u001b[0m \u001b[0;34m\u001b[0m\u001b[0m\n",
      "\u001b[0;32m~/anaconda3/envs/env_name/lib/python3.6/site-packages/astropy/coordinates/baseframe.py\u001b[0m in \u001b[0;36mtransform_to\u001b[0;34m(self, new_frame)\u001b[0m\n\u001b[1;32m   1165\u001b[0m             \u001b[0mmsg\u001b[0m \u001b[0;34m=\u001b[0m \u001b[0;34m'Cannot transform from {0} to {1}'\u001b[0m\u001b[0;34m\u001b[0m\u001b[0m\n\u001b[1;32m   1166\u001b[0m             \u001b[0;32mraise\u001b[0m \u001b[0mConvertError\u001b[0m\u001b[0;34m(\u001b[0m\u001b[0mmsg\u001b[0m\u001b[0;34m.\u001b[0m\u001b[0mformat\u001b[0m\u001b[0;34m(\u001b[0m\u001b[0mself\u001b[0m\u001b[0;34m.\u001b[0m\u001b[0m__class__\u001b[0m\u001b[0;34m,\u001b[0m \u001b[0mnew_frame\u001b[0m\u001b[0;34m.\u001b[0m\u001b[0m__class__\u001b[0m\u001b[0;34m)\u001b[0m\u001b[0;34m)\u001b[0m\u001b[0;34m\u001b[0m\u001b[0m\n\u001b[0;32m-> 1167\u001b[0;31m         \u001b[0;32mreturn\u001b[0m \u001b[0mtrans\u001b[0m\u001b[0;34m(\u001b[0m\u001b[0mself\u001b[0m\u001b[0;34m,\u001b[0m \u001b[0mnew_frame\u001b[0m\u001b[0;34m)\u001b[0m\u001b[0;34m\u001b[0m\u001b[0m\n\u001b[0m\u001b[1;32m   1168\u001b[0m \u001b[0;34m\u001b[0m\u001b[0m\n\u001b[1;32m   1169\u001b[0m     \u001b[0;32mdef\u001b[0m \u001b[0mis_transformable_to\u001b[0m\u001b[0;34m(\u001b[0m\u001b[0mself\u001b[0m\u001b[0;34m,\u001b[0m \u001b[0mnew_frame\u001b[0m\u001b[0;34m)\u001b[0m\u001b[0;34m:\u001b[0m\u001b[0;34m\u001b[0m\u001b[0m\n",
      "\u001b[0;32m~/anaconda3/envs/env_name/lib/python3.6/site-packages/astropy/coordinates/transformations.py\u001b[0m in \u001b[0;36m__call__\u001b[0;34m(self, fromcoord, toframe)\u001b[0m\n\u001b[1;32m   1374\u001b[0m \u001b[0;34m\u001b[0m\u001b[0m\n\u001b[1;32m   1375\u001b[0m             \u001b[0mcurr_toframe\u001b[0m \u001b[0;34m=\u001b[0m \u001b[0mt\u001b[0m\u001b[0;34m.\u001b[0m\u001b[0mtosys\u001b[0m\u001b[0;34m(\u001b[0m\u001b[0;34m**\u001b[0m\u001b[0mfrattrs\u001b[0m\u001b[0;34m)\u001b[0m\u001b[0;34m\u001b[0m\u001b[0m\n\u001b[0;32m-> 1376\u001b[0;31m             \u001b[0mcurr_coord\u001b[0m \u001b[0;34m=\u001b[0m \u001b[0mt\u001b[0m\u001b[0;34m(\u001b[0m\u001b[0mcurr_coord\u001b[0m\u001b[0;34m,\u001b[0m \u001b[0mcurr_toframe\u001b[0m\u001b[0;34m)\u001b[0m\u001b[0;34m\u001b[0m\u001b[0m\n\u001b[0m\u001b[1;32m   1377\u001b[0m \u001b[0;34m\u001b[0m\u001b[0m\n\u001b[1;32m   1378\u001b[0m         \u001b[0;31m# this is safe even in the case where self.transforms is empty, because\u001b[0m\u001b[0;34m\u001b[0m\u001b[0;34m\u001b[0m\u001b[0m\n",
      "\u001b[0;32m~/anaconda3/envs/env_name/lib/python3.6/site-packages/astropy/coordinates/transformations.py\u001b[0m in \u001b[0;36m__call__\u001b[0;34m(self, fromcoord, toframe)\u001b[0m\n\u001b[1;32m    977\u001b[0m             \u001b[0;32mreturn\u001b[0m \u001b[0mreprwithoutdiff\u001b[0m\u001b[0;34m.\u001b[0m\u001b[0mrealize_frame\u001b[0m\u001b[0;34m(\u001b[0m\u001b[0mreprwithdiff\u001b[0m\u001b[0;34m)\u001b[0m\u001b[0;34m\u001b[0m\u001b[0m\n\u001b[1;32m    978\u001b[0m         \u001b[0;32melse\u001b[0m\u001b[0;34m:\u001b[0m\u001b[0;34m\u001b[0m\u001b[0m\n\u001b[0;32m--> 979\u001b[0;31m             \u001b[0;32mreturn\u001b[0m \u001b[0msupcall\u001b[0m\u001b[0;34m(\u001b[0m\u001b[0mfromcoord\u001b[0m\u001b[0;34m,\u001b[0m \u001b[0mtoframe\u001b[0m\u001b[0;34m)\u001b[0m\u001b[0;34m\u001b[0m\u001b[0m\n\u001b[0m\u001b[1;32m    980\u001b[0m \u001b[0;34m\u001b[0m\u001b[0m\n\u001b[1;32m    981\u001b[0m \u001b[0;34m\u001b[0m\u001b[0m\n",
      "\u001b[0;32m~/anaconda3/envs/env_name/lib/python3.6/site-packages/astropy/coordinates/builtin_frames/icrs_cirs_transforms.py\u001b[0m in \u001b[0;36mgcrs_to_gcrs\u001b[0;34m(from_coo, to_frame)\u001b[0m\n\u001b[1;32m    217\u001b[0m     \u001b[0;32melse\u001b[0m\u001b[0;34m:\u001b[0m\u001b[0;34m\u001b[0m\u001b[0m\n\u001b[1;32m    218\u001b[0m         \u001b[0;31m# like CIRS, we do this self-transform via ICRS\u001b[0m\u001b[0;34m\u001b[0m\u001b[0;34m\u001b[0m\u001b[0m\n\u001b[0;32m--> 219\u001b[0;31m         \u001b[0;32mreturn\u001b[0m \u001b[0mfrom_coo\u001b[0m\u001b[0;34m.\u001b[0m\u001b[0mtransform_to\u001b[0m\u001b[0;34m(\u001b[0m\u001b[0mICRS\u001b[0m\u001b[0;34m)\u001b[0m\u001b[0;34m.\u001b[0m\u001b[0mtransform_to\u001b[0m\u001b[0;34m(\u001b[0m\u001b[0mto_frame\u001b[0m\u001b[0;34m)\u001b[0m\u001b[0;34m\u001b[0m\u001b[0m\n\u001b[0m\u001b[1;32m    220\u001b[0m \u001b[0;34m\u001b[0m\u001b[0m\n\u001b[1;32m    221\u001b[0m \u001b[0;34m\u001b[0m\u001b[0m\n",
      "\u001b[0;32m~/anaconda3/envs/env_name/lib/python3.6/site-packages/astropy/coordinates/baseframe.py\u001b[0m in \u001b[0;36mtransform_to\u001b[0;34m(self, new_frame)\u001b[0m\n\u001b[1;32m   1165\u001b[0m             \u001b[0mmsg\u001b[0m \u001b[0;34m=\u001b[0m \u001b[0;34m'Cannot transform from {0} to {1}'\u001b[0m\u001b[0;34m\u001b[0m\u001b[0m\n\u001b[1;32m   1166\u001b[0m             \u001b[0;32mraise\u001b[0m \u001b[0mConvertError\u001b[0m\u001b[0;34m(\u001b[0m\u001b[0mmsg\u001b[0m\u001b[0;34m.\u001b[0m\u001b[0mformat\u001b[0m\u001b[0;34m(\u001b[0m\u001b[0mself\u001b[0m\u001b[0;34m.\u001b[0m\u001b[0m__class__\u001b[0m\u001b[0;34m,\u001b[0m \u001b[0mnew_frame\u001b[0m\u001b[0;34m.\u001b[0m\u001b[0m__class__\u001b[0m\u001b[0;34m)\u001b[0m\u001b[0;34m)\u001b[0m\u001b[0;34m\u001b[0m\u001b[0m\n\u001b[0;32m-> 1167\u001b[0;31m         \u001b[0;32mreturn\u001b[0m \u001b[0mtrans\u001b[0m\u001b[0;34m(\u001b[0m\u001b[0mself\u001b[0m\u001b[0;34m,\u001b[0m \u001b[0mnew_frame\u001b[0m\u001b[0;34m)\u001b[0m\u001b[0;34m\u001b[0m\u001b[0m\n\u001b[0m\u001b[1;32m   1168\u001b[0m \u001b[0;34m\u001b[0m\u001b[0m\n\u001b[1;32m   1169\u001b[0m     \u001b[0;32mdef\u001b[0m \u001b[0mis_transformable_to\u001b[0m\u001b[0;34m(\u001b[0m\u001b[0mself\u001b[0m\u001b[0;34m,\u001b[0m \u001b[0mnew_frame\u001b[0m\u001b[0;34m)\u001b[0m\u001b[0;34m:\u001b[0m\u001b[0;34m\u001b[0m\u001b[0m\n",
      "\u001b[0;32m~/anaconda3/envs/env_name/lib/python3.6/site-packages/astropy/coordinates/transformations.py\u001b[0m in \u001b[0;36m__call__\u001b[0;34m(self, fromcoord, toframe)\u001b[0m\n\u001b[1;32m   1373\u001b[0m                     \u001b[0mfrattrs\u001b[0m\u001b[0;34m[\u001b[0m\u001b[0minter_frame_attr_nm\u001b[0m\u001b[0;34m]\u001b[0m \u001b[0;34m=\u001b[0m \u001b[0mattr\u001b[0m\u001b[0;34m\u001b[0m\u001b[0m\n\u001b[1;32m   1374\u001b[0m \u001b[0;34m\u001b[0m\u001b[0m\n\u001b[0;32m-> 1375\u001b[0;31m             \u001b[0mcurr_toframe\u001b[0m \u001b[0;34m=\u001b[0m \u001b[0mt\u001b[0m\u001b[0;34m.\u001b[0m\u001b[0mtosys\u001b[0m\u001b[0;34m(\u001b[0m\u001b[0;34m**\u001b[0m\u001b[0mfrattrs\u001b[0m\u001b[0;34m)\u001b[0m\u001b[0;34m\u001b[0m\u001b[0m\n\u001b[0m\u001b[1;32m   1376\u001b[0m             \u001b[0mcurr_coord\u001b[0m \u001b[0;34m=\u001b[0m \u001b[0mt\u001b[0m\u001b[0;34m(\u001b[0m\u001b[0mcurr_coord\u001b[0m\u001b[0;34m,\u001b[0m \u001b[0mcurr_toframe\u001b[0m\u001b[0;34m)\u001b[0m\u001b[0;34m\u001b[0m\u001b[0m\n\u001b[1;32m   1377\u001b[0m \u001b[0;34m\u001b[0m\u001b[0m\n",
      "\u001b[0;32m~/anaconda3/envs/env_name/lib/python3.6/site-packages/astropy/coordinates/baseframe.py\u001b[0m in \u001b[0;36m__init__\u001b[0;34m(self, copy, representation_type, differential_type, *args, **kwargs)\u001b[0m\n\u001b[1;32m    572\u001b[0m                 \u001b[0;31m# Validate attribute by getting it.  If the instance has data,\u001b[0m\u001b[0;34m\u001b[0m\u001b[0;34m\u001b[0m\u001b[0m\n\u001b[1;32m    573\u001b[0m                 \u001b[0;31m# this also checks its shape is OK.  If not, we do it below.\u001b[0m\u001b[0;34m\u001b[0m\u001b[0;34m\u001b[0m\u001b[0m\n\u001b[0;32m--> 574\u001b[0;31m                 \u001b[0mvalues\u001b[0m\u001b[0;34m[\u001b[0m\u001b[0mfnm\u001b[0m\u001b[0;34m]\u001b[0m \u001b[0;34m=\u001b[0m \u001b[0mgetattr\u001b[0m\u001b[0;34m(\u001b[0m\u001b[0mself\u001b[0m\u001b[0;34m,\u001b[0m \u001b[0mfnm\u001b[0m\u001b[0;34m)\u001b[0m\u001b[0;34m\u001b[0m\u001b[0m\n\u001b[0m\u001b[1;32m    575\u001b[0m             \u001b[0;32melse\u001b[0m\u001b[0;34m:\u001b[0m\u001b[0;34m\u001b[0m\u001b[0m\n\u001b[1;32m    576\u001b[0m                 \u001b[0msetattr\u001b[0m\u001b[0;34m(\u001b[0m\u001b[0mself\u001b[0m\u001b[0;34m,\u001b[0m \u001b[0;34m'_'\u001b[0m \u001b[0;34m+\u001b[0m \u001b[0mfnm\u001b[0m\u001b[0;34m,\u001b[0m \u001b[0mfdefault\u001b[0m\u001b[0;34m)\u001b[0m\u001b[0;34m\u001b[0m\u001b[0m\n",
      "\u001b[0;32m~/anaconda3/envs/env_name/lib/python3.6/site-packages/astropy/coordinates/attributes.py\u001b[0m in \u001b[0;36m__get__\u001b[0;34m(self, instance, frame_cls)\u001b[0m\n\u001b[1;32m    105\u001b[0m         \u001b[0mout\u001b[0m\u001b[0;34m,\u001b[0m \u001b[0mconverted\u001b[0m \u001b[0;34m=\u001b[0m \u001b[0mself\u001b[0m\u001b[0;34m.\u001b[0m\u001b[0mconvert_input\u001b[0m\u001b[0;34m(\u001b[0m\u001b[0mout\u001b[0m\u001b[0;34m)\u001b[0m\u001b[0;34m\u001b[0m\u001b[0m\n\u001b[1;32m    106\u001b[0m         \u001b[0;32mif\u001b[0m \u001b[0minstance\u001b[0m \u001b[0;32mis\u001b[0m \u001b[0;32mnot\u001b[0m \u001b[0;32mNone\u001b[0m\u001b[0;34m:\u001b[0m\u001b[0;34m\u001b[0m\u001b[0m\n\u001b[0;32m--> 107\u001b[0;31m             \u001b[0minstance_shape\u001b[0m \u001b[0;34m=\u001b[0m \u001b[0mgetattr\u001b[0m\u001b[0;34m(\u001b[0m\u001b[0minstance\u001b[0m\u001b[0;34m,\u001b[0m \u001b[0;34m'shape'\u001b[0m\u001b[0;34m,\u001b[0m \u001b[0;32mNone\u001b[0m\u001b[0;34m)\u001b[0m\u001b[0;34m\u001b[0m\u001b[0m\n\u001b[0m\u001b[1;32m    108\u001b[0m             if instance_shape is not None and (getattr(out, 'size', 1) > 1 and\n\u001b[1;32m    109\u001b[0m                                                out.shape != instance_shape):\n",
      "\u001b[0;32m~/anaconda3/envs/env_name/lib/python3.6/site-packages/astropy/coordinates/baseframe.py\u001b[0m in \u001b[0;36m__getattr__\u001b[0;34m(self, attr)\u001b[0m\n\u001b[1;32m   1455\u001b[0m             \u001b[0;32mreturn\u001b[0m \u001b[0mval\u001b[0m\u001b[0;34m\u001b[0m\u001b[0m\n\u001b[1;32m   1456\u001b[0m \u001b[0;34m\u001b[0m\u001b[0m\n\u001b[0;32m-> 1457\u001b[0;31m         \u001b[0mdiff_names\u001b[0m \u001b[0;34m=\u001b[0m \u001b[0mself\u001b[0m\u001b[0;34m.\u001b[0m\u001b[0mget_representation_component_names\u001b[0m\u001b[0;34m(\u001b[0m\u001b[0;34m's'\u001b[0m\u001b[0;34m)\u001b[0m\u001b[0;34m\u001b[0m\u001b[0m\n\u001b[0m\u001b[1;32m   1458\u001b[0m         \u001b[0;32mif\u001b[0m \u001b[0mattr\u001b[0m \u001b[0;32min\u001b[0m \u001b[0mdiff_names\u001b[0m\u001b[0;34m:\u001b[0m\u001b[0;34m\u001b[0m\u001b[0m\n\u001b[1;32m   1459\u001b[0m             \u001b[0;32mif\u001b[0m \u001b[0mself\u001b[0m\u001b[0;34m.\u001b[0m\u001b[0m_data\u001b[0m \u001b[0;32mis\u001b[0m \u001b[0;32mNone\u001b[0m\u001b[0;34m:\u001b[0m\u001b[0;34m\u001b[0m\u001b[0m\n",
      "\u001b[0;32m~/anaconda3/envs/env_name/lib/python3.6/site-packages/astropy/coordinates/baseframe.py\u001b[0m in \u001b[0;36mget_representation_component_names\u001b[0;34m(self, which)\u001b[0m\n\u001b[1;32m    823\u001b[0m             \u001b[0;32mreturn\u001b[0m \u001b[0mout\u001b[0m\u001b[0;34m\u001b[0m\u001b[0m\n\u001b[1;32m    824\u001b[0m         \u001b[0mdata_names\u001b[0m \u001b[0;34m=\u001b[0m \u001b[0mrepr_or_diff_cls\u001b[0m\u001b[0;34m.\u001b[0m\u001b[0mattr_classes\u001b[0m\u001b[0;34m.\u001b[0m\u001b[0mkeys\u001b[0m\u001b[0;34m(\u001b[0m\u001b[0;34m)\u001b[0m\u001b[0;34m\u001b[0m\u001b[0m\n\u001b[0;32m--> 825\u001b[0;31m         \u001b[0mrepr_names\u001b[0m \u001b[0;34m=\u001b[0m \u001b[0mself\u001b[0m\u001b[0;34m.\u001b[0m\u001b[0mrepresentation_info\u001b[0m\u001b[0;34m[\u001b[0m\u001b[0mrepr_or_diff_cls\u001b[0m\u001b[0;34m]\u001b[0m\u001b[0;34m[\u001b[0m\u001b[0;34m'names'\u001b[0m\u001b[0;34m]\u001b[0m\u001b[0;34m\u001b[0m\u001b[0m\n\u001b[0m\u001b[1;32m    826\u001b[0m         \u001b[0;32mfor\u001b[0m \u001b[0mrepr_name\u001b[0m\u001b[0;34m,\u001b[0m \u001b[0mdata_name\u001b[0m \u001b[0;32min\u001b[0m \u001b[0mzip\u001b[0m\u001b[0;34m(\u001b[0m\u001b[0mrepr_names\u001b[0m\u001b[0;34m,\u001b[0m \u001b[0mdata_names\u001b[0m\u001b[0;34m)\u001b[0m\u001b[0;34m:\u001b[0m\u001b[0;34m\u001b[0m\u001b[0m\n\u001b[1;32m    827\u001b[0m             \u001b[0mout\u001b[0m\u001b[0;34m[\u001b[0m\u001b[0mrepr_name\u001b[0m\u001b[0;34m]\u001b[0m \u001b[0;34m=\u001b[0m \u001b[0mdata_name\u001b[0m\u001b[0;34m\u001b[0m\u001b[0m\n",
      "\u001b[0;32m~/anaconda3/envs/env_name/lib/python3.6/site-packages/astropy/coordinates/baseframe.py\u001b[0m in \u001b[0;36mrepresentation_info\u001b[0;34m(self)\u001b[0m\n\u001b[1;32m    815\u001b[0m         \u001b[0mapply\u001b[0m \u001b[0mto\u001b[0m \u001b[0mparticular\u001b[0m \u001b[0mrepresentations\u001b[0m\u001b[0;34m.\u001b[0m\u001b[0;34m\u001b[0m\u001b[0m\n\u001b[1;32m    816\u001b[0m         \"\"\"\n\u001b[0;32m--> 817\u001b[0;31m         \u001b[0;32mreturn\u001b[0m \u001b[0mself\u001b[0m\u001b[0;34m.\u001b[0m\u001b[0m_get_representation_info\u001b[0m\u001b[0;34m(\u001b[0m\u001b[0;34m)\u001b[0m\u001b[0;34m\u001b[0m\u001b[0m\n\u001b[0m\u001b[1;32m    818\u001b[0m \u001b[0;34m\u001b[0m\u001b[0m\n\u001b[1;32m    819\u001b[0m     \u001b[0;32mdef\u001b[0m \u001b[0mget_representation_component_names\u001b[0m\u001b[0;34m(\u001b[0m\u001b[0mself\u001b[0m\u001b[0;34m,\u001b[0m \u001b[0mwhich\u001b[0m\u001b[0;34m=\u001b[0m\u001b[0;34m'base'\u001b[0m\u001b[0;34m)\u001b[0m\u001b[0;34m:\u001b[0m\u001b[0;34m\u001b[0m\u001b[0m\n",
      "\u001b[0;32m~/anaconda3/envs/env_name/lib/python3.6/site-packages/astropy/coordinates/baseframe.py\u001b[0m in \u001b[0;36m_get_representation_info\u001b[0;34m(cls)\u001b[0m\n\u001b[1;32m    791\u001b[0m             \u001b[0muns\u001b[0m \u001b[0;34m=\u001b[0m \u001b[0mrepr_attrs\u001b[0m\u001b[0;34m[\u001b[0m\u001b[0mrepr_diff_cls\u001b[0m\u001b[0;34m]\u001b[0m\u001b[0;34m[\u001b[0m\u001b[0;34m'units'\u001b[0m\u001b[0;34m]\u001b[0m\u001b[0;34m\u001b[0m\u001b[0m\n\u001b[1;32m    792\u001b[0m             \u001b[0mcomptomap\u001b[0m \u001b[0;34m=\u001b[0m \u001b[0mdict\u001b[0m\u001b[0;34m(\u001b[0m\u001b[0;34m[\u001b[0m\u001b[0;34m(\u001b[0m\u001b[0mm\u001b[0m\u001b[0;34m.\u001b[0m\u001b[0mreprname\u001b[0m\u001b[0;34m,\u001b[0m \u001b[0mm\u001b[0m\u001b[0;34m)\u001b[0m \u001b[0;32mfor\u001b[0m \u001b[0mm\u001b[0m \u001b[0;32min\u001b[0m \u001b[0mmappings\u001b[0m\u001b[0;34m]\u001b[0m\u001b[0;34m)\u001b[0m\u001b[0;34m\u001b[0m\u001b[0m\n\u001b[0;32m--> 793\u001b[0;31m             \u001b[0;32mfor\u001b[0m \u001b[0mi\u001b[0m\u001b[0;34m,\u001b[0m \u001b[0mc\u001b[0m \u001b[0;32min\u001b[0m \u001b[0menumerate\u001b[0m\u001b[0;34m(\u001b[0m\u001b[0mrepr_diff_cls\u001b[0m\u001b[0;34m.\u001b[0m\u001b[0mattr_classes\u001b[0m\u001b[0;34m.\u001b[0m\u001b[0mkeys\u001b[0m\u001b[0;34m(\u001b[0m\u001b[0;34m)\u001b[0m\u001b[0;34m)\u001b[0m\u001b[0;34m:\u001b[0m\u001b[0;34m\u001b[0m\u001b[0m\n\u001b[0m\u001b[1;32m    794\u001b[0m                 \u001b[0;32mif\u001b[0m \u001b[0mc\u001b[0m \u001b[0;32min\u001b[0m \u001b[0mcomptomap\u001b[0m\u001b[0;34m:\u001b[0m\u001b[0;34m\u001b[0m\u001b[0m\n\u001b[1;32m    795\u001b[0m                     \u001b[0mmapp\u001b[0m \u001b[0;34m=\u001b[0m \u001b[0mcomptomap\u001b[0m\u001b[0;34m[\u001b[0m\u001b[0mc\u001b[0m\u001b[0;34m]\u001b[0m\u001b[0;34m\u001b[0m\u001b[0m\n",
      "\u001b[0;31mKeyboardInterrupt\u001b[0m: "
     ]
    }
   ],
   "source": [
    "GS_gcrs_positions = []\n",
    "GS_gcrs_velocities = []\n",
    "\n",
    "for  i in range(N):\n",
    "    aux_pos = []\n",
    "    aux_vel = []\n",
    "    \n",
    "    print(\"iteration {} starts at time {}\".format(i, t.Time.now()))\n",
    "    for t0 in tau_astropytime[i]:\n",
    "        p,v = GS[0].get_gcrs_posvel(obstime= t0)\n",
    "        aux_pos.append(p)\n",
    "        aux_vel.append(v)\n",
    "    \n",
    "    print(\"iteration {} ends at time {}\".format(i, t.Time.now()))\n",
    "    \n",
    "    GS_gcrs_positions.append(aux_pos)\n",
    "    GS_gcrs_velocities.append(aux_vel)"
   ]
  },
  {
   "cell_type": "code",
   "execution_count": 20,
   "metadata": {},
   "outputs": [
    {
     "data": {
      "text/plain": [
       "[<CartesianRepresentation (x, y, z) in m\n",
       "     (4035733.13268396, 145414.70323006, 4920400.43937277)>,\n",
       " <CartesianRepresentation (x, y, z) in m\n",
       "     (4035722.51179125, 145708.32183512, 4920400.46447655)>,\n",
       " <CartesianRepresentation (x, y, z) in m\n",
       "     (4035711.86943215, 146001.93966102, 4920400.48961992)>,\n",
       " <CartesianRepresentation (x, y, z) in m\n",
       "     (4035701.20577448, 146295.55675354, 4920400.5148105)>,\n",
       " <CartesianRepresentation (x, y, z) in m\n",
       "     (4035690.52060465, 146589.17294483, 4920400.54003305)>,\n",
       " <CartesianRepresentation (x, y, z) in m\n",
       "     (4035679.81402944, 146882.78846377, 4920400.56529519)>,\n",
       " <CartesianRepresentation (x, y, z) in m\n",
       "     (4035669.08612517, 147176.40320355, 4920400.59059691)>,\n",
       " <CartesianRepresentation (x, y, z) in m\n",
       "     (4035658.33667821, 147470.01708788, 4920400.61593059)>,\n",
       " <CartesianRepresentation (x, y, z) in m\n",
       "     (4035647.56590218, 147763.63020831, 4920400.64132675)>,\n",
       " <CartesianRepresentation (x, y, z) in m\n",
       "     (4035636.77373604, 148057.2425801, 4920400.66673961)>]"
      ]
     },
     "execution_count": 20,
     "metadata": {},
     "output_type": "execute_result"
    }
   ],
   "source": [
    "GS_gcrs_positions[0][:10]"
   ]
  },
  {
   "cell_type": "code",
   "execution_count": 21,
   "metadata": {},
   "outputs": [
    {
     "data": {
      "text/plain": [
       "[<CartesianRepresentation (x, y, z) in m / s\n",
       "     (-10.61036549, 293.61894124, 0.02509544)>,\n",
       " <CartesianRepresentation (x, y, z) in m / s\n",
       "     (-10.63158776, 293.61823837, 0.02511976)>,\n",
       " <CartesianRepresentation (x, y, z) in m / s\n",
       "     (-10.65305416, 293.61742869, 0.02515935)>,\n",
       " <CartesianRepresentation (x, y, z) in m / s\n",
       "     (-10.67452056, 293.61669531, 0.02522183)>,\n",
       " <CartesianRepresentation (x, y, z) in m / s\n",
       "     (-10.6956055, 293.61602296, 0.02523852)>,\n",
       " <CartesianRepresentation (x, y, z) in m / s\n",
       "     (-10.71730077, 293.61509121, 0.02527812)>,\n",
       " <CartesianRepresentation (x, y, z) in m / s\n",
       "     (-10.73866036, 293.61432731, 0.02531007)>,\n",
       " <CartesianRepresentation (x, y, z) in m / s\n",
       "     (-10.76003521, 293.61356341, 0.02537255)>,\n",
       " <CartesianRepresentation (x, y, z) in m / s\n",
       "     (-10.78151686, 293.61278425, 0.02541214)>,\n",
       " <CartesianRepresentation (x, y, z) in m / s\n",
       "     (-10.802968, 293.61188303, 0.0254441)>]"
      ]
     },
     "execution_count": 21,
     "metadata": {},
     "output_type": "execute_result"
    }
   ],
   "source": [
    "GS_gcrs_velocities[0][:10]"
   ]
  },
  {
   "cell_type": "markdown",
   "metadata": {},
   "source": [
    "### Now we have the Ground Station location in XYZ in the Geocentric Inertial System.\n",
    "\n",
    "Regading, this is the System where Satellite coordinates are measured."
   ]
  },
  {
   "cell_type": "code",
   "execution_count": 22,
   "metadata": {},
   "outputs": [
    {
     "name": "stdout",
     "output_type": "stream",
     "text": [
      "396 396 396\n",
      "401 401 401\n",
      "389 389 389\n",
      "392 392 392\n"
     ]
    }
   ],
   "source": [
    "for i in range(N):\n",
    "    print(len(GS_gcrs_positions[i]), len(GS_gcrs_velocities[i]), len(tau_astropytime[i]))"
   ]
  },
  {
   "cell_type": "code",
   "execution_count": 23,
   "metadata": {},
   "outputs": [
    {
     "data": {
      "text/plain": [
       "<CartesianRepresentation (x, y, z) in m\n",
       "    (4035848.54949027, 142184.84794311, 4920400.16588212)>"
      ]
     },
     "execution_count": 23,
     "metadata": {},
     "output_type": "execute_result"
    }
   ],
   "source": [
    "GS_gcrs_positions[1][0]"
   ]
  },
  {
   "cell_type": "markdown",
   "metadata": {},
   "source": [
    "### Initial position guess:\n",
    "\n",
    "Well, let's try an XYZ-VxVyVz approximation to the orbital parameters, instead the classic elements.\n",
    "\n",
    "1. Find average location of Ground Stations: GS_av\n",
    "2. Extend this vector into space something like 500 km: R0\n",
    "3. Find some points in a circle into a radius of 1000 km. The circle is centered at R0, in the plane defined by the vector GS_av\n",
    "4. Define initial velocities towards R0 (or something tangential to Earths Surface).\n"
   ]
  },
  {
   "cell_type": "code",
   "execution_count": 24,
   "metadata": {},
   "outputs": [],
   "source": [
    "GS_0x = []\n",
    "GS_0y = []\n",
    "GS_0z = []\n",
    "\n",
    "for i in range(N):\n",
    "    x, y, z = GS_gcrs_positions[i][0].xyz\n",
    "    \n",
    "    GS_0x.append(x.value)\n",
    "    GS_0y.append(y.value)\n",
    "    GS_0z.append(z.value)\n",
    "    \n",
    "GS_0xav = np.mean(GS_0x)\n",
    "GS_0yav = np.mean(GS_0y)\n",
    "GS_0zav = np.mean(GS_0z)"
   ]
  },
  {
   "cell_type": "code",
   "execution_count": 25,
   "metadata": {},
   "outputs": [
    {
     "data": {
      "text/plain": [
       "<CartesianRepresentation (x, y, z) in m\n",
       "    (4035733.13268396, 145414.70323006, 4920400.43937277)>"
      ]
     },
     "execution_count": 25,
     "metadata": {},
     "output_type": "execute_result"
    }
   ],
   "source": [
    "GS_gcrs_positions[0][0]"
   ]
  },
  {
   "cell_type": "code",
   "execution_count": 26,
   "metadata": {},
   "outputs": [
    {
     "name": "stdout",
     "output_type": "stream",
     "text": [
      "(4035908.8008950613, 140423.01365830595, 4920400.021755013)\n"
     ]
    }
   ],
   "source": [
    "GS_av = (GS_0xav, GS_0yav, GS_0zav)\n",
    "print(GS_av)"
   ]
  },
  {
   "cell_type": "markdown",
   "metadata": {},
   "source": [
    "### Generate the initial positions of Random Walkers"
   ]
  },
  {
   "cell_type": "code",
   "execution_count": 27,
   "metadata": {},
   "outputs": [],
   "source": [
    "def norm(A_list):\n",
    "    A = 0\n",
    "    for a in A_list:\n",
    "        A += a**2\n",
    "    return A**0.5"
   ]
  },
  {
   "cell_type": "markdown",
   "metadata": {},
   "source": [
    "This is the average position of the Ground Stations at the first measurement."
   ]
  },
  {
   "cell_type": "code",
   "execution_count": 35,
   "metadata": {},
   "outputs": [
    {
     "data": {
      "text/plain": [
       "(4035908.8008950613, 140423.01365830595, 4920400.021755013)"
      ]
     },
     "execution_count": 35,
     "metadata": {},
     "output_type": "execute_result"
    }
   ],
   "source": [
    "GS_av"
   ]
  },
  {
   "cell_type": "code",
   "execution_count": 28,
   "metadata": {},
   "outputs": [
    {
     "data": {
      "text/plain": [
       "6365423.383090383"
      ]
     },
     "execution_count": 28,
     "metadata": {},
     "output_type": "execute_result"
    }
   ],
   "source": [
    "norm(GS_av)"
   ]
  },
  {
   "cell_type": "code",
   "execution_count": 29,
   "metadata": {},
   "outputs": [],
   "source": [
    "GS_av_unitary = GS_av / norm(GS_av)"
   ]
  },
  {
   "cell_type": "code",
   "execution_count": 30,
   "metadata": {},
   "outputs": [
    {
     "data": {
      "text/plain": [
       "array([0.63403619, 0.02206028, 0.77298865])"
      ]
     },
     "execution_count": 30,
     "metadata": {},
     "output_type": "execute_result"
    }
   ],
   "source": [
    "GS_av_unitary"
   ]
  },
  {
   "cell_type": "code",
   "execution_count": 31,
   "metadata": {},
   "outputs": [
    {
     "data": {
      "text/latex": [
       "$6378136.6 \\; \\mathrm{m}$"
      ],
      "text/plain": [
       "<<class 'astropy.constants.constant.Constant'> name='Earth equatorial radius' value=6378136.6 uncertainty=0.0001 unit='m' reference='IAU Working Group on Cartographic Coordinates and Rotational Elements: 2009'>"
      ]
     },
     "execution_count": 31,
     "metadata": {},
     "output_type": "execute_result"
    }
   ],
   "source": [
    "Earth.R"
   ]
  },
  {
   "cell_type": "code",
   "execution_count": 32,
   "metadata": {},
   "outputs": [],
   "source": [
    "H_0 = 500 * u.km"
   ]
  },
  {
   "cell_type": "markdown",
   "metadata": {},
   "source": [
    "This is a point 500 kilometers above the GS_average point."
   ]
  },
  {
   "cell_type": "code",
   "execution_count": 33,
   "metadata": {},
   "outputs": [],
   "source": [
    "R0 = (Earth.R + H_0)*GS_av_unitary"
   ]
  },
  {
   "cell_type": "code",
   "execution_count": 34,
   "metadata": {},
   "outputs": [
    {
     "data": {
      "text/latex": [
       "$[4360987.5,~151733.61,~5316721.5] \\; \\mathrm{m}$"
      ],
      "text/plain": [
       "<Quantity [4360987.53642076,  151733.61009909, 5316721.51866248] m>"
      ]
     },
     "execution_count": 34,
     "metadata": {},
     "output_type": "execute_result"
    }
   ],
   "source": [
    "R0"
   ]
  },
  {
   "cell_type": "code",
   "execution_count": null,
   "metadata": {},
   "outputs": [],
   "source": []
  },
  {
   "cell_type": "markdown",
   "metadata": {},
   "source": [
    "And a random initial velocity, just to test the Orbit Generation from vectors"
   ]
  },
  {
   "cell_type": "code",
   "execution_count": null,
   "metadata": {},
   "outputs": [],
   "source": [
    "V0 = (1, 7, 1) * u.km / u.s"
   ]
  },
  {
   "cell_type": "code",
   "execution_count": null,
   "metadata": {},
   "outputs": [],
   "source": [
    "V0"
   ]
  },
  {
   "cell_type": "markdown",
   "metadata": {},
   "source": [
    "# Orbit generated from vectors"
   ]
  },
  {
   "cell_type": "code",
   "execution_count": 39,
   "metadata": {},
   "outputs": [],
   "source": [
    "TestOrbit = Orbit.from_vectors(Earth, R0,  V0, epoch=tau_astropytime[0][0])"
   ]
  },
  {
   "cell_type": "code",
   "execution_count": 40,
   "metadata": {},
   "outputs": [
    {
     "data": {
      "text/plain": [
       "4618 x 7665 km x 50.7 deg orbit around Earth (♁)"
      ]
     },
     "execution_count": 40,
     "metadata": {},
     "output_type": "execute_result"
    }
   ],
   "source": [
    "TestOrbit"
   ]
  },
  {
   "cell_type": "code",
   "execution_count": 41,
   "metadata": {},
   "outputs": [],
   "source": [
    "Samples = TestOrbit.sample()[1]"
   ]
  },
  {
   "cell_type": "code",
   "execution_count": 42,
   "metadata": {
    "scrolled": true
   },
   "outputs": [
    {
     "data": {
      "text/plain": [
       "<bound method CartesianRepresentation.get_xyz of <CartesianRepresentation (x, y, z) in m\n",
       "    [(-1918050.33326477, -3561429.49881565, -2228443.30048721),\n",
       "     (-1732137.52883182, -3792010.75462291, -1994328.09272442),\n",
       "     (-1536702.85029936, -4002593.34910084, -1749223.0606612 ),\n",
       "     (-1332533.24414042, -4192329.34046524, -1494115.15575339),\n",
       "     (-1120450.82929857, -4360454.72884505, -1230031.6074953 ),\n",
       "     ( -901309.58680535, -4506292.53263999,  -958035.78712924),\n",
       "     ( -675991.92109961, -4629255.5144868 ,  -679222.92582447),\n",
       "     ( -445405.10689671, -4728848.5458566 ,  -394715.70456822),\n",
       "     ( -210477.63591331, -4804670.60076277,  -105659.73352549),\n",
       "     (   27844.52184117, -4856416.37055114,   186781.06092888),\n",
       "     (  268601.72715175, -4883877.49327013,   481429.12293074),\n",
       "     (  510824.53572645, -4886943.39267077,   777098.00872869),\n",
       "     (  753537.60180611, -4865601.72345827,  1072597.16407403),\n",
       "     (  995763.60553771, -4819938.42100214,  1366736.71816278),\n",
       "     ( 1236527.18829642, -4750137.35530477,  1658332.27482541),\n",
       "     ( 1474858.88011038, -4656479.59062193,  1946209.68167195),\n",
       "     ( 1709799.0033745 , -4539342.25371598,  2229209.75798975),\n",
       "     ( 1940401.53713285, -4399197.01529986,  2506192.96235438),\n",
       "     ( 2165737.92637185, -4236608.19078521,  2776043.9811615 ),\n",
       "     ( 2384900.82098311, -4052230.46798361,  3037676.21960062),\n",
       "     ( 2597007.72934214, -3846806.27090989,  3290036.17698893),\n",
       "     ( 2801204.57179085, -3621162.77030241,  3532107.68884697),\n",
       "     ( 2996669.11971465, -3376208.55289871,  3762916.01863406),\n",
       "     ( 3182614.30636703, -3112929.96287722,  3981531.78266849),\n",
       "     ( 3358291.39610963, -2832387.1301973 ,  4187074.69242769),\n",
       "     ( 3522992.99930609, -2535709.70183047,  4378717.09915902),\n",
       "     ( 3676055.92073082, -2224092.29307017,  4555687.32652965),\n",
       "     ( 3816863.83002179, -1898789.67723818,  4717272.77789443),\n",
       "     ( 3944849.74342563, -1561111.73315474,  4862822.80567139),\n",
       "     ( 4059498.3068408 , -1212418.17071959,  4991751.33126953),\n",
       "     ( 4160347.87096699,  -854113.05583926,  5103539.20502086),\n",
       "     ( 4246992.35020366,  -487639.1567499 ,  5197736.29661259),\n",
       "     ( 4319082.85781357,  -114472.13449843,  5273963.30760317),\n",
       "     ( 4376329.11076646,   263885.39902353,  5331913.29872319),\n",
       "     ( 4418500.59860641,   645909.93156746,  5371352.9258115 ),\n",
       "     ( 4445427.51163604,  1030063.18517389,  5392123.37940976),\n",
       "     ( 4457001.42468026,  1414798.31027502,  5394141.02423216),\n",
       "     ( 4453175.73367619,  1798566.11431213,  5377397.73593511),\n",
       "     ( 4433965.84333125,  2179821.29978657,  5341960.93383113),\n",
       "     ( 4399449.10509385,  2557028.68662823,  5287973.3094151 ),\n",
       "     ( 4349764.5056864 ,  2928669.39382322,  5215652.25179597),\n",
       "     ( 4285112.10745483,  3293246.95541206,  5125288.97234745),\n",
       "     ( 4205752.24278819,  3649293.34622947,  5017247.33210278),\n",
       "     ( 4112004.4658519 ,  3995374.89312403,  4891962.37661459),\n",
       "     ( 4004246.26585601,  4330098.04785371,  4749938.58418007),\n",
       "     ( 3882911.5470393 ,  4652114.99841287,  4591747.83448497),\n",
       "     ( 3748488.8814901 ,  4960129.09619558,  4418027.10584581),\n",
       "     ( 3601519.54183896,  5252900.07714158,  4229475.91032325),\n",
       "     ( 3442595.32174469,  5529249.05584243,  4026853.47703359),\n",
       "     ( 3272356.15295039,  5788063.27249641,  3810975.69500149),\n",
       "     ( 3091487.52850388,  6028300.5736    ,  3582711.8278624 ),\n",
       "     ( 2900717.74251935,  6248993.60833192,  3342981.01364496),\n",
       "     ( 2700814.95759395,  6449253.72373352,  3092748.56372657),\n",
       "     ( 2492584.11168818,  6628274.54300061,  2833022.07586507),\n",
       "     ( 2276863.67692465,  6785335.21247835,  2564847.37695817),\n",
       "     ( 2054522.28335701,  6919803.30428428,  2289304.31186785),\n",
       "     ( 1826455.22130318,  7031137.36287238,  2007502.39526602),\n",
       "     ( 1593580.83632716,  7118889.08528339,  1720576.34401057),\n",
       "     ( 1356836.83138568,  7182705.1263026 ,  1429681.50804115),\n",
       "     ( 1117176.49102934,  7222328.52125627,  1135989.21819269),\n",
       "     (  875564.8428621 ,  7237599.72071777,   840682.06965953),\n",
       "     (  632974.77171589,  7228457.23295674,   544949.16010209),\n",
       "     (  390383.10218643,  7194937.87154461,   249981.30156992),\n",
       "     (  148766.66530578,  7137176.60711933,   -43033.77447765),\n",
       "     (  -90901.63481173,  7055406.02390628,  -332916.19974719),\n",
       "     ( -327656.73851109,  6949955.3831836 ,  -618498.72002447),\n",
       "     ( -560545.31655078,  6821249.29746338,  -898631.39529475),\n",
       "     ( -788629.6088237 ,  6669806.02072679, -1172186.23014587),\n",
       "     (-1010991.20038577,  6496235.36159829, -1438061.71580734),\n",
       "     (-1226734.71958891,  6301236.2278615 , -1695187.26553751),\n",
       "     (-1434991.44342664,  6085593.81220424, -1942527.5254985 ),\n",
       "     (-1634922.79557497,  5850176.43052472, -2179086.54376063),\n",
       "     (-1825723.72304331,  5595932.02552987, -2403911.78064938),\n",
       "     (-2006625.93783872,  5323884.34970467, -2616097.94428644),\n",
       "     (-2176901.0105906 ,  5035128.84302204, -2814790.63588071),\n",
       "     (-2335863.30367845,  4730828.22199299, -2999189.79009042),\n",
       "     (-2482872.73205275,  4412207.79781743, -3168552.89660411),\n",
       "     (-2617337.34063154,  4080550.54248835, -3322197.98996752),\n",
       "     (-2738715.68789448,  3737191.92271665, -3459506.39561773),\n",
       "     (-2846519.02607691,  3383514.5224778 , -3579925.22106738),\n",
       "     (-2940313.26918445,  3020942.47583441, -3682969.58220739),\n",
       "     (-3019720.7409042 ,  2650935.73245077, -3768224.55576435),\n",
       "     (-3084421.69537394,  2274984.17889086, -3835346.85004997),\n",
       "     (-3134155.60468581,  1894601.63937118, -3884066.18727553),\n",
       "     (-3168722.2079403 ,  1511319.78012452, -3914186.39186524),\n",
       "     (-3187982.31762614,  1126681.94192143, -3925586.18038593),\n",
       "     (-3191858.38007938,   742236.92558056, -3918219.64991273),\n",
       "     (-3180334.78776455,   359532.7554954 , -3892116.46286387),\n",
       "     (-3153457.94212073,   -19889.55371422, -3847381.72756065),\n",
       "     (-3111336.06671929,  -394502.20232389, -3784195.57499327),\n",
       "     (-3054138.77148585,  -762796.75741475, -3702812.43349699),\n",
       "     (-2982096.36974086, -1123290.2268008 , -3603560.00425893),\n",
       "     (-2895498.95080924, -1474531.03051475, -3486837.94178109),\n",
       "     (-2794695.211933  , -1815104.84580831, -3353116.24461275),\n",
       "     (-2680091.05419056, -2143640.30213064, -3202933.36283218),\n",
       "     (-2552147.94807629, -2458814.50315374, -3036894.02989818),\n",
       "     (-2411381.07532185, -2759358.35360877, -2855666.82760196),\n",
       "     (-2258357.25444097, -3044061.66948511, -2659981.4939241 ),\n",
       "     (-2093692.65835156, -3311778.05101395, -2450625.98463745),\n",
       "     (-1918050.33326477, -3561429.49881565, -2228443.30048721)]>>"
      ]
     },
     "execution_count": 42,
     "metadata": {},
     "output_type": "execute_result"
    }
   ],
   "source": [
    "Samples.get_xyz"
   ]
  },
  {
   "cell_type": "code",
   "execution_count": 43,
   "metadata": {},
   "outputs": [],
   "source": []
  },
  {
   "cell_type": "code",
   "execution_count": 44,
   "metadata": {},
   "outputs": [
    {
     "data": {
      "text/plain": [
       "[<matplotlib.lines.Line2D at 0x7fdfd35f9518>,\n",
       " <matplotlib.lines.Line2D at 0x7fdfd35faf98>]"
      ]
     },
     "execution_count": 44,
     "metadata": {},
     "output_type": "execute_result"
    },
    {
     "data": {
      "image/png": "[encoded data removed]",
      "text/plain": [
       "<matplotlib.figure.Figure at 0x7fe0145b9588>"
      ]
     },
     "metadata": {
      "needs_background": "light"
     },
     "output_type": "display_data"
    }
   ],
   "source": [
    "plot(TestOrbit)"
   ]
  },
  {
   "cell_type": "code",
   "execution_count": 48,
   "metadata": {},
   "outputs": [
    {
     "name": "stdout",
     "output_type": "stream",
     "text": [
      "Orbit fails. crash\n"
     ]
    }
   ],
   "source": [
    "# If the perigee is less than Earth Radius.\n",
    "if( TestOrbit.a * (1-TestOrbit.ecc) < Earth.R):\n",
    "    print(\"Orbit fails. crash\")"
   ]
  },
  {
   "cell_type": "code",
   "execution_count": 49,
   "metadata": {},
   "outputs": [
    {
     "data": {
      "text/plain": [
       "array([0.63403619, 0.02206028, 0.77298865])"
      ]
     },
     "execution_count": 49,
     "metadata": {},
     "output_type": "execute_result"
    }
   ],
   "source": [
    "GS_av_unitary"
   ]
  },
  {
   "cell_type": "code",
   "execution_count": 50,
   "metadata": {},
   "outputs": [],
   "source": [
    "z_unitary = np.array([0, 0, 1])"
   ]
  },
  {
   "cell_type": "code",
   "execution_count": 51,
   "metadata": {},
   "outputs": [
    {
     "data": {
      "text/plain": [
       "array([0.63403619, 0.02206028, 0.77298865])"
      ]
     },
     "execution_count": 51,
     "metadata": {},
     "output_type": "execute_result"
    }
   ],
   "source": [
    "GS_av_unitary.view()"
   ]
  },
  {
   "cell_type": "code",
   "execution_count": 52,
   "metadata": {},
   "outputs": [
    {
     "data": {
      "text/plain": [
       "array([ 0.02206028, -0.63403619,  0.        ])"
      ]
     },
     "execution_count": 52,
     "metadata": {},
     "output_type": "execute_result"
    }
   ],
   "source": [
    "np.cross(GS_av_unitary, z_unitary)"
   ]
  },
  {
   "cell_type": "code",
   "execution_count": 53,
   "metadata": {},
   "outputs": [],
   "source": [
    "vec_in_plane = np.cross(GS_av_unitary, z_unitary)"
   ]
  },
  {
   "cell_type": "code",
   "execution_count": 58,
   "metadata": {},
   "outputs": [],
   "source": [
    "v_1 = vec_in_plane / norm( list(vec_in_plane) )"
   ]
  },
  {
   "cell_type": "code",
   "execution_count": 63,
   "metadata": {},
   "outputs": [
    {
     "data": {
      "text/plain": [
       "array([0.63403619, 0.02206028, 0.77298865])"
      ]
     },
     "execution_count": 63,
     "metadata": {},
     "output_type": "execute_result"
    }
   ],
   "source": [
    "GS_av_unitary"
   ]
  },
  {
   "cell_type": "code",
   "execution_count": 60,
   "metadata": {},
   "outputs": [
    {
     "data": {
      "text/plain": [
       "array([ 0.03477237, -0.99939526,  0.        ])"
      ]
     },
     "execution_count": 60,
     "metadata": {},
     "output_type": "execute_result"
    }
   ],
   "source": [
    "v_1"
   ]
  },
  {
   "cell_type": "code",
   "execution_count": 64,
   "metadata": {},
   "outputs": [],
   "source": [
    "v_2 = np.cross( GS_av_unitary, v_1 )"
   ]
  },
  {
   "cell_type": "code",
   "execution_count": 65,
   "metadata": {},
   "outputs": [
    {
     "data": {
      "text/plain": [
       "array([ 0.77252119,  0.02687864, -0.63441985])"
      ]
     },
     "execution_count": 65,
     "metadata": {},
     "output_type": "execute_result"
    }
   ],
   "source": [
    "v_2"
   ]
  },
  {
   "cell_type": "code",
   "execution_count": 68,
   "metadata": {},
   "outputs": [
    {
     "data": {
      "text/plain": [
       "0.9999999999999996"
      ]
     },
     "execution_count": 68,
     "metadata": {},
     "output_type": "execute_result"
    }
   ],
   "source": [
    "np.cross(v_2, GS_av_unitary).dot(v_1)"
   ]
  },
  {
   "cell_type": "markdown",
   "metadata": {},
   "source": [
    "The plane is defined by the vectors v_1 and v_2. The point R_0 is in the plane."
   ]
  },
  {
   "cell_type": "code",
   "execution_count": 69,
   "metadata": {},
   "outputs": [
    {
     "data": {
      "text/plain": [
       "-3.469446951953614e-18"
      ]
     },
     "execution_count": 69,
     "metadata": {},
     "output_type": "execute_result"
    }
   ],
   "source": [
    "v_1.dot(v_2)"
   ]
  },
  {
   "cell_type": "code",
   "execution_count": 71,
   "metadata": {},
   "outputs": [
    {
     "data": {
      "text/plain": [
       "-5.551115123125783e-17"
      ]
     },
     "execution_count": 71,
     "metadata": {},
     "output_type": "execute_result"
    }
   ],
   "source": [
    "v_2.dot(GS_av_unitary)"
   ]
  },
  {
   "cell_type": "code",
   "execution_count": 72,
   "metadata": {},
   "outputs": [
    {
     "data": {
      "text/plain": [
       "0.0"
      ]
     },
     "execution_count": 72,
     "metadata": {},
     "output_type": "execute_result"
    }
   ],
   "source": [
    "GS_av_unitary.dot(v_1)"
   ]
  },
  {
   "cell_type": "code",
   "execution_count": 80,
   "metadata": {},
   "outputs": [],
   "source": [
    "\n",
    "r = random.random()\n"
   ]
  },
  {
   "cell_type": "code",
   "execution_count": 81,
   "metadata": {},
   "outputs": [
    {
     "name": "stdout",
     "output_type": "stream",
     "text": [
      "0.985498820590348 -0.16968227548872938\n"
     ]
    }
   ],
   "source": [
    "print( np.sin( 2 * np.pi * r))"
   ]
  },
  {
   "cell_type": "code",
   "execution_count": 85,
   "metadata": {},
   "outputs": [],
   "source": [
    "radius = 600 #(km)\n",
    "\n",
    "u_1 = np.cos( 2 * np.pi * r) * radius\n",
    "u_2 = np.sin( 2 * np.pi * r) * radius\n",
    "u_3 = 7000 # (km)\n",
    "\n",
    "\n",
    "speed = 10 #(km/s)\n",
    "\n",
    "nu_1 = - np.cos( 2 * np.pi * r) * speed\n",
    "nu_2 = - np.sin( 2 * np.pi * r) * speed\n",
    "nu_3 = 0 "
   ]
  },
  {
   "cell_type": "code",
   "execution_count": 86,
   "metadata": {},
   "outputs": [
    {
     "data": {
      "text/plain": [
       "[591.2992923542088, -101.80936529323763, 7000]"
      ]
     },
     "execution_count": 86,
     "metadata": {},
     "output_type": "execute_result"
    }
   ],
   "source": [
    "[u_1, u_2, u_3]"
   ]
  },
  {
   "cell_type": "code",
   "execution_count": 87,
   "metadata": {},
   "outputs": [
    {
     "data": {
      "text/plain": [
       "array([0.63403619, 0.02206028, 0.77298865])"
      ]
     },
     "execution_count": 87,
     "metadata": {},
     "output_type": "execute_result"
    }
   ],
   "source": [
    "GS_av_unitary"
   ]
  },
  {
   "cell_type": "code",
   "execution_count": 115,
   "metadata": {},
   "outputs": [],
   "source": [
    "# Warning: The arguments of np.arctan2 are:\n",
    "# arctan2( Ycoord , Xcoord )\n",
    "phi = np.arctan2(GS_av_unitary[1], GS_av_unitary[0])"
   ]
  },
  {
   "cell_type": "code",
   "execution_count": 184,
   "metadata": {},
   "outputs": [],
   "source": [
    "rho = ( GS_av_unitary[0]**2 + GS_av_unitary[1]**2 )**0.5\n",
    "\n",
    "theta = np.arctan( GS_av_unitary[2]/ rho )"
   ]
  },
  {
   "cell_type": "code",
   "execution_count": 185,
   "metadata": {},
   "outputs": [
    {
     "name": "stdout",
     "output_type": "stream",
     "text": [
      "[[ 0.63441985 -0.77298865  0.        ]\n",
      " [ 0.54658552  0.44860258 -0.70710678]\n",
      " [ 0.54658552  0.44860258  0.70710678]]\n"
     ]
    }
   ],
   "source": [
    "#theta  = np.pi/2   # Angle (in radians) of rotation around the z axis\n",
    "#phi    = np.pi/4   # Angle (in radians) of rotation around the x axis\n",
    "#v_test = np.array([0,0,1])\n",
    "\n",
    "\n",
    "R_z = np.array([[np.cos(theta), -np.sin(theta), 0],\n",
    "                [np.sin(theta),  np.cos(theta), 0],\n",
    "                [            0,              0, 1]])\n",
    "\n",
    "R_x = np.array([[ 1,           0,            0],\n",
    "                [ 0, np.cos(phi), -np.sin(phi)],\n",
    "                [ 0, np.sin(phi),  np.cos(phi)]])\n",
    "\n",
    "ROTATION = np.matmul(R_x, R_z)\n",
    "\n",
    "print(ROTATION)\n",
    "\n",
    "#v_final = ROTATION.dot(v_test)\n",
    "    \n",
    "#print( v_final)\n",
    "#print( norm(v_final))"
   ]
  },
  {
   "cell_type": "code",
   "execution_count": null,
   "metadata": {},
   "outputs": [],
   "source": []
  }
 ],
 "metadata": {
  "kernelspec": {
   "display_name": "Python 3",
   "language": "python",
   "name": "python3"
  },
  "language_info": {
   "codemirror_mode": {
    "name": "ipython",
    "version": 3
   },
   "file_extension": ".py",
   "mimetype": "text/x-python",
   "name": "python",
   "nbconvert_exporter": "python",
   "pygments_lexer": "ipython3",
   "version": "3.6.5"
  }
 },
 "nbformat": 4,
 "nbformat_minor": 2
}
