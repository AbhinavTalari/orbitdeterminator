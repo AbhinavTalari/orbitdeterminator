{
 "cells": [
  {
   "cell_type": "markdown",
   "metadata": {},
   "source": [
    "# Running Monte Carlo over real files"
   ]
  },
  {
   "cell_type": "code",
   "execution_count": 1,
   "metadata": {},
   "outputs": [],
   "source": [
    "import numpy as np\n",
    "import matplotlib.pyplot as plt\n",
    "import random \n",
    "import urllib.request\n",
    "import json\n",
    "from   collections import OrderedDict\n",
    "\n",
    "import astropy.coordinates as coord\n",
    "import astropy.units as u\n",
    "from   astropy import time as t\n",
    "\n",
    "import poliastro\n",
    "from poliastro.bodies   import Earth\n",
    "from poliastro.twobody  import Orbit\n",
    "from poliastro.plotting import plot\n",
    "\n",
    "import emcee"
   ]
  },
  {
   "cell_type": "markdown",
   "metadata": {},
   "source": [
    "# Loading multiple files with a SINGLE satellite"
   ]
  },
  {
   "cell_type": "code",
   "execution_count": 2,
   "metadata": {},
   "outputs": [],
   "source": [
    "c = 299792.458  # km/s\n",
    "\n",
    "def GetDopplerShift(f_c, f_m):\n",
    "    DS = (f_m - f_c)/f_c\n",
    "    return DS\n",
    "    \n",
    "def get_v_radial(f_c, f_m):\n",
    "    v_r = c * GetDopplerShift(f_c, f_m)\n",
    "    return v_r"
   ]
  },
  {
   "cell_type": "code",
   "execution_count": 3,
   "metadata": {},
   "outputs": [],
   "source": [
    "file_list = ['first_test/001_20190721T052832_jena.json',\n",
    "             'first_test/001_20190721T052821_leipzig.json',\n",
    "             'first_test/001_20190721T052801_settrup.json',\n",
    "             'first_test/001_20190721T052806_stuttgart.json']\n",
    "\n",
    "N = len(file_list)"
   ]
  },
  {
   "cell_type": "code",
   "execution_count": 4,
   "metadata": {},
   "outputs": [],
   "source": [
    "raw_data = []\n",
    "\n",
    "for filename in file_list:\n",
    "    with open( filename, 'r') as myfile:\n",
    "        data=myfile.read()\n",
    "        raw_data.append(data)"
   ]
  },
  {
   "cell_type": "code",
   "execution_count": 5,
   "metadata": {},
   "outputs": [],
   "source": [
    "json_files = []\n",
    "\n",
    "for i in range(N):\n",
    "    obj = json.loads(raw_data[i])\n",
    "    json_files.append(obj)"
   ]
  },
  {
   "cell_type": "code",
   "execution_count": 6,
   "metadata": {},
   "outputs": [],
   "source": [
    "gs_geodetic_locs = []\n",
    "\n",
    "for i in range(N):\n",
    "    gs_geodetic_locs.append( json_files[i]['groundstation'])\n"
   ]
  },
  {
   "cell_type": "markdown",
   "metadata": {},
   "source": [
    "# Get Doppler Shift data from F_c and F_m"
   ]
  },
  {
   "cell_type": "code",
   "execution_count": 7,
   "metadata": {},
   "outputs": [],
   "source": [
    "f_c = obj['data'][0]['channel_f_center']"
   ]
  },
  {
   "cell_type": "code",
   "execution_count": 8,
   "metadata": {},
   "outputs": [
    {
     "name": "stdout",
     "output_type": "stream",
     "text": [
      "Sat ID: 1\n",
      "Stream length: 396\n",
      "Sat ID: 1\n",
      "Stream length: 401\n",
      "Sat ID: 1\n",
      "Stream length: 389\n",
      "Sat ID: 1\n",
      "Stream length: 392\n"
     ]
    }
   ],
   "source": [
    "tau = []\n",
    "DS = []\n",
    "\n",
    "for i in range(N):\n",
    "    \n",
    "    print(\"Sat ID: {}\".format(json_files[i]['data'][0]['sat_id']))\n",
    "    stream = json_files[i]['data'][0]['stream']\n",
    "    \n",
    "    aux_tau = []\n",
    "    aux_DS   = []\n",
    "    \n",
    "    for s in stream:\n",
    "        aux_tau.append( float(s['time_system']))\n",
    "        aux_DS.append( GetDopplerShift(f_c, float(s['f']) ))\n",
    "\n",
    "    print(\"Stream length: {}\".format(len(aux_DS)))\n",
    "    tau.append(aux_tau)\n",
    "    DS.append(aux_DS)\n",
    "\n",
    "        "
   ]
  },
  {
   "cell_type": "code",
   "execution_count": 120,
   "metadata": {},
   "outputs": [
    {
     "name": "stdout",
     "output_type": "stream",
     "text": [
      "396\n",
      "401\n",
      "389\n",
      "392\n",
      "Total number of Measurements M = 1578\n"
     ]
    }
   ],
   "source": [
    "M = 0\n",
    "\n",
    "for i in range(N):\n",
    "    print(len(tau[i]))\n",
    "    M += len(tau[i])\n",
    "    \n",
    "print('Total number of Measurements M = {}'.format(M))"
   ]
  },
  {
   "cell_type": "markdown",
   "metadata": {},
   "source": [
    "### Doppler Shift measured by Ground Stations"
   ]
  },
  {
   "cell_type": "code",
   "execution_count": 10,
   "metadata": {},
   "outputs": [
    {
     "data": {
      "image/png": "[encoded data removed]",
      "text/plain": [
       "<matplotlib.figure.Figure at 0x7f729284e358>"
      ]
     },
     "metadata": {
      "needs_background": "light"
     },
     "output_type": "display_data"
    }
   ],
   "source": [
    "fig = plt.figure(figsize=(6,4))\n",
    "plt.axhline(0, c=\"k\", lw=1)\n",
    "\n",
    "for i in range(N):\n",
    "    \n",
    "    label = gs_geodetic_locs[i]['gs_name']\n",
    "    plt.scatter(tau[i], DS[i], s=2, label=label)\n",
    "    \n",
    "plt.ylim(-2e-5,3e-5)\n",
    "plt.xlabel(\"System Time (Unix time in seconds)\")\n",
    "plt.ylabel(\"Doppler Shift (Dimensionless)\")\n",
    "plt.legend(loc=0)\n",
    "\n",
    "plt.tight_layout()\n",
    "plt.savefig(\"first_test/measured_doppler_shift.png\")"
   ]
  },
  {
   "cell_type": "markdown",
   "metadata": {},
   "source": [
    "### Calculating GS positions and velocities in the GeoCentric Reference System"
   ]
  },
  {
   "cell_type": "code",
   "execution_count": 11,
   "metadata": {},
   "outputs": [
    {
     "data": {
      "text/plain": [
       "[{'gs_id': None,\n",
       "  'gs_name': 'jena',\n",
       "  'gs_lon': 11.56886,\n",
       "  'gs_lat': 50.91847,\n",
       "  'gs_alt': 130.0},\n",
       " {'gs_id': None,\n",
       "  'gs_name': 'leipzig',\n",
       "  'gs_lon': 12.338261,\n",
       "  'gs_lat': 51.336569,\n",
       "  'gs_alt': 80.0},\n",
       " {'gs_id': None,\n",
       "  'gs_name': 'settrup',\n",
       "  'gs_lon': 7.6289,\n",
       "  'gs_lat': 52.49356,\n",
       "  'gs_alt': 40.0},\n",
       " {'gs_id': None,\n",
       "  'gs_name': 'stuttgart',\n",
       "  'gs_lon': 9.2356,\n",
       "  'gs_lat': 48.777,\n",
       "  'gs_alt': 230.0}]"
      ]
     },
     "execution_count": 11,
     "metadata": {},
     "output_type": "execute_result"
    }
   ],
   "source": [
    "gs_geodetic_locs"
   ]
  },
  {
   "cell_type": "code",
   "execution_count": 12,
   "metadata": {},
   "outputs": [],
   "source": [
    "GS = []\n",
    "\n",
    "for i in range(N):\n",
    "    lon = gs_geodetic_locs[i]['gs_lon']\n",
    "    lat = gs_geodetic_locs[i]['gs_lat']\n",
    "    alt = gs_geodetic_locs[i]['gs_alt']\n",
    "    \n",
    "    gs = coord.EarthLocation(lon, lat, alt)\n",
    "    \n",
    "    GS.append(gs)"
   ]
  },
  {
   "cell_type": "code",
   "execution_count": 13,
   "metadata": {},
   "outputs": [],
   "source": [
    "tau_astropytime = []\n",
    "\n",
    "for i in range(N):\n",
    "    aux = []\n",
    "    for aux_t in tau[i]:\n",
    "        theta = t.Time(aux_t, format='unix', scale='utc')\n",
    "        aux.append(theta)\n",
    "    tau_astropytime.append(aux)"
   ]
  },
  {
   "cell_type": "markdown",
   "metadata": {},
   "source": [
    "In the next cell we calculate the velocity and the position of each ground station at each moment of measurement. It takes around 2 minutes per 400 observations.\n",
    "In this case around 8 minutes per four stations (~1600 observations)"
   ]
  },
  {
   "cell_type": "code",
   "execution_count": 14,
   "metadata": {},
   "outputs": [
    {
     "name": "stdout",
     "output_type": "stream",
     "text": [
      "iteration 0 starts at time 2019-08-19 18:33:50.964830\n",
      "Downloading http://maia.usno.navy.mil/ser7/finals2000A.all [Done]\n",
      "iteration 0 ends at time 2019-08-19 18:35:58.622878\n",
      "iteration 1 starts at time 2019-08-19 18:35:58.623683\n",
      "iteration 1 ends at time 2019-08-19 18:37:46.554634\n",
      "iteration 2 starts at time 2019-08-19 18:37:46.555108\n",
      "iteration 2 ends at time 2019-08-19 18:39:48.836496\n",
      "iteration 3 starts at time 2019-08-19 18:39:48.836991\n",
      "iteration 3 ends at time 2019-08-19 18:41:50.727775\n"
     ]
    }
   ],
   "source": [
    "GS_gcrs_positions = []\n",
    "GS_gcrs_velocities = []\n",
    "\n",
    "for  i in range(N):\n",
    "    aux_pos = []\n",
    "    aux_vel = []\n",
    "    \n",
    "    print(\"iteration {} starts at time {}\".format(i, t.Time.now()))\n",
    "    for t0 in tau_astropytime[i]:\n",
    "        p,v = GS[0].get_gcrs_posvel(obstime= t0)\n",
    "        aux_pos.append(p)\n",
    "        aux_vel.append(v)\n",
    "    \n",
    "    print(\"iteration {} ends at time {}\".format(i, t.Time.now()))\n",
    "    \n",
    "    GS_gcrs_positions.append(aux_pos)\n",
    "    GS_gcrs_velocities.append(aux_vel)"
   ]
  },
  {
   "cell_type": "markdown",
   "metadata": {},
   "source": [
    "### How it looks:"
   ]
  },
  {
   "cell_type": "code",
   "execution_count": 15,
   "metadata": {},
   "outputs": [
    {
     "data": {
      "text/plain": [
       "[<CartesianRepresentation (x, y, z) in m\n",
       "     (4035733.15241229, 145414.66606224, 4920400.42424484)>,\n",
       " <CartesianRepresentation (x, y, z) in m\n",
       "     (4035722.53151958, 145708.28469782, 4920400.44934099)>,\n",
       " <CartesianRepresentation (x, y, z) in m\n",
       "     (4035711.88928253, 146001.9025695, 4920400.47448436)>]"
      ]
     },
     "execution_count": 15,
     "metadata": {},
     "output_type": "execute_result"
    }
   ],
   "source": [
    "GS_gcrs_positions[0][:3]"
   ]
  },
  {
   "cell_type": "code",
   "execution_count": 16,
   "metadata": {},
   "outputs": [
    {
     "data": {
      "text/plain": [
       "[<CartesianRepresentation (x, y, z) in m / s\n",
       "     (-10.61021292, 293.61897176, 0.02508017)>,\n",
       " <CartesianRepresentation (x, y, z) in m / s\n",
       "     (-10.63158776, 293.61823837, 0.02513502)>,\n",
       " <CartesianRepresentation (x, y, z) in m / s\n",
       "     (-10.65306942, 293.61744395, 0.02515935)>]"
      ]
     },
     "execution_count": 16,
     "metadata": {},
     "output_type": "execute_result"
    }
   ],
   "source": [
    "GS_gcrs_velocities[0][:3]"
   ]
  },
  {
   "cell_type": "markdown",
   "metadata": {},
   "source": [
    "### Now we have the Ground Station location in XYZ in the Geocentric Inertial System.\n",
    "\n",
    "Regading, this is the System where Satellite coordinates are measured."
   ]
  },
  {
   "cell_type": "code",
   "execution_count": 17,
   "metadata": {},
   "outputs": [
    {
     "name": "stdout",
     "output_type": "stream",
     "text": [
      "396 396 396\n",
      "401 401 401\n",
      "389 389 389\n",
      "392 392 392\n"
     ]
    }
   ],
   "source": [
    "for i in range(N):\n",
    "    print(len(GS_gcrs_positions[i]), len(GS_gcrs_velocities[i]), len(tau_astropytime[i]))"
   ]
  },
  {
   "cell_type": "markdown",
   "metadata": {},
   "source": [
    "### Initial position guess:\n",
    "\n",
    "Well, let's try an XYZ-VxVyVz approximation to the orbital parameters, instead the classic elements.\n",
    "\n",
    "1. Find average location of Ground Stations: GS_av\n",
    "2. Extend this vector into space something like 500 km: R0\n",
    "3. Find some points in a circle into a radius of 1000 km. The circle is centered at R0, in the plane defined by the vector GS_av\n",
    "4. Define initial velocities towards R0 (or something tangential to Earths Surface).\n"
   ]
  },
  {
   "cell_type": "code",
   "execution_count": 18,
   "metadata": {},
   "outputs": [],
   "source": [
    "GS_0x = []\n",
    "GS_0y = []\n",
    "GS_0z = []\n",
    "\n",
    "for i in range(N):\n",
    "    x, y, z = GS_gcrs_positions[i][0].xyz\n",
    "    \n",
    "    GS_0x.append(x.value)\n",
    "    GS_0y.append(y.value)\n",
    "    GS_0z.append(z.value)\n",
    "    \n",
    "GS_0xav = np.mean(GS_0x)\n",
    "GS_0yav = np.mean(GS_0y)\n",
    "GS_0zav = np.mean(GS_0z)"
   ]
  },
  {
   "cell_type": "code",
   "execution_count": 19,
   "metadata": {},
   "outputs": [
    {
     "data": {
      "text/plain": [
       "<CartesianRepresentation (x, y, z) in m\n",
       "    (4035733.15241229, 145414.66606224, 4920400.42424484)>"
      ]
     },
     "execution_count": 19,
     "metadata": {},
     "output_type": "execute_result"
    }
   ],
   "source": [
    "GS_gcrs_positions[0][0]"
   ]
  },
  {
   "cell_type": "code",
   "execution_count": 20,
   "metadata": {},
   "outputs": [
    {
     "name": "stdout",
     "output_type": "stream",
     "text": [
      "(4035908.8206081325, 140422.9764828612, 4920400.006621368)\n"
     ]
    }
   ],
   "source": [
    "GS_av = (GS_0xav, GS_0yav, GS_0zav)\n",
    "print(GS_av)"
   ]
  },
  {
   "cell_type": "markdown",
   "metadata": {},
   "source": [
    "### Generate the initial positions of Random Walkers"
   ]
  },
  {
   "cell_type": "code",
   "execution_count": 21,
   "metadata": {},
   "outputs": [],
   "source": [
    "def norm(A_list):\n",
    "    A = 0\n",
    "    for a in A_list:\n",
    "        A += a**2\n",
    "    return A**0.5"
   ]
  },
  {
   "cell_type": "markdown",
   "metadata": {},
   "source": [
    "This is the average position of the Ground Stations at the first measurement."
   ]
  },
  {
   "cell_type": "code",
   "execution_count": 22,
   "metadata": {},
   "outputs": [],
   "source": [
    "GS_av_unitary = GS_av / norm(GS_av)"
   ]
  },
  {
   "cell_type": "markdown",
   "metadata": {},
   "source": [
    "This is a point 500 kilometers above the GS_average point."
   ]
  },
  {
   "cell_type": "code",
   "execution_count": 23,
   "metadata": {},
   "outputs": [
    {
     "data": {
      "text/latex": [
       "$6878136.6 \\; \\mathrm{m}$"
      ],
      "text/plain": [
       "<Quantity 6878136.6 m>"
      ]
     },
     "execution_count": 23,
     "metadata": {},
     "output_type": "execute_result"
    }
   ],
   "source": [
    "H_0 = 500 * u.km\n",
    "\n",
    "Earth.R + H_0"
   ]
  },
  {
   "cell_type": "code",
   "execution_count": 24,
   "metadata": {},
   "outputs": [
    {
     "name": "stdout",
     "output_type": "stream",
     "text": [
      "[4360987.55773497  151733.56992976 5316721.5023261 ] m\n"
     ]
    }
   ],
   "source": [
    "R0 = (Earth.R + H_0) * GS_av_unitary\n",
    "print(R0)"
   ]
  },
  {
   "cell_type": "markdown",
   "metadata": {},
   "source": [
    "And a random initial velocity, just to test the Orbit Generation from vectors"
   ]
  },
  {
   "cell_type": "code",
   "execution_count": 25,
   "metadata": {},
   "outputs": [],
   "source": [
    "GM_E = poliastro.constants.GM_earth\n",
    "\n",
    "V0 = (GM_E / (Earth.R + H_0))**0.5"
   ]
  },
  {
   "cell_type": "code",
   "execution_count": 26,
   "metadata": {
    "scrolled": true
   },
   "outputs": [
    {
     "data": {
      "text/latex": [
       "$7612.6084 \\; \\mathrm{\\frac{m}{s}}$"
      ],
      "text/plain": [
       "<Quantity 7612.60839458 m / s>"
      ]
     },
     "execution_count": 26,
     "metadata": {},
     "output_type": "execute_result"
    }
   ],
   "source": [
    "V0"
   ]
  },
  {
   "cell_type": "code",
   "execution_count": 27,
   "metadata": {},
   "outputs": [
    {
     "data": {
      "text/plain": [
       "7612.6083945805685"
      ]
     },
     "execution_count": 27,
     "metadata": {},
     "output_type": "execute_result"
    }
   ],
   "source": [
    "V0.value"
   ]
  },
  {
   "cell_type": "markdown",
   "metadata": {},
   "source": [
    "# Orbit generated from vectors"
   ]
  },
  {
   "cell_type": "code",
   "execution_count": 28,
   "metadata": {},
   "outputs": [],
   "source": [
    "nwalkers = 20\n",
    "ndim = 6\n",
    "MCMC_steps = 50"
   ]
  },
  {
   "cell_type": "code",
   "execution_count": 156,
   "metadata": {},
   "outputs": [],
   "source": [
    "## To generate circular orbits with initial positions above the first measurement.\n",
    "\n",
    "z_unitary = np.array([0, 0, 1])\n",
    "vec_in_plane = np.cross(z_unitary, GS_av_unitary)\n",
    "v_1 = vec_in_plane / norm( list(vec_in_plane) )\n",
    "v_2 = np.cross( GS_av_unitary, v_1 )\n",
    "\n",
    "\n",
    "DeltaR0 = 100\n",
    "DeltaV0 = 5\n",
    "\n",
    "def init_R0s(R0, nwalkers):\n",
    "    R0x = R0[0]\n",
    "    R0y = R0[1]\n",
    "    R0z = R0[2]\n",
    "      \n",
    "    retx = np.random.normal(R0x, DeltaR0, nwalkers)\n",
    "    rety = np.random.normal(R0y, DeltaR0, nwalkers)\n",
    "    retz = np.random.normal(R0z, DeltaR0, nwalkers)\n",
    "    \n",
    "    ret = np.array([retx, rety, retz])\n",
    "    return ret.T\n",
    "\n",
    "def init_V0s(V1, V2, nwalkers):\n",
    "    \n",
    "    theta = np.random.random(nwalkers)\n",
    "    \n",
    "    A1 = V1 * np.ones([nwalkers, 3]) * V0.value * (np.ones([nwalkers, 3]).T * np.cos( 2 * np.pi * theta) ).T\n",
    "    A2 = V2 * np.ones([nwalkers, 3]) * V0.value * (np.ones([nwalkers, 3]).T * np.sin( 2 * np.pi * theta) ).T\n",
    "    \n",
    "    ret =  A1 + A2\n",
    "    \n",
    "    return ret\n",
    "    "
   ]
  },
  {
   "cell_type": "code",
   "execution_count": null,
   "metadata": {},
   "outputs": [],
   "source": []
  },
  {
   "cell_type": "markdown",
   "metadata": {},
   "source": [
    "# Likelihood"
   ]
  },
  {
   "cell_type": "code",
   "execution_count": 157,
   "metadata": {},
   "outputs": [],
   "source": [
    "c = 299792.458 * u.km / u.s\n",
    "\n",
    "def redshift(f_0, Vradial ):\n",
    "    \n",
    "    return f_0 * (1 + Vradial / c)"
   ]
  },
  {
   "cell_type": "code",
   "execution_count": 158,
   "metadata": {
    "scrolled": true
   },
   "outputs": [
    {
     "data": {
      "text/plain": [
       "array([[ 3951.62484597, -5732.74708619, -3077.67420168],\n",
       "       [-1996.0643338 ,  7205.41510181,  1431.61690237],\n",
       "       [ -753.58284906, -7529.27861709,   832.99637758],\n",
       "       [ 5763.38170487, -1685.14946201, -4679.26374379],\n",
       "       [-1515.99727098,  7388.3178482 ,  1032.62685304],\n",
       "       [ 3951.9363739 ,  5547.52025024, -3399.85654683],\n",
       "       [-5411.30438992,  3122.80395806,  4349.4467244 ],\n",
       "       [ 4072.29617553, -5590.28030443, -3180.71950129],\n",
       "       [ 2684.94031932,  6709.15634188, -2393.76758087],\n",
       "       [-5773.94451762, -1348.17057951,  4774.49550897],\n",
       "       [-5416.37847282, -2854.18894542,  4524.18570267],\n",
       "       [-1458.91968936, -7338.00315776,  1406.08305796],\n",
       "       [ 2327.80269661, -7043.77260005, -1708.3350765 ],\n",
       "       [-4536.97964409,  4954.91604947,  3580.00408115],\n",
       "       [ 5877.41073773,  -568.35130476, -4804.66714597],\n",
       "       [ 3435.46699903,  6098.97650273, -2991.96568947],\n",
       "       [ 5406.04317016, -3138.50803929, -4344.68308383],\n",
       "       [ 2911.94502097,  6545.24817809, -2575.28814917],\n",
       "       [-3164.69827197,  6490.42250816,  2410.58231185],\n",
       "       [ 5861.18991837,   572.70454869, -4823.92670031],\n",
       "       [-4421.72956872, -4920.12263285,  3767.29444935],\n",
       "       [  789.39195276,  7522.32211282,  -862.16990499],\n",
       "       [ 4150.91561093,  5298.75451621, -3555.9677638 ],\n",
       "       [ 5578.10065374, -2562.48702678, -4502.25053763],\n",
       "       [ 5177.82107593, -3741.67329915, -4140.2725028 ],\n",
       "       [ -363.66224899, -7586.47066714,   514.80011119],\n",
       "       [-3914.13842296, -5592.27573178,  3370.13042995],\n",
       "       [ 3398.84291653, -6292.57746179, -2608.2833982 ],\n",
       "       [-2842.77729141, -6596.95942607,  2520.02979576],\n",
       "       [ 5878.11529729,   277.02276647, -4829.37112965],\n",
       "       [-3599.6259254 ,  6105.36296221,  2778.31655254],\n",
       "       [ 4805.85757639, -4507.11288022, -3813.32833751],\n",
       "       [-5082.56255317, -3720.59929114,  4275.10296685],\n",
       "       [ 5616.56121054,  2147.95049402, -4668.22829484],\n",
       "       [-4087.64691727,  5571.56202591,  3193.84499318],\n",
       "       [ 4756.46084278, -4594.85263324, -3770.30716244],\n",
       "       [-5253.64961034,  3556.07512354,  4207.76687291],\n",
       "       [-5811.8897527 ,  1346.46714478,  4728.71761682],\n",
       "       [ 4572.87211871,  4685.17050604, -3884.56232856],\n",
       "       [-4043.53430868,  5624.98293287,  3156.13749204],\n",
       "       [-4325.3891917 , -5060.61949208,  3692.28185083],\n",
       "       [-3650.6527337 ,  6055.00368189,  2821.60798119],\n",
       "       [-5102.71980305, -3675.19149097,  4290.3408589 ],\n",
       "       [-5846.89677116,  1021.87061987,  4766.69541222],\n",
       "       [  -45.53420102, -7608.21749439,   254.47939764],\n",
       "       [ 5459.15930923,  2719.80561927, -4555.4410982 ],\n",
       "       [-4187.1333297 ,  5446.8182474 ,  3279.00778108],\n",
       "       [-5762.25260366,  1692.11997269,  4678.13867888],\n",
       "       [ -451.7884459 , -7576.50046471,   586.80020253],\n",
       "       [  470.19963114, -7596.19610842,  -168.88918993],\n",
       "       [-5666.99784801,  2192.74183346,  4585.71970488],\n",
       "       [ 5216.81455672, -3647.81710134, -4174.93507078],\n",
       "       [-4837.89719844,  4448.72623412,  3841.27480928],\n",
       "       [ 4466.8875717 , -5060.82175982, -3519.48932465],\n",
       "       [ 3507.45231711, -6193.42480441, -2700.1988824 ],\n",
       "       [ 3211.50225529, -6452.54180872, -2450.05388518],\n",
       "       [ 5702.62832218,  1755.40191317, -4727.6210626 ],\n",
       "       [-2952.18908643, -6514.42674532,  2607.4183299 ],\n",
       "       [ 3620.37158907, -6085.029591  , -2795.91326814],\n",
       "       [ 3271.23836922, -6403.00539831, -2500.46555069],\n",
       "       [ 5812.64826048,  1068.47178611, -4798.25956066],\n",
       "       [  -90.39225702,  7610.72729868,  -143.05870907],\n",
       "       [-5505.74550626,  2822.23494978,  4435.48902353],\n",
       "       [-4289.29007463, -5111.55371657,  3664.12552017],\n",
       "       [ -613.05239738, -7553.79609335,   718.42738487],\n",
       "       [-1627.04776756, -7275.03729602,  1542.19145142],\n",
       "       [-5884.2497973 ,   -88.76244723,  4829.03014281],\n",
       "       [ 1218.41694602, -7473.23813955,  -786.11603749],\n",
       "       [-5846.9180175 ,  1021.63657744,  4766.71951865],\n",
       "       [ 3975.56579084,  5519.1510532 , -3418.42871272],\n",
       "       [-5127.86713677, -3617.53064814,  4309.32212844],\n",
       "       [ 5794.09321926,  1210.02399144, -4787.07972316],\n",
       "       [-4113.82570524, -5346.87671041,  3526.91849635],\n",
       "       [-2977.704757  , -6494.60124368,  2627.7815044 ],\n",
       "       [-5605.31447182, -2194.0131679 ,  4660.31784971],\n",
       "       [ 5236.54641682,  3354.09772459, -4390.94712421],\n",
       "       [ 2349.75241348,  6922.08268663, -2124.90974962],\n",
       "       [-5051.0747889 ,  4026.4363114 ,  4028.18329728],\n",
       "       [  108.26185606,  7605.69104   ,  -305.85902606],\n",
       "       [-2925.92140566,  6671.47895723,  2209.5608207 ],\n",
       "       [ 5852.35355346,   685.76675821, -4819.90543557],\n",
       "       [ 1383.72201328, -7428.67634859,  -922.97760921],\n",
       "       [ 1231.52961305, -7469.93888926,  -796.96572837],\n",
       "       [-5614.32089675, -2157.20650104,  4666.65485647],\n",
       "       [ 4929.17485252,  4044.94110639, -4158.5446118 ],\n",
       "       [-5179.74827222, -3494.80366171,  4348.37461263],\n",
       "       [ 5398.34844795,  2908.76797964, -4510.95438288],\n",
       "       [-2238.3815754 , -6985.6077638 ,  2035.37187328],\n",
       "       [  906.52126518, -7539.9494241 ,  -528.38286034],\n",
       "       [  948.89335193, -7532.19982934,  -563.35930527],\n",
       "       [ 5861.57317457,   567.3876071 , -4824.08932253],\n",
       "       [-4983.96416872,  4166.26800252,  3969.14583573],\n",
       "       [ 5724.54996765, -1908.42294117, -4641.04041296],\n",
       "       [-5771.30586594,  1635.2718515 ,  4687.18691143],\n",
       "       [-4151.55587625,  5492.12393471,  3248.53275517],\n",
       "       [  368.48200374,  7585.96976359,  -518.73917149],\n",
       "       [  -68.29572048,  7610.59547353,  -161.17940969],\n",
       "       [-5241.00135026, -3342.75866474,  4394.27763405],\n",
       "       [ 4889.90162998, -4351.33911176, -3886.71024812],\n",
       "       [-2661.99266246,  6849.33995625,  1987.9999492 ]])"
      ]
     },
     "execution_count": 158,
     "metadata": {},
     "output_type": "execute_result"
    }
   ],
   "source": [
    "R = init_R0s( (R0[0].value, R0[1].value, R0[2].value) , nwalkers)\n",
    "V = init_V0s( v_1, v_2 ,nwalkers)\n",
    "P0 = np.hstack((R,V))\n",
    "P0[:,3:]"
   ]
  },
  {
   "cell_type": "code",
   "execution_count": 159,
   "metadata": {},
   "outputs": [],
   "source": [
    "TestOrbit = Orbit.from_vectors(Earth, P0[0][:3] * u.m, P0[0][3:] * u.m/u.s, epoch=tau_astropytime[0][0] )"
   ]
  },
  {
   "cell_type": "code",
   "execution_count": 160,
   "metadata": {},
   "outputs": [],
   "source": [
    "def lnprob( param ):\n",
    "    x, y, z, vx, vy, vz = param\n",
    "    \n",
    "    r = (x**2 + y**2 + z**2)**0.5\n",
    "    \n",
    "    # Reject orbits \"inside\" the Earth\n",
    "    if Earth.R.value > r:        \n",
    "        print(r)\n",
    "        return -np.inf\n",
    "    \n",
    "    tau_0 = tau_astropytime[0][0]\n",
    "    r_init = np.array([x,y,z]) * u.m\n",
    "    v_init = np.array([vx, vy, vz]) * u.m / u.s\n",
    "    myOrbit = Orbit.from_vectors(Earth, r_init, v_init, epoch=tau_0)\n",
    "    \n",
    "    \n",
    "    # Reject hyperbolic orbits\n",
    "    if(myOrbit.a.value <0):\n",
    "        raise Exception(\"Negative major semi-axe. CHECK INITIAL SPEED and its UNITS\")\n",
    "        return -np.inf\n",
    "    \n",
    "    # If the perigee is less than Earth Radius.\n",
    "    if( TestOrbit.a * (1-TestOrbit.ecc) < Earth.R):\n",
    "        print(\"Orbit fails. crash\")\n",
    "        return -np.inf\n",
    "    else:\n",
    "        print(\"Good orbit!\")\n",
    "        print(\"Orbit Eccentricity: {}\".format(myOrbit.ecc))\n",
    "    \n",
    "\n",
    "    chi2 = 0\n",
    "    for i in range(N):\n",
    "        for j in range(len(tau_astropytime[i])):\n",
    "            chi_aux = 0\n",
    "            \n",
    "            t_prime = tau_astropytime[i][j]\n",
    "            DeltaT = t_prime - tau_0\n",
    "            \n",
    "            orbit_at_t_prime = myOrbit.propagate(DeltaT)\n",
    "                        \n",
    "            r_sat = orbit_at_t_prime.state.r\n",
    "            v_sat = orbit_at_t_prime.state.v\n",
    "            \n",
    "            r_gs  = GS_gcrs_positions[i][j].get_xyz()\n",
    "            v_gs  = GS_gcrs_velocities[i][j].get_xyz()\n",
    "\n",
    "            \n",
    "            r      = r_sat - r_gs\n",
    "            r_unit =  r / norm(r)\n",
    "            v      = v_sat - v_gs\n",
    "            \n",
    "            ds_mcmc = v.dot(-r_unit)/c\n",
    "            ds_obs  = DS[i][j]\n",
    "            \n",
    "            chi_aux = ((ds_mcmc - ds_obs) / ds_obs)**2 / (M - 6)\n",
    "            \n",
    "            #print( 'Chi2 {:03.8f} measured {:03.8f} mcmcm {:03.8f} '.format(chi_aux, ds_obs, ds_mcmc) )\n",
    "            \n",
    "            \n",
    "            chi2 += chi_aux\n",
    "\n",
    "    print(\"Chi2 = {}\".format(chi2))\n",
    "    return chi2"
   ]
  },
  {
   "cell_type": "code",
   "execution_count": 161,
   "metadata": {
    "scrolled": true
   },
   "outputs": [
    {
     "name": "stdout",
     "output_type": "stream",
     "text": [
      "Good orbit!\n",
      "Orbit Eccentricity: 1.5149958698974955e-05\n",
      "Chi2 = 1930.9896069719234\n"
     ]
    }
   ],
   "source": [
    "for i in range(1):\n",
    "    lnprob(P0[i])"
   ]
  },
  {
   "cell_type": "code",
   "execution_count": 167,
   "metadata": {},
   "outputs": [
    {
     "data": {
      "text/plain": [
       "'2.2.1'"
      ]
     },
     "execution_count": 167,
     "metadata": {},
     "output_type": "execute_result"
    }
   ],
   "source": [
    "emcee.__version__"
   ]
  },
  {
   "cell_type": "code",
   "execution_count": 168,
   "metadata": {},
   "outputs": [],
   "source": [
    "sampler = emcee.EnsembleSampler(nwalkers, ndim, lnprob)"
   ]
  },
  {
   "cell_type": "code",
   "execution_count": null,
   "metadata": {},
   "outputs": [
    {
     "name": "stdout",
     "output_type": "stream",
     "text": [
      "Good orbit!\n",
      "Orbit Eccentricity: 1.5149958698974955e-05\n",
      "Chi2 = 1930.9896069719234\n",
      "Good orbit!\n",
      "Orbit Eccentricity: 1.575872872686529e-05\n",
      "Chi2 = 1654.1997212732606\n",
      "Good orbit!\n",
      "Orbit Eccentricity: 2.9934900230274753e-05\n",
      "Chi2 = 1963.3289768743903\n",
      "Good orbit!\n",
      "Orbit Eccentricity: 1.2567542916327763e-05\n",
      "Chi2 = 1848.5528275994118\n",
      "Good orbit!\n",
      "Orbit Eccentricity: 1.551205923624495e-05\n",
      "Chi2 = 1650.7807820747164\n",
      "Good orbit!\n",
      "Orbit Eccentricity: 2.660653075942429e-05\n",
      "Chi2 = 1695.404838378164\n",
      "Good orbit!\n",
      "Orbit Eccentricity: 1.5296299116393466e-05\n",
      "Chi2 = 1735.511823232997\n",
      "Good orbit!\n",
      "Orbit Eccentricity: 2.667798333795675e-05\n",
      "Chi2 = 1928.2675868115757\n",
      "Good orbit!\n",
      "Orbit Eccentricity: 1.323084613413849e-05\n"
     ]
    }
   ],
   "source": [
    "pos, prob, state = sampler.run_mcmc(P0, MCMC_steps)\n"
   ]
  },
  {
   "cell_type": "code",
   "execution_count": null,
   "metadata": {},
   "outputs": [],
   "source": []
  },
  {
   "cell_type": "code",
   "execution_count": null,
   "metadata": {},
   "outputs": [],
   "source": []
  },
  {
   "cell_type": "code",
   "execution_count": null,
   "metadata": {},
   "outputs": [],
   "source": []
  },
  {
   "cell_type": "code",
   "execution_count": null,
   "metadata": {},
   "outputs": [],
   "source": []
  },
  {
   "cell_type": "code",
   "execution_count": null,
   "metadata": {},
   "outputs": [],
   "source": []
  },
  {
   "cell_type": "code",
   "execution_count": null,
   "metadata": {},
   "outputs": [],
   "source": []
  },
  {
   "cell_type": "code",
   "execution_count": null,
   "metadata": {},
   "outputs": [],
   "source": []
  },
  {
   "cell_type": "code",
   "execution_count": null,
   "metadata": {},
   "outputs": [],
   "source": []
  },
  {
   "cell_type": "code",
   "execution_count": null,
   "metadata": {},
   "outputs": [],
   "source": []
  },
  {
   "cell_type": "code",
   "execution_count": null,
   "metadata": {},
   "outputs": [],
   "source": []
  },
  {
   "cell_type": "code",
   "execution_count": null,
   "metadata": {},
   "outputs": [],
   "source": []
  },
  {
   "cell_type": "code",
   "execution_count": null,
   "metadata": {},
   "outputs": [],
   "source": []
  },
  {
   "cell_type": "code",
   "execution_count": null,
   "metadata": {},
   "outputs": [],
   "source": []
  },
  {
   "cell_type": "code",
   "execution_count": null,
   "metadata": {},
   "outputs": [],
   "source": []
  },
  {
   "cell_type": "code",
   "execution_count": null,
   "metadata": {},
   "outputs": [],
   "source": []
  },
  {
   "cell_type": "code",
   "execution_count": null,
   "metadata": {},
   "outputs": [],
   "source": []
  },
  {
   "cell_type": "code",
   "execution_count": null,
   "metadata": {},
   "outputs": [],
   "source": []
  },
  {
   "cell_type": "code",
   "execution_count": null,
   "metadata": {},
   "outputs": [],
   "source": []
  },
  {
   "cell_type": "code",
   "execution_count": null,
   "metadata": {},
   "outputs": [],
   "source": []
  },
  {
   "cell_type": "code",
   "execution_count": null,
   "metadata": {},
   "outputs": [],
   "source": []
  },
  {
   "cell_type": "code",
   "execution_count": null,
   "metadata": {},
   "outputs": [],
   "source": []
  },
  {
   "cell_type": "code",
   "execution_count": null,
   "metadata": {},
   "outputs": [],
   "source": []
  },
  {
   "cell_type": "code",
   "execution_count": null,
   "metadata": {},
   "outputs": [],
   "source": []
  },
  {
   "cell_type": "code",
   "execution_count": null,
   "metadata": {},
   "outputs": [],
   "source": []
  },
  {
   "cell_type": "code",
   "execution_count": null,
   "metadata": {},
   "outputs": [],
   "source": []
  },
  {
   "cell_type": "code",
   "execution_count": null,
   "metadata": {},
   "outputs": [],
   "source": []
  },
  {
   "cell_type": "code",
   "execution_count": null,
   "metadata": {},
   "outputs": [],
   "source": []
  }
 ],
 "metadata": {
  "kernelspec": {
   "display_name": "Python 3",
   "language": "python",
   "name": "python3"
  },
  "language_info": {
   "codemirror_mode": {
    "name": "ipython",
    "version": 3
   },
   "file_extension": ".py",
   "mimetype": "text/x-python",
   "name": "python",
   "nbconvert_exporter": "python",
   "pygments_lexer": "ipython3",
   "version": "3.6.5"
  }
 },
 "nbformat": 4,
 "nbformat_minor": 2
}
