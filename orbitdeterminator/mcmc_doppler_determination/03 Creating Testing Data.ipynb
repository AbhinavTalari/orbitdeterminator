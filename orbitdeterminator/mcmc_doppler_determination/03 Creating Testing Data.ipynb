{
 "cells": [
  {
   "cell_type": "code",
   "execution_count": 1,
   "metadata": {},
   "outputs": [],
   "source": [
    "import numpy as np\n",
    "import matplotlib.pyplot as plt\n",
    "import astropy.coordinates as coord\n",
    "import astropy.units as u\n",
    "from astropy import time\n",
    "\n",
    "from poliastro.bodies import Earth\n",
    "from poliastro.twobody import Orbit\n",
    "import poliastro\n",
    "\n",
    "import urllib.request\n",
    "import json\n",
    "from collections import OrderedDict"
   ]
  },
  {
   "cell_type": "raw",
   "metadata": {},
   "source": [
    "# Raw data for 2019-07-10\n",
    "\n",
    "ISS (ZARYA)             \n",
    "1 25544U 98067A   19190.67737078  .00000405  00000-0  14728-4 0  9990\n",
    "2 25544  51.6431 249.6881 0007257 122.7057  10.0638 15.50965501178747"
   ]
  },
  {
   "cell_type": "code",
   "execution_count": 2,
   "metadata": {},
   "outputs": [
    {
     "name": "stdout",
     "output_type": "stream",
     "text": [
      "ISS TLE from celestrack.\n",
      "1 25544U 98067A   19203.81086311  .00000606  00000-0  18099-4 0  9996\n",
      "2 25544  51.6423 184.5274 0006740 168.1171 264.4057 15.50995519180787\n",
      "\n",
      "\n",
      "ISS Orbital Elements from TLE\n",
      "\n",
      "\tInclination    : 51.6423 deg\n",
      "\tRA of node     : 184.5274 deg\n",
      "\tEccentricity   : 0.000674\n",
      "\tArg of Perigee : 168.1171 deg\n",
      "\tMean_Anomaly   : 264.4057 deg\n",
      "\tSemi-major Axis: 6791955.199068729 m\n",
      "TLE at:  2019:203:19:27:38.573  that means 2019-07-22 19:27:38.573\n"
     ]
    }
   ],
   "source": [
    "url = 'http://www.celestrak.com/NORAD/elements/stations.txt'\n",
    "\n",
    "\n",
    "response = urllib.request.urlopen(url)\n",
    "data = response.read()      # a `bytes` object\n",
    "text = data.decode('utf-8') # a `str`; this step can't be used if data is binary\n",
    "data = text.splitlines()\n",
    "\n",
    "for i in range(len(data)):\n",
    "    if data[i].startswith('ISS (ZARYA)'):\n",
    "        \n",
    "        l1 = \"1 25544U 98067A   19190.67737078  .00000405  00000-0  14728-4 0  9990\"\n",
    "        l2 = \"2 25544  51.6431 249.6881 0007257 122.7057  10.0638 15.50965501178747\"\n",
    "        \n",
    "        l1 = data[i+1].split()\n",
    "        l2 = data[i+2].split()\n",
    "        \n",
    "        \n",
    "        time_vector = l1[3]        \n",
    "        year = int(\"20\"+time_vector[0:2])\n",
    "        ydayfraction = float(time_vector[2:])\n",
    "        \n",
    "                \n",
    "        Inclination    = float(l2[2]) * u.deg\n",
    "        RA_of_node     = float(l2[3]) * u.deg\n",
    "        Eccentricity   = float(\"0.\"+l2[4]) * u.one\n",
    "        Arg_of_perigee = float(l2[5]) * u.deg\n",
    "        Mean_anomaly   = float(l2[6]) * u.deg\n",
    "        Rev_Per_Day    = (float(l2[7])  / u.day).to(1/u.s)\n",
    "        semi_major_Axis = Earth.k**(1/3) / (2 * np.pi * Rev_Per_Day)**(2/3)\n",
    "        \n",
    "\n",
    "        print(\"ISS TLE from celestrack.\")\n",
    "        print(data[i+1])\n",
    "        print(data[i+2])\n",
    "        print(\"\\n\")\n",
    "        \n",
    "        message = (\"\\tInclination    : {}\\n\"\n",
    "                   \"\\tRA of node     : {}\\n\"\n",
    "                   \"\\tEccentricity   : {}\\n\"\n",
    "                   \"\\tArg of Perigee : {}\\n\"\n",
    "                   \"\\tMean_Anomaly   : {}\\n\"\n",
    "                   \"\\tSemi-major Axis: {}\").format(Inclination, \n",
    "                                                   RA_of_node, \n",
    "                                                   Eccentricity,\n",
    "                                                   Arg_of_perigee, \n",
    "                                                   Mean_anomaly, \n",
    "                                                   semi_major_Axis)\n",
    "    \n",
    "        print(\"ISS Orbital Elements from TLE\\n\\n\" + message ) \n",
    "              \n",
    "            \n",
    "Epoch_time = time.Time(\"{}-01-01 00:00\".format(year))\n",
    "Epoch_time += (ydayfraction -1) * u.day\n",
    "\n",
    "print(\"TLE at: \", Epoch_time.yday, \" that means\", Epoch_time)\n",
    "\n",
    "ZARYA = poliastro.twobody.Orbit.from_classical(Earth,\n",
    "                                              semi_major_Axis,\n",
    "                                              Eccentricity,\n",
    "                                              Inclination,\n",
    "                                              RA_of_node,\n",
    "                                              Arg_of_perigee,\n",
    "                                              Mean_anomaly,\n",
    "                                              Epoch_time)\n",
    "\n",
    "Tinit = time.Time(\"2019-07-11 1:59\")\n",
    "DeltaT = Tinit - Epoch_time\n",
    "#print(Tnow,\"\\n\", Epoch_time,\"\\n\", DeltaT)\n",
    "\n",
    "ISSnow = ZARYA.propagate( DeltaT )"
   ]
  },
  {
   "cell_type": "markdown",
   "metadata": {},
   "source": [
    "The state of ISS (r,v) in the Non Rotating Frame is:"
   ]
  },
  {
   "cell_type": "code",
   "execution_count": 3,
   "metadata": {},
   "outputs": [
    {
     "data": {
      "text/latex": [
       "$[2297.9424,~-3859.8643,~5091.3154] \\; \\mathrm{km}$"
      ],
      "text/plain": [
       "<Quantity [ 2297.94235016, -3859.86431577,  5091.3153819 ] km>"
      ]
     },
     "execution_count": 3,
     "metadata": {},
     "output_type": "execute_result"
    }
   ],
   "source": [
    "ISSnow.r"
   ]
  },
  {
   "cell_type": "code",
   "execution_count": 4,
   "metadata": {},
   "outputs": [
    {
     "data": {
      "text/latex": [
       "$[7.1938691,~1.9677464,~-1.7611473] \\; \\mathrm{\\frac{km}{s}}$"
      ],
      "text/plain": [
       "<Quantity [ 7.19386905,  1.96774643, -1.76114734] km / s>"
      ]
     },
     "execution_count": 4,
     "metadata": {},
     "output_type": "execute_result"
    }
   ],
   "source": [
    "ISSnow.v"
   ]
  },
  {
   "cell_type": "markdown",
   "metadata": {},
   "source": [
    "Now we load the ground stations info."
   ]
  },
  {
   "cell_type": "code",
   "execution_count": 5,
   "metadata": {},
   "outputs": [],
   "source": [
    "with open('ground_stations.json') as json_file:\n",
    "    data = json.load(json_file)"
   ]
  },
  {
   "cell_type": "code",
   "execution_count": 6,
   "metadata": {},
   "outputs": [],
   "source": [
    "GS = []\n",
    "gs = []\n",
    "\n",
    "for  k in sorted(data.keys()):\n",
    "    GS.append(data[k])"
   ]
  },
  {
   "cell_type": "code",
   "execution_count": 7,
   "metadata": {},
   "outputs": [],
   "source": [
    "for k in GS:\n",
    "    gs.append(coord.EarthLocation( k[\"gs_lon\"], k[\"gs_lat\"], k[\"gs_alt\"]))\n",
    "    "
   ]
  },
  {
   "cell_type": "markdown",
   "metadata": {},
   "source": [
    "Their location in the rotating system is:"
   ]
  },
  {
   "cell_type": "code",
   "execution_count": 8,
   "metadata": {},
   "outputs": [
    {
     "data": {
      "text/plain": [
       "[<EarthLocation (3946293.3013581, 809282.50717543, 4928547.87338264) m>,\n",
       " <EarthLocation (4157409.29535264, 672080.10355092, 4774350.40490151) m>,\n",
       " <EarthLocation (3899925.15472251, 855534.85353504, 4957331.36135458) m>,\n",
       " <EarthLocation (3857116.33132939, 516634.17159883, 5036460.26932419) m>]"
      ]
     },
     "execution_count": 8,
     "metadata": {},
     "output_type": "execute_result"
    }
   ],
   "source": [
    "gs"
   ]
  },
  {
   "cell_type": "code",
   "execution_count": 9,
   "metadata": {},
   "outputs": [
    {
     "data": {
      "text/plain": [
       "GeodeticLocation(lon=<Longitude 11.5892 deg>, lat=<Latitude 50.9271 deg>, height=<Quantity 143. m>)"
      ]
     },
     "execution_count": 9,
     "metadata": {},
     "output_type": "execute_result"
    }
   ],
   "source": [
    "gs[0].to_geodetic()"
   ]
  },
  {
   "cell_type": "code",
   "execution_count": 10,
   "metadata": {},
   "outputs": [],
   "source": [
    "gs_gcrs = []\n",
    "gs_vel_gcrs = []"
   ]
  },
  {
   "cell_type": "code",
   "execution_count": 11,
   "metadata": {},
   "outputs": [],
   "source": [
    "for k in gs:\n",
    "    gs_gcrs.append( k.get_itrs(Tinit) )\n",
    "    gs_vel_gcrs.append( k.get_gcrs_posvel(obstime= Tinit))"
   ]
  },
  {
   "cell_type": "code",
   "execution_count": 12,
   "metadata": {},
   "outputs": [
    {
     "data": {
      "text/plain": [
       "[(<CartesianRepresentation (x, y, z) in m\n",
       "      (3490465.92481309, -2027129.61147224, 4922006.3289872)>,\n",
       "  <CartesianRepresentation (x, y, z) in m / s\n",
       "      (147.81360806, 253.85855918, -0.27098031)>),\n",
       " (<CartesianRepresentation (x, y, z) in m\n",
       "      (3556109.03683172, -2270124.01989083, 4767681.92682764)>,\n",
       "  <CartesianRepresentation (x, y, z) in m / s\n",
       "      (165.5331088, 258.66636823, -0.30399438)>),\n",
       " (<CartesianRepresentation (x, y, z) in m\n",
       "      (3486782.27598969, -1961744.19604804, 4950797.85424236)>,\n",
       "  <CartesianRepresentation (x, y, z) in m / s\n",
       "      (143.045498, 253.5860977, -0.26209798)>),\n",
       " (<CartesianRepresentation (x, y, z) in m\n",
       "      (3229128.27183646, -2185853.36158231, 5030404.05841471)>,\n",
       "  <CartesianRepresentation (x, y, z) in m / s\n",
       "      (159.38778464, 234.78677187, -0.29297606)>)]"
      ]
     },
     "execution_count": 12,
     "metadata": {},
     "output_type": "execute_result"
    }
   ],
   "source": [
    "gs_vel_gcrs"
   ]
  },
  {
   "cell_type": "code",
   "execution_count": 13,
   "metadata": {},
   "outputs": [],
   "source": [
    "a = gs[0].get_gcrs_posvel(obstime=Tinit)[0]"
   ]
  },
  {
   "cell_type": "code",
   "execution_count": 14,
   "metadata": {},
   "outputs": [
    {
     "data": {
      "text/latex": [
       "$[3490465.9,~-2027129.6,~4922006.3] \\; \\mathrm{m}$"
      ],
      "text/plain": [
       "<Quantity [ 3490465.92481309, -2027129.61147224,  4922006.3289872 ] m>"
      ]
     },
     "execution_count": 14,
     "metadata": {},
     "output_type": "execute_result"
    }
   ],
   "source": [
    "a.xyz"
   ]
  },
  {
   "cell_type": "code",
   "execution_count": 15,
   "metadata": {},
   "outputs": [
    {
     "data": {
      "text/latex": [
       "$[-1192.5236,~-1832.7347,~169.30905] \\; \\mathrm{km}$"
      ],
      "text/plain": [
       "<Quantity [-1192.52357466, -1832.7347043 ,   169.30905291] km>"
      ]
     },
     "execution_count": 15,
     "metadata": {},
     "output_type": "execute_result"
    }
   ],
   "source": [
    "ISSnow.r - a.xyz"
   ]
  },
  {
   "cell_type": "code",
   "execution_count": 16,
   "metadata": {},
   "outputs": [
    {
     "data": {
      "text/latex": [
       "$[7.0460554,~1.7138879,~-1.7608764] \\; \\mathrm{\\frac{km}{s}}$"
      ],
      "text/plain": [
       "<Quantity [ 7.04605544,  1.71388787, -1.76087636] km / s>"
      ]
     },
     "execution_count": 16,
     "metadata": {},
     "output_type": "execute_result"
    }
   ],
   "source": [
    "ISSnow.v - gs[0].get_gcrs_posvel(obstime=Tinit)[1].xyz"
   ]
  },
  {
   "cell_type": "code",
   "execution_count": 17,
   "metadata": {},
   "outputs": [
    {
     "data": {
      "text/latex": [
       "$[7.1938691,~1.9677464,~-1.7611473] \\; \\mathrm{\\frac{km}{s}}$"
      ],
      "text/plain": [
       "<Quantity [ 7.19386905,  1.96774643, -1.76114734] km / s>"
      ]
     },
     "execution_count": 17,
     "metadata": {},
     "output_type": "execute_result"
    }
   ],
   "source": [
    "ISSnow.v"
   ]
  },
  {
   "cell_type": "code",
   "execution_count": 18,
   "metadata": {},
   "outputs": [
    {
     "data": {
      "text/latex": [
       "$[147.81361,~253.85856,~-0.27098031] \\; \\mathrm{\\frac{m}{s}}$"
      ],
      "text/plain": [
       "<Quantity [147.81360806, 253.85855918,  -0.27098031] m / s>"
      ]
     },
     "execution_count": 18,
     "metadata": {},
     "output_type": "execute_result"
    }
   ],
   "source": [
    "gs[0].get_gcrs_posvel(obstime=Tinit)[1].xyz"
   ]
  },
  {
   "cell_type": "code",
   "execution_count": 19,
   "metadata": {},
   "outputs": [],
   "source": [
    "R_iss_gs0 = ISSnow.r - a.xyz"
   ]
  },
  {
   "cell_type": "code",
   "execution_count": 20,
   "metadata": {},
   "outputs": [
    {
     "data": {
      "text/latex": [
       "$[-1192.5236,~-1832.7347,~169.30905] \\; \\mathrm{km}$"
      ],
      "text/plain": [
       "<Quantity [-1192.52357466, -1832.7347043 ,   169.30905291] km>"
      ]
     },
     "execution_count": 20,
     "metadata": {},
     "output_type": "execute_result"
    }
   ],
   "source": [
    "R_iss_gs0"
   ]
  },
  {
   "cell_type": "code",
   "execution_count": 21,
   "metadata": {},
   "outputs": [],
   "source": [
    "dist = 0\n",
    "for k in R_iss_gs0:\n",
    "    dist += k**2\n",
    "dist = (dist)**0.5"
   ]
  },
  {
   "cell_type": "code",
   "execution_count": 22,
   "metadata": {},
   "outputs": [
    {
     "data": {
      "text/latex": [
       "$2193.1016 \\; \\mathrm{km}$"
      ],
      "text/plain": [
       "<Quantity 2193.10157719 km>"
      ]
     },
     "execution_count": 22,
     "metadata": {},
     "output_type": "execute_result"
    }
   ],
   "source": [
    "dist"
   ]
  },
  {
   "cell_type": "code",
   "execution_count": 23,
   "metadata": {},
   "outputs": [
    {
     "data": {
      "text/latex": [
       "$[-0.54376121,~-0.83568163,~0.077200735] \\; \\mathrm{}$"
      ],
      "text/plain": [
       "<Quantity [-0.54376121, -0.83568163,  0.07720073]>"
      ]
     },
     "execution_count": 23,
     "metadata": {},
     "output_type": "execute_result"
    }
   ],
   "source": [
    "R_iss_gs0 / dist"
   ]
  },
  {
   "cell_type": "code",
   "execution_count": 24,
   "metadata": {},
   "outputs": [],
   "source": [
    "R_iss_gs0_unitary = R_iss_gs0 / dist"
   ]
  },
  {
   "cell_type": "code",
   "execution_count": 25,
   "metadata": {},
   "outputs": [],
   "source": [
    "V_iss_gs0 = ISSnow.v - gs[0].get_gcrs_posvel(obstime=Tinit)[1].xyz"
   ]
  },
  {
   "cell_type": "code",
   "execution_count": 26,
   "metadata": {},
   "outputs": [
    {
     "data": {
      "text/latex": [
       "$-5.3995772 \\; \\mathrm{\\frac{km}{s}}$"
      ],
      "text/plain": [
       "<Quantity -5.39957722 km / s>"
      ]
     },
     "execution_count": 26,
     "metadata": {},
     "output_type": "execute_result"
    }
   ],
   "source": [
    "V_iss_gs0.dot(R_iss_gs0_unitary)"
   ]
  },
  {
   "cell_type": "markdown",
   "metadata": {},
   "source": [
    "Ok,\n",
    "\n",
    "We have the ISS close to Germany on Thursday 2019-07-11 at 2:05 GMT\n",
    "\n",
    "According to https://spotthestation.nasa.gov/ the station will pass over germany in 5 minutes.\n",
    "\n",
    "The time window will be set for 8 minutes, sampling each 10 seconds.\n",
    "\n",
    "For testing purposes, all stations are sampling synchronously."
   ]
  },
  {
   "cell_type": "code",
   "execution_count": 27,
   "metadata": {},
   "outputs": [
    {
     "data": {
      "text/plain": [
       "<Time object: scale='utc' format='iso' value=2019-07-11 01:59:00.000>"
      ]
     },
     "execution_count": 27,
     "metadata": {},
     "output_type": "execute_result"
    }
   ],
   "source": [
    "Tinit"
   ]
  },
  {
   "cell_type": "code",
   "execution_count": 28,
   "metadata": {},
   "outputs": [
    {
     "data": {
      "text/plain": [
       "7.0"
      ]
     },
     "execution_count": 28,
     "metadata": {},
     "output_type": "execute_result"
    }
   ],
   "source": [
    "42 / 6"
   ]
  },
  {
   "cell_type": "code",
   "execution_count": 29,
   "metadata": {},
   "outputs": [],
   "source": [
    "T_minutos = 9\n",
    "\n",
    "deltat = 10 * u.s\n",
    "\n",
    "intervalos = T_minutos * 6"
   ]
  },
  {
   "cell_type": "code",
   "execution_count": 30,
   "metadata": {},
   "outputs": [],
   "source": [
    "ISS_evolution = []\n",
    "T = []\n",
    "GS0_loc = []\n",
    "GS1_loc = []\n",
    "GS2_loc = []\n",
    "GS3_loc = []\n",
    "\n",
    "\n",
    "for i in range( intervalos ):\n",
    "    T.append(Tinit + deltat * i)\n",
    "    ISS_evolution.append( ISSnow.propagate(deltat * i) )\n",
    "    GS0_loc.append( gs[0].get_gcrs_posvel(obstime = Tinit + deltat*i) )\n",
    "    GS1_loc.append( gs[1].get_gcrs_posvel(obstime = Tinit + deltat*i) )\n",
    "    GS2_loc.append( gs[2].get_gcrs_posvel(obstime = Tinit + deltat*i) )\n",
    "    GS3_loc.append( gs[3].get_gcrs_posvel(obstime = Tinit + deltat*i) )"
   ]
  },
  {
   "cell_type": "code",
   "execution_count": 31,
   "metadata": {},
   "outputs": [
    {
     "data": {
      "text/latex": [
       "$[2297.9424,~-3859.8643,~5091.3154] \\; \\mathrm{km}$"
      ],
      "text/plain": [
       "<Quantity [ 2297.94235016, -3859.86431577,  5091.3153819 ] km>"
      ]
     },
     "execution_count": 31,
     "metadata": {},
     "output_type": "execute_result"
    }
   ],
   "source": [
    "ISSnow.r"
   ]
  },
  {
   "cell_type": "code",
   "execution_count": 32,
   "metadata": {},
   "outputs": [],
   "source": [
    "def norm( v ):\n",
    "    norm = 0\n",
    "    for k in v:\n",
    "        norm += k**2\n",
    "    norm = norm**0.5\n",
    "    \n",
    "    return norm"
   ]
  },
  {
   "cell_type": "markdown",
   "metadata": {},
   "source": [
    "# Data for JENA"
   ]
  },
  {
   "cell_type": "code",
   "execution_count": 46,
   "metadata": {},
   "outputs": [
    {
     "name": "stdout",
     "output_type": "stream",
     "text": [
      "2019-07-11 01:59:00.000  2193.102 km  -5.400 km / s\n",
      "2019-07-11 01:59:10.000  2139.572 km  -5.305 km / s\n",
      "2019-07-11 01:59:20.000  2087.028 km  -5.203 km / s\n",
      "2019-07-11 01:59:30.000  2035.550 km  -5.091 km / s\n",
      "2019-07-11 01:59:40.000  1985.230 km  -4.971 km / s\n",
      "2019-07-11 01:59:50.000  1936.163 km  -4.841 km / s\n",
      "2019-07-11 02:00:00.000  1888.452 km  -4.700 km / s\n",
      "2019-07-11 02:00:10.000  1842.209 km  -4.547 km / s\n",
      "2019-07-11 02:00:20.000  1797.552 km  -4.382 km / s\n",
      "2019-07-11 02:00:30.000  1754.609 km  -4.204 km / s\n",
      "2019-07-11 02:00:40.000  1713.513 km  -4.013 km / s\n",
      "2019-07-11 02:00:50.000  1674.404 km  -3.807 km / s\n",
      "2019-07-11 02:01:00.000  1637.431 km  -3.586 km / s\n",
      "2019-07-11 02:01:10.000  1602.745 km  -3.349 km / s\n",
      "2019-07-11 02:01:20.000  1570.502 km  -3.097 km / s\n",
      "2019-07-11 02:01:30.000  1540.859 km  -2.829 km / s\n",
      "2019-07-11 02:01:40.000  1513.972 km  -2.546 km / s\n",
      "2019-07-11 02:01:50.000  1489.993 km  -2.248 km / s\n",
      "2019-07-11 02:02:00.000  1469.068 km  -1.935 km / s\n",
      "2019-07-11 02:02:10.000  1451.331 km  -1.610 km / s\n",
      "2019-07-11 02:02:20.000  1436.902 km  -1.274 km / s\n",
      "2019-07-11 02:02:30.000  1425.882 km  -0.929 km / s\n",
      "2019-07-11 02:02:40.000  1418.353 km  -0.576 km / s\n",
      "2019-07-11 02:02:50.000  1414.371 km  -0.220 km / s\n",
      "2019-07-11 02:03:00.000  1413.966 km  00.139 km / s\n",
      "2019-07-11 02:03:10.000  1417.140 km  00.496 km / s\n",
      "2019-07-11 02:03:20.000  1423.870 km  00.849 km / s\n",
      "2019-07-11 02:03:30.000  1434.104 km  01.196 km / s\n",
      "2019-07-11 02:03:40.000  1447.766 km  01.535 km / s\n",
      "2019-07-11 02:03:50.000  1464.759 km  01.862 km / s\n",
      "2019-07-11 02:04:00.000  1484.965 km  02.177 km / s\n",
      "2019-07-11 02:04:10.000  1508.254 km  02.478 km / s\n",
      "2019-07-11 02:04:20.000  1534.482 km  02.765 km / s\n",
      "2019-07-11 02:04:30.000  1563.497 km  03.036 km / s\n",
      "2019-07-11 02:04:40.000  1595.145 km  03.291 km / s\n",
      "2019-07-11 02:04:50.000  1629.267 km  03.531 km / s\n",
      "2019-07-11 02:05:00.000  1665.707 km  03.755 km / s\n",
      "2019-07-11 02:05:10.000  1704.312 km  03.964 km / s\n",
      "2019-07-11 02:05:20.000  1744.935 km  04.158 km / s\n",
      "2019-07-11 02:05:30.000  1787.431 km  04.339 km / s\n",
      "2019-07-11 02:05:40.000  1831.667 km  04.506 km / s\n",
      "2019-07-11 02:05:50.000  1877.513 km  04.661 km / s\n",
      "2019-07-11 02:06:00.000  1924.849 km  04.804 km / s\n",
      "2019-07-11 02:06:10.000  1973.562 km  04.937 km / s\n",
      "2019-07-11 02:06:20.000  2023.547 km  05.059 km / s\n",
      "2019-07-11 02:06:30.000  2074.705 km  05.171 km / s\n",
      "2019-07-11 02:06:40.000  2126.947 km  05.275 km / s\n",
      "2019-07-11 02:06:50.000  2180.188 km  05.371 km / s\n",
      "2019-07-11 02:07:00.000  2234.350 km  05.460 km / s\n",
      "2019-07-11 02:07:10.000  2289.361 km  05.541 km / s\n",
      "2019-07-11 02:07:20.000  2345.156 km  05.617 km / s\n",
      "2019-07-11 02:07:30.000  2401.672 km  05.686 km / s\n",
      "2019-07-11 02:07:40.000  2458.854 km  05.750 km / s\n",
      "2019-07-11 02:07:50.000  2516.649 km  05.809 km / s\n"
     ]
    }
   ],
   "source": [
    "for o, gs, t in zip(ISS_evolution, GS0_loc, T):\n",
    "    iss_rel_to_gs = o.r - gs[0].xyz\n",
    "    V_iss_rel_to_gs = o.v - gs[1].xyz\n",
    "    V = V_iss_rel_to_gs\n",
    "    \n",
    "    dist = norm(iss_rel_to_gs)\n",
    "    \n",
    "    iss_rel_to_gs_unitary = iss_rel_to_gs / dist\n",
    "    R_u = iss_rel_to_gs_unitary\n",
    "    \n",
    "    \n",
    "    \n",
    "    print('{}  {:06.3f}  {:06.3f}'.format(t,dist, V.dot(R_u)))"
   ]
  },
  {
   "cell_type": "markdown",
   "metadata": {},
   "source": [
    "# Data for all stations."
   ]
  },
  {
   "cell_type": "code",
   "execution_count": 34,
   "metadata": {},
   "outputs": [],
   "source": [
    "GroundStationLocations = [GS0_loc, GS1_loc, GS2_loc, GS3_loc]"
   ]
  },
  {
   "cell_type": "code",
   "execution_count": 47,
   "metadata": {
    "scrolled": true
   },
   "outputs": [
    {
     "name": "stdout",
     "output_type": "stream",
     "text": [
      "2019-07-11 01:59:00.000  2193.102 km  -5.400 km / s\n",
      "2019-07-11 01:59:10.000  2139.572 km  -5.305 km / s\n",
      "2019-07-11 01:59:20.000  2087.028 km  -5.203 km / s\n",
      "2019-07-11 01:59:30.000  2035.550 km  -5.091 km / s\n",
      "2019-07-11 01:59:40.000  1985.230 km  -4.971 km / s\n",
      "2019-07-11 01:59:50.000  1936.163 km  -4.841 km / s\n",
      "2019-07-11 02:00:00.000  1888.452 km  -4.700 km / s\n",
      "2019-07-11 02:00:10.000  1842.209 km  -4.547 km / s\n",
      "2019-07-11 02:00:20.000  1797.552 km  -4.382 km / s\n",
      "2019-07-11 02:00:30.000  1754.609 km  -4.204 km / s\n",
      "2019-07-11 02:00:40.000  1713.513 km  -4.013 km / s\n",
      "2019-07-11 02:00:50.000  1674.404 km  -3.807 km / s\n",
      "2019-07-11 02:01:00.000  1637.431 km  -3.586 km / s\n",
      "2019-07-11 02:01:10.000  1602.745 km  -3.349 km / s\n",
      "2019-07-11 02:01:20.000  1570.502 km  -3.097 km / s\n",
      "2019-07-11 02:01:30.000  1540.859 km  -2.829 km / s\n",
      "2019-07-11 02:01:40.000  1513.972 km  -2.546 km / s\n",
      "2019-07-11 02:01:50.000  1489.993 km  -2.248 km / s\n",
      "2019-07-11 02:02:00.000  1469.068 km  -1.935 km / s\n",
      "2019-07-11 02:02:10.000  1451.331 km  -1.610 km / s\n",
      "2019-07-11 02:02:20.000  1436.902 km  -1.274 km / s\n",
      "2019-07-11 02:02:30.000  1425.882 km  -0.929 km / s\n",
      "2019-07-11 02:02:40.000  1418.353 km  -0.576 km / s\n",
      "2019-07-11 02:02:50.000  1414.371 km  -0.220 km / s\n",
      "2019-07-11 02:03:00.000  1413.966 km  00.139 km / s\n",
      "2019-07-11 02:03:10.000  1417.140 km  00.496 km / s\n",
      "2019-07-11 02:03:20.000  1423.870 km  00.849 km / s\n",
      "2019-07-11 02:03:30.000  1434.104 km  01.196 km / s\n",
      "2019-07-11 02:03:40.000  1447.766 km  01.535 km / s\n",
      "2019-07-11 02:03:50.000  1464.759 km  01.862 km / s\n",
      "2019-07-11 02:04:00.000  1484.965 km  02.177 km / s\n",
      "2019-07-11 02:04:10.000  1508.254 km  02.478 km / s\n",
      "2019-07-11 02:04:20.000  1534.482 km  02.765 km / s\n",
      "2019-07-11 02:04:30.000  1563.497 km  03.036 km / s\n",
      "2019-07-11 02:04:40.000  1595.145 km  03.291 km / s\n",
      "2019-07-11 02:04:50.000  1629.267 km  03.531 km / s\n",
      "2019-07-11 02:05:00.000  1665.707 km  03.755 km / s\n",
      "2019-07-11 02:05:10.000  1704.312 km  03.964 km / s\n",
      "2019-07-11 02:05:20.000  1744.935 km  04.158 km / s\n",
      "2019-07-11 02:05:30.000  1787.431 km  04.339 km / s\n",
      "2019-07-11 02:05:40.000  1831.667 km  04.506 km / s\n",
      "2019-07-11 02:05:50.000  1877.513 km  04.661 km / s\n",
      "2019-07-11 02:06:00.000  1924.849 km  04.804 km / s\n",
      "2019-07-11 02:06:10.000  1973.562 km  04.937 km / s\n",
      "2019-07-11 02:06:20.000  2023.547 km  05.059 km / s\n",
      "2019-07-11 02:06:30.000  2074.705 km  05.171 km / s\n",
      "2019-07-11 02:06:40.000  2126.947 km  05.275 km / s\n",
      "2019-07-11 02:06:50.000  2180.188 km  05.371 km / s\n",
      "2019-07-11 02:07:00.000  2234.350 km  05.460 km / s\n",
      "2019-07-11 02:07:10.000  2289.361 km  05.541 km / s\n",
      "2019-07-11 02:07:20.000  2345.156 km  05.617 km / s\n",
      "2019-07-11 02:07:30.000  2401.672 km  05.686 km / s\n",
      "2019-07-11 02:07:40.000  2458.854 km  05.750 km / s\n",
      "2019-07-11 02:07:50.000  2516.649 km  05.809 km / s\n",
      "\n",
      "\n",
      "\n",
      "2019-07-11 01:59:00.000  2053.046 km  -5.908 km / s\n",
      "2019-07-11 01:59:10.000  1994.323 km  -5.835 km / s\n",
      "2019-07-11 01:59:20.000  1936.368 km  -5.755 km / s\n",
      "2019-07-11 01:59:30.000  1879.257 km  -5.666 km / s\n",
      "2019-07-11 01:59:40.000  1823.077 km  -5.568 km / s\n",
      "2019-07-11 01:59:50.000  1767.923 km  -5.461 km / s\n",
      "2019-07-11 02:00:00.000  1713.903 km  -5.342 km / s\n",
      "2019-07-11 02:00:10.000  1661.132 km  -5.210 km / s\n",
      "2019-07-11 02:00:20.000  1609.740 km  -5.066 km / s\n",
      "2019-07-11 02:00:30.000  1559.871 km  -4.906 km / s\n",
      "2019-07-11 02:00:40.000  1511.680 km  -4.730 km / s\n",
      "2019-07-11 02:00:50.000  1465.338 km  -4.536 km / s\n",
      "2019-07-11 02:01:00.000  1421.034 km  -4.322 km / s\n",
      "2019-07-11 02:01:10.000  1378.968 km  -4.088 km / s\n",
      "2019-07-11 02:01:20.000  1339.357 km  -3.831 km / s\n",
      "2019-07-11 02:01:30.000  1302.429 km  -3.551 km / s\n",
      "2019-07-11 02:01:40.000  1268.423 km  -3.246 km / s\n",
      "2019-07-11 02:01:50.000  1237.585 km  -2.917 km / s\n",
      "2019-07-11 02:02:00.000  1210.159 km  -2.564 km / s\n",
      "2019-07-11 02:02:10.000  1186.386 km  -2.187 km / s\n",
      "2019-07-11 02:02:20.000  1166.491 km  -1.788 km / s\n",
      "2019-07-11 02:02:30.000  1150.680 km  -1.371 km / s\n",
      "2019-07-11 02:02:40.000  1139.122 km  -0.938 km / s\n",
      "2019-07-11 02:02:50.000  1131.949 km  -0.495 km / s\n",
      "2019-07-11 02:03:00.000  1129.247 km  -0.045 km / s\n",
      "2019-07-11 02:03:10.000  1131.046 km  00.405 km / s\n",
      "2019-07-11 02:03:20.000  1137.326 km  00.850 km / s\n",
      "2019-07-11 02:03:30.000  1148.012 km  01.285 km / s\n",
      "2019-07-11 02:03:40.000  1162.980 km  01.706 km / s\n",
      "2019-07-11 02:03:50.000  1182.067 km  02.108 km / s\n",
      "2019-07-11 02:04:00.000  1205.073 km  02.489 km / s\n",
      "2019-07-11 02:04:10.000  1231.778 km  02.847 km / s\n",
      "2019-07-11 02:04:20.000  1261.942 km  03.181 km / s\n",
      "2019-07-11 02:04:30.000  1295.320 km  03.490 km / s\n",
      "2019-07-11 02:04:40.000  1331.667 km  03.775 km / s\n",
      "2019-07-11 02:04:50.000  1370.743 km  04.036 km / s\n",
      "2019-07-11 02:05:00.000  1412.315 km  04.275 km / s\n",
      "2019-07-11 02:05:10.000  1456.166 km  04.492 km / s\n",
      "2019-07-11 02:05:20.000  1502.090 km  04.690 km / s\n",
      "2019-07-11 02:05:30.000  1549.898 km  04.869 km / s\n",
      "2019-07-11 02:05:40.000  1599.416 km  05.032 km / s\n",
      "2019-07-11 02:05:50.000  1650.483 km  05.179 km / s\n",
      "2019-07-11 02:06:00.000  1702.955 km  05.313 km / s\n",
      "2019-07-11 02:06:10.000  1756.699 km  05.434 km / s\n",
      "2019-07-11 02:06:20.000  1811.597 km  05.544 km / s\n",
      "2019-07-11 02:06:30.000  1867.538 km  05.643 km / s\n",
      "2019-07-11 02:06:40.000  1924.427 km  05.733 km / s\n",
      "2019-07-11 02:06:50.000  1982.175 km  05.815 km / s\n",
      "2019-07-11 02:07:00.000  2040.703 km  05.889 km / s\n",
      "2019-07-11 02:07:10.000  2099.937 km  05.957 km / s\n",
      "2019-07-11 02:07:20.000  2159.814 km  06.018 km / s\n",
      "2019-07-11 02:07:30.000  2220.274 km  06.073 km / s\n",
      "2019-07-11 02:07:40.000  2281.264 km  06.124 km / s\n",
      "2019-07-11 02:07:50.000  2342.735 km  06.170 km / s\n",
      "\n",
      "\n",
      "\n",
      "2019-07-11 01:59:00.000  2244.091 km  -5.295 km / s\n",
      "2019-07-11 01:59:10.000  2191.616 km  -5.198 km / s\n",
      "2019-07-11 01:59:20.000  2140.150 km  -5.094 km / s\n",
      "2019-07-11 01:59:30.000  2089.773 km  -4.980 km / s\n",
      "2019-07-11 01:59:40.000  2040.573 km  -4.858 km / s\n",
      "2019-07-11 01:59:50.000  1992.643 km  -4.726 km / s\n",
      "2019-07-11 02:00:00.000  1946.082 km  -4.584 km / s\n",
      "2019-07-11 02:00:10.000  1900.996 km  -4.431 km / s\n",
      "2019-07-11 02:00:20.000  1857.498 km  -4.266 km / s\n",
      "2019-07-11 02:00:30.000  1815.709 km  -4.089 km / s\n",
      "2019-07-11 02:00:40.000  1775.752 km  -3.900 km / s\n",
      "2019-07-11 02:00:50.000  1737.760 km  -3.697 km / s\n",
      "2019-07-11 02:01:00.000  1701.868 km  -3.480 km / s\n",
      "2019-07-11 02:01:10.000  1668.216 km  -3.248 km / s\n",
      "2019-07-11 02:01:20.000  1636.947 km  -3.003 km / s\n",
      "2019-07-11 02:01:30.000  1608.202 km  -2.743 km / s\n",
      "2019-07-11 02:01:40.000  1582.124 km  -2.470 km / s\n",
      "2019-07-11 02:01:50.000  1558.848 km  -2.183 km / s\n",
      "2019-07-11 02:02:00.000  1538.504 km  -1.884 km / s\n",
      "2019-07-11 02:02:10.000  1521.213 km  -1.573 km / s\n",
      "2019-07-11 02:02:20.000  1507.081 km  -1.252 km / s\n",
      "2019-07-11 02:02:30.000  1496.199 km  -0.923 km / s\n",
      "2019-07-11 02:02:40.000  1488.639 km  -0.588 km / s\n",
      "2019-07-11 02:02:50.000  1484.453 km  -0.249 km / s\n",
      "2019-07-11 02:03:00.000  1483.670 km  00.092 km / s\n",
      "2019-07-11 02:03:10.000  1486.295 km  00.432 km / s\n",
      "2019-07-11 02:03:20.000  1492.309 km  00.770 km / s\n",
      "2019-07-11 02:03:30.000  1501.671 km  01.102 km / s\n",
      "2019-07-11 02:03:40.000  1514.316 km  01.426 km / s\n",
      "2019-07-11 02:03:50.000  1530.163 km  01.741 km / s\n",
      "2019-07-11 02:04:00.000  1549.110 km  02.046 km / s\n",
      "2019-07-11 02:04:10.000  1571.044 km  02.338 km / s\n",
      "2019-07-11 02:04:20.000  1595.837 km  02.618 km / s\n",
      "2019-07-11 02:04:30.000  1623.355 km  02.884 km / s\n",
      "2019-07-11 02:04:40.000  1653.460 km  03.135 km / s\n",
      "2019-07-11 02:04:50.000  1686.009 km  03.372 km / s\n",
      "2019-07-11 02:05:00.000  1720.859 km  03.595 km / s\n",
      "2019-07-11 02:05:10.000  1757.869 km  03.804 km / s\n",
      "2019-07-11 02:05:20.000  1796.901 km  04.000 km / s\n",
      "2019-07-11 02:05:30.000  1837.821 km  04.182 km / s\n",
      "2019-07-11 02:05:40.000  1880.502 km  04.352 km / s\n",
      "2019-07-11 02:05:50.000  1924.820 km  04.510 km / s\n",
      "2019-07-11 02:06:00.000  1970.661 km  04.656 km / s\n",
      "2019-07-11 02:06:10.000  2017.914 km  04.792 km / s\n",
      "2019-07-11 02:06:20.000  2066.477 km  04.919 km / s\n",
      "2019-07-11 02:06:30.000  2116.254 km  05.035 km / s\n",
      "2019-07-11 02:06:40.000  2167.156 km  05.144 km / s\n",
      "2019-07-11 02:06:50.000  2219.099 km  05.244 km / s\n",
      "2019-07-11 02:07:00.000  2272.005 km  05.336 km / s\n",
      "2019-07-11 02:07:10.000  2325.803 km  05.422 km / s\n",
      "2019-07-11 02:07:20.000  2380.424 km  05.501 km / s\n",
      "2019-07-11 02:07:30.000  2435.809 km  05.575 km / s\n",
      "2019-07-11 02:07:40.000  2491.898 km  05.642 km / s\n",
      "2019-07-11 02:07:50.000  2548.639 km  05.705 km / s\n",
      "\n",
      "\n",
      "\n",
      "2019-07-11 01:59:00.000  1916.541 km  -4.987 km / s\n",
      "2019-07-11 01:59:10.000  1867.332 km  -4.852 km / s\n",
      "2019-07-11 01:59:20.000  1819.530 km  -4.706 km / s\n",
      "2019-07-11 01:59:30.000  1773.254 km  -4.547 km / s\n",
      "2019-07-11 01:59:40.000  1728.633 km  -4.375 km / s\n",
      "2019-07-11 01:59:50.000  1685.803 km  -4.189 km / s\n",
      "2019-07-11 02:00:00.000  1644.909 km  -3.988 km / s\n",
      "2019-07-11 02:00:10.000  1606.105 km  -3.771 km / s\n",
      "2019-07-11 02:00:20.000  1569.550 km  -3.538 km / s\n",
      "2019-07-11 02:00:30.000  1535.408 km  -3.288 km / s\n",
      "2019-07-11 02:00:40.000  1503.848 km  -3.021 km / s\n",
      "2019-07-11 02:00:50.000  1475.041 km  -2.738 km / s\n",
      "2019-07-11 02:01:00.000  1449.152 km  -2.437 km / s\n",
      "2019-07-11 02:01:10.000  1426.345 km  -2.121 km / s\n",
      "2019-07-11 02:01:20.000  1406.772 km  -1.791 km / s\n",
      "2019-07-11 02:01:30.000  1390.570 km  -1.447 km / s\n",
      "2019-07-11 02:01:40.000  1377.862 km  -1.093 km / s\n",
      "2019-07-11 02:01:50.000  1368.746 km  -0.729 km / s\n",
      "2019-07-11 02:02:00.000  1363.294 km  -0.360 km / s\n",
      "2019-07-11 02:02:10.000  1361.552 km  00.012 km / s\n",
      "2019-07-11 02:02:20.000  1363.532 km  00.384 km / s\n",
      "2019-07-11 02:02:30.000  1369.220 km  00.753 km / s\n",
      "2019-07-11 02:02:40.000  1378.567 km  01.115 km / s\n",
      "2019-07-11 02:02:50.000  1391.500 km  01.469 km / s\n",
      "2019-07-11 02:03:00.000  1407.917 km  01.812 km / s\n",
      "2019-07-11 02:03:10.000  1427.695 km  02.141 km / s\n",
      "2019-07-11 02:03:20.000  1450.696 km  02.456 km / s\n",
      "2019-07-11 02:03:30.000  1476.766 km  02.755 km / s\n",
      "2019-07-11 02:03:40.000  1505.741 km  03.037 km / s\n",
      "2019-07-11 02:03:50.000  1537.454 km  03.303 km / s\n",
      "2019-07-11 02:04:00.000  1571.736 km  03.551 km / s\n",
      "2019-07-11 02:04:10.000  1608.418 km  03.783 km / s\n",
      "2019-07-11 02:04:20.000  1647.336 km  03.998 km / s\n",
      "2019-07-11 02:04:30.000  1688.329 km  04.198 km / s\n",
      "2019-07-11 02:04:40.000  1731.246 km  04.383 km / s\n",
      "2019-07-11 02:04:50.000  1775.942 km  04.554 km / s\n",
      "2019-07-11 02:05:00.000  1822.281 km  04.712 km / s\n",
      "2019-07-11 02:05:10.000  1870.135 km  04.857 km / s\n",
      "2019-07-11 02:05:20.000  1919.385 km  04.991 km / s\n",
      "2019-07-11 02:05:30.000  1969.921 km  05.114 km / s\n",
      "2019-07-11 02:05:40.000  2021.640 km  05.228 km / s\n",
      "2019-07-11 02:05:50.000  2074.448 km  05.332 km / s\n",
      "2019-07-11 02:06:00.000  2128.257 km  05.428 km / s\n",
      "2019-07-11 02:06:10.000  2182.987 km  05.517 km / s\n",
      "2019-07-11 02:06:20.000  2238.564 km  05.598 km / s\n"
     ]
    },
    {
     "name": "stdout",
     "output_type": "stream",
     "text": [
      "2019-07-11 02:06:30.000  2294.919 km  05.672 km / s\n",
      "2019-07-11 02:06:40.000  2351.991 km  05.741 km / s\n",
      "2019-07-11 02:06:50.000  2409.721 km  05.804 km / s\n",
      "2019-07-11 02:07:00.000  2468.056 km  05.862 km / s\n",
      "2019-07-11 02:07:10.000  2526.949 km  05.916 km / s\n",
      "2019-07-11 02:07:20.000  2586.353 km  05.965 km / s\n",
      "2019-07-11 02:07:30.000  2646.227 km  06.010 km / s\n",
      "2019-07-11 02:07:40.000  2706.533 km  06.051 km / s\n",
      "2019-07-11 02:07:50.000  2767.235 km  06.089 km / s\n",
      "\n",
      "\n",
      "\n"
     ]
    }
   ],
   "source": [
    "for GS_loc in GroundStationLocations:\n",
    "    for o, gs, t in zip(ISS_evolution, GS_loc, T):\n",
    "        iss_rel_to_gs = o.r - gs[0].xyz\n",
    "        V_iss_rel_to_gs = o.v - gs[1].xyz\n",
    "        V = V_iss_rel_to_gs\n",
    "\n",
    "        dist = norm(iss_rel_to_gs)\n",
    "\n",
    "        iss_rel_to_gs_unitary = iss_rel_to_gs / dist\n",
    "        R_u = iss_rel_to_gs_unitary\n",
    "\n",
    "\n",
    "\n",
    "        print('{}  {:06.3f}  {:06.3f}'.format(t,dist, V.dot(R_u)))\n",
    "        \n",
    "    print(\"\\n\\n\")"
   ]
  },
  {
   "cell_type": "markdown",
   "metadata": {},
   "source": [
    "With the data, we can create the JSON files."
   ]
  },
  {
   "cell_type": "markdown",
   "metadata": {},
   "source": [
    "# Redshift Formula\n",
    "\n",
    "Taking into acocunt Transverse Relativistic Redshift\n",
    "\n",
    "#### Doppler Measurement and Compensation in Mobile Satellite Communications Systems\n",
    "\n",
    "Quingchou Liu\n",
    "\n",
    "\n",
    "$f = f_c \\left( 1 + \\frac{v(t)}{c} \\cos \\left(\\alpha(t)\\right) \\right)$\n",
    "\n",
    "With $\\alpha$ as the angle between the satellite's velocity and the direction of propagation."
   ]
  },
  {
   "cell_type": "code",
   "execution_count": 36,
   "metadata": {},
   "outputs": [],
   "source": [
    "c = 299792.458 * u.km / u.s\n",
    "\n",
    "def redshift(f_0, Vradial ):\n",
    "    \n",
    "    return f_0 * (1 + Vradial / c)"
   ]
  },
  {
   "cell_type": "markdown",
   "metadata": {},
   "source": [
    "# Data to JSON"
   ]
  },
  {
   "cell_type": "code",
   "execution_count": 48,
   "metadata": {},
   "outputs": [],
   "source": [
    "comment = \"Testing data. ISS Passing over Germany on 2019-07-11 1:59.\"\n",
    "\n",
    "file_name = \"jena_iss_test.json\"\n",
    "gs_count  = 1\n",
    "sat_count = 1\n",
    "\n",
    "gs_id     = \"GS_JENA_1\"\n",
    "lat       = GS[0]['gs_lat']\n",
    "lon       = GS[0]['gs_lon']\n",
    "alt       = GS[0]['gs_alt']\n",
    "monitored = \"ISS\"\n",
    "\n",
    "sat_id    = 25544\n",
    "f_c       = 630.0 * (10**6) / u.s # ISS telemetry MHz\n"
   ]
  },
  {
   "cell_type": "code",
   "execution_count": 49,
   "metadata": {
    "scrolled": true
   },
   "outputs": [
    {
     "name": "stdout",
     "output_type": "stream",
     "text": [
      "OrderedDict([('time_unix', '1562810340.000'), ('time_gnss', None), ('f_m', '629988653.04'), ('gs_distance', '2193.10')])\n"
     ]
    }
   ],
   "source": [
    "data_stream = []\n",
    "\n",
    "for o, gs, t in zip(ISS_evolution, GS0_loc, T):\n",
    "    iss_rel_to_gs = o.r - gs[0].xyz\n",
    "    V_iss_rel_to_gs = o.v - gs[1].xyz\n",
    "    V = V_iss_rel_to_gs\n",
    "    \n",
    "    dist = norm(iss_rel_to_gs)\n",
    "    \n",
    "    iss_rel_to_gs_unitary = iss_rel_to_gs / dist\n",
    "    R_u = iss_rel_to_gs_unitary\n",
    "    \n",
    "    \n",
    "    item = OrderedDict([\n",
    "            ('time_unix'   , '{:06.3f}'.format(t.unix)), \n",
    "            ('time_gnss'   , None),\n",
    "            ('f_m'         , '{:06.2f}'.format(redshift(f_c, V.dot(R_u)).value)),\n",
    "            ('gs_distance' , '{:06.2f}'.format(dist.value))\n",
    "                       ])\n",
    "    \n",
    "    data_stream.append(item)\n",
    "    \n",
    "print(data_stream[0])"
   ]
  },
  {
   "cell_type": "code",
   "execution_count": 50,
   "metadata": {},
   "outputs": [],
   "source": [
    "data_to_parse = OrderedDict([('__comment'    , comment),\n",
    "                 ('meta_data',  \n",
    "                  OrderedDict([('file_name'   , file_name),\n",
    "                               ('gs_count'    , gs_count), \n",
    "                               ('sat_count'   , sat_count)])),\n",
    "                 ('ground_station',\n",
    "                  OrderedDict([                  \n",
    "                             ('gs_id'       , gs_id),\n",
    "                             ('lat'         , lat),\n",
    "                             ('lon'         , lon),\n",
    "                             ('alt'         , alt),\n",
    "                             ('monitored'   , monitored)])),\n",
    "                 ('satellites',[\n",
    "                  OrderedDict([\n",
    "                         ('sat_id'      , sat_id),\n",
    "                         ('f_c'         , f_c.value),\n",
    "                         ('data_stream' , data_stream)]) \n",
    "                 ]) \n",
    "                ])"
   ]
  },
  {
   "cell_type": "code",
   "execution_count": 51,
   "metadata": {
    "scrolled": false
   },
   "outputs": [
    {
     "name": "stdout",
     "output_type": "stream",
     "text": [
      "{\n",
      "    \"__comment\": \"Testing data. ISS Passing over Germany on 2019-07-11 1:59.\",\n",
      "    \"meta_data\": {\n",
      "        \"file_name\": \"jena_iss_test.json\",\n",
      "        \"gs_count\": 1,\n",
      "        \"sat_count\": 1\n",
      "    },\n",
      "    \"ground_station\": {\n",
      "        \"gs_id\": \"GS_JENA_1\",\n",
      "        \"lat\": 50.9271,\n",
      "        \"lon\": 11.5892,\n",
      "        \"alt\": 143,\n",
      "        \"monitored\": \"ISS\"\n",
      "    },\n",
      "    \"satellites\": [\n",
      "        {\n",
      "            \"sat_id\": 25544,\n",
      "            \"f_c\": 630000000.0,\n",
      "            \"data_stream\": [\n",
      "                {\n",
      "                    \"time_unix\": \"1562810340.000\",\n",
      "                    \"time_gnss\": null,\n",
      "                    \"f_m\": \"629988653.04\",\n",
      "                    \"gs_distance\": \"2193.10\"\n",
      "                },\n",
      "                {\n",
      "                    \"time_unix\": \"1562810350.000\",\n",
      "                    \"time_gnss\": null,\n",
      "                    \"f_m\": \"629988851.74\",\n",
      "                    \"gs_distance\": \"2139.57\"\n",
      "                },\n",
      "                {\n",
      "                    \"time_unix\": \"1562810360.000\",\n",
      "                    \"time_gnss\": null,\n",
      "                    \"f_m\": \"629989067.15\",\n",
      "                    \"gs_distance\": \"2087.03\"\n",
      "                },\n",
      "                {\n",
      "                    \"time_unix\": \"1562810370.000\",\n",
      "                    \"time_gnss\": null,\n",
      "                    \"f_m\": \"629989300.60\",\n",
      "                    \"gs_distance\": \"2035.55\"\n",
      "                },\n",
      "                {\n",
      "                    \"time_unix\": \"1562810380.000\",\n",
      "                    \"time_gnss\": null,\n",
      "                    \"f_m\": \"629989553.55\",\n",
      "                    \"gs_distance\": \"1985.23\"\n",
      "                },\n",
      "                {\n",
      "                    \"time_unix\": \"1562810390.000\",\n",
      "                    \"time_gnss\": null,\n",
      "                    \"f_m\": \"629989827.48\",\n",
      "                    \"gs_distance\": \"1936.16\"\n",
      "                },\n",
      "                {\n",
      "                    \"time_unix\": \"1562810400.000\",\n",
      "                    \"time_gnss\": null,\n",
      "                    \"f_m\": \"629990123.98\",\n",
      "                    \"gs_distance\": \"1888.45\"\n",
      "                },\n",
      "                {\n",
      "                    \"time_unix\": \"1562810410.000\",\n",
      "                    \"time_gnss\": null,\n",
      "                    \"f_m\": \"629990444.64\",\n",
      "                    \"gs_distance\": \"1842.21\"\n",
      "                },\n",
      "                {\n",
      "                    \"time_unix\": \"1562810420.000\",\n",
      "                    \"time_gnss\": null,\n",
      "                    \"f_m\": \"629990791.09\",\n",
      "                    \"gs_distance\": \"1797.55\"\n",
      "                },\n",
      "                {\n",
      "                    \"time_unix\": \"1562810430.000\",\n",
      "                    \"time_gnss\": null,\n",
      "                    \"f_m\": \"629991164.92\",\n",
      "                    \"gs_distance\": \"1754.61\"\n",
      "                },\n",
      "                {\n",
      "                    \"time_unix\": \"1562810440.000\",\n",
      "                    \"time_gnss\": null,\n",
      "                    \"f_m\": \"629991567.64\",\n",
      "                    \"gs_distance\": \"1713.51\"\n",
      "                },\n",
      "                {\n",
      "                    \"time_unix\": \"1562810450.000\",\n",
      "                    \"time_gnss\": null,\n",
      "                    \"f_m\": \"629992000.67\",\n",
      "                    \"gs_distance\": \"1674.40\"\n",
      "                },\n",
      "                {\n",
      "                    \"time_unix\": \"1562810460.000\",\n",
      "                    \"time_gnss\": null,\n",
      "                    \"f_m\": \"629992465.18\",\n",
      "                    \"gs_distance\": \"1637.43\"\n",
      "                },\n",
      "                {\n",
      "                    \"time_unix\": \"1562810470.000\",\n",
      "                    \"time_gnss\": null,\n",
      "                    \"f_m\": \"629992962.09\",\n",
      "                    \"gs_distance\": \"1602.75\"\n",
      "                },\n",
      "                {\n",
      "                    \"time_unix\": \"1562810480.000\",\n",
      "                    \"time_gnss\": null,\n",
      "                    \"f_m\": \"629993491.94\",\n",
      "                    \"gs_distance\": \"1570.50\"\n",
      "                },\n",
      "                {\n",
      "                    \"time_unix\": \"1562810490.000\",\n",
      "                    \"time_gnss\": null,\n",
      "                    \"f_m\": \"629994054.80\",\n",
      "                    \"gs_distance\": \"1540.86\"\n",
      "                },\n",
      "                {\n",
      "                    \"time_unix\": \"1562810500.000\",\n",
      "                    \"time_gnss\": null,\n",
      "                    \"f_m\": \"629994650.18\",\n",
      "                    \"gs_distance\": \"1513.97\"\n",
      "                },\n",
      "                {\n",
      "                    \"time_unix\": \"1562810510.000\",\n",
      "                    \"time_gnss\": null,\n",
      "                    \"f_m\": \"629995276.93\",\n",
      "                    \"gs_distance\": \"1489.99\"\n",
      "                },\n",
      "                {\n",
      "                    \"time_unix\": \"1562810520.000\",\n",
      "                    \"time_gnss\": null,\n",
      "                    \"f_m\": \"629995933.18\",\n",
      "                    \"gs_distance\": \"1469.07\"\n",
      "                },\n",
      "                {\n",
      "                    \"time_unix\": \"1562810530.000\",\n",
      "                    \"time_gnss\": null,\n",
      "                    \"f_m\": \"629996616.28\",\n",
      "                    \"gs_distance\": \"1451.33\"\n",
      "                },\n",
      "                {\n",
      "                    \"time_unix\": \"1562810540.000\",\n",
      "                    \"time_gnss\": null,\n",
      "                    \"f_m\": \"629997322.82\",\n",
      "                    \"gs_distance\": \"1436.90\"\n",
      "                },\n",
      "                {\n",
      "                    \"time_unix\": \"1562810550.000\",\n",
      "                    \"time_gnss\": null,\n",
      "                    \"f_m\": \"629998048.65\",\n",
      "                    \"gs_distance\": \"1425.88\"\n",
      "                },\n",
      "                {\n",
      "                    \"time_unix\": \"1562810560.000\",\n",
      "                    \"time_gnss\": null,\n",
      "                    \"f_m\": \"629998788.95\",\n",
      "                    \"gs_distance\": \"1418.35\"\n",
      "                },\n",
      "                {\n",
      "                    \"time_unix\": \"1562810570.000\",\n",
      "                    \"time_gnss\": null,\n",
      "                    \"f_m\": \"629999538.40\",\n",
      "                    \"gs_distance\": \"1414.37\"\n",
      "                },\n",
      "                {\n",
      "                    \"time_unix\": \"1562810580.000\",\n",
      "                    \"time_gnss\": null,\n",
      "                    \"f_m\": \"630000291.35\",\n",
      "                    \"gs_distance\": \"1413.97\"\n",
      "                },\n",
      "                {\n",
      "                    \"time_unix\": \"1562810590.000\",\n",
      "                    \"time_gnss\": null,\n",
      "                    \"f_m\": \"630001042.00\",\n",
      "                    \"gs_distance\": \"1417.14\"\n",
      "                },\n",
      "                {\n",
      "                    \"time_unix\": \"1562810600.000\",\n",
      "                    \"time_gnss\": null,\n",
      "                    \"f_m\": \"630001784.65\",\n",
      "                    \"gs_distance\": \"1423.87\"\n",
      "                },\n",
      "                {\n",
      "                    \"time_unix\": \"1562810610.000\",\n",
      "                    \"time_gnss\": null,\n",
      "                    \"f_m\": \"630002513.88\",\n",
      "                    \"gs_distance\": \"1434.10\"\n",
      "                },\n",
      "                {\n",
      "                    \"time_unix\": \"1562810620.000\",\n",
      "                    \"time_gnss\": null,\n",
      "                    \"f_m\": \"630003224.77\",\n",
      "                    \"gs_distance\": \"1447.77\"\n",
      "                },\n",
      "                {\n",
      "                    \"time_unix\": \"1562810630.000\",\n",
      "                    \"time_gnss\": null,\n",
      "                    \"f_m\": \"630003913.02\",\n",
      "                    \"gs_distance\": \"1464.76\"\n",
      "                },\n",
      "                {\n",
      "                    \"time_unix\": \"1562810640.000\",\n",
      "                    \"time_gnss\": null,\n",
      "                    \"f_m\": \"630004575.04\",\n",
      "                    \"gs_distance\": \"1484.97\"\n",
      "                },\n",
      "                {\n",
      "                    \"time_unix\": \"1562810650.000\",\n",
      "                    \"time_gnss\": null,\n",
      "                    \"f_m\": \"630005208.02\",\n",
      "                    \"gs_distance\": \"1508.25\"\n",
      "                },\n",
      "                {\n",
      "                    \"time_unix\": \"1562810660.000\",\n",
      "                    \"time_gnss\": null,\n",
      "                    \"f_m\": \"630005809.94\",\n",
      "                    \"gs_distance\": \"1534.48\"\n",
      "                },\n",
      "                {\n",
      "                    \"time_unix\": \"1562810670.000\",\n",
      "                    \"time_gnss\": null,\n",
      "                    \"f_m\": \"630006379.49\",\n",
      "                    \"gs_distance\": \"1563.50\"\n",
      "                },\n",
      "                {\n",
      "                    \"time_unix\": \"1562810680.000\",\n",
      "                    \"time_gnss\": null,\n",
      "                    \"f_m\": \"630006916.06\",\n",
      "                    \"gs_distance\": \"1595.14\"\n",
      "                },\n",
      "                {\n",
      "                    \"time_unix\": \"1562810690.000\",\n",
      "                    \"time_gnss\": null,\n",
      "                    \"f_m\": \"630007419.59\",\n",
      "                    \"gs_distance\": \"1629.27\"\n",
      "                },\n",
      "                {\n",
      "                    \"time_unix\": \"1562810700.000\",\n",
      "                    \"time_gnss\": null,\n",
      "                    \"f_m\": \"630007890.55\",\n",
      "                    \"gs_distance\": \"1665.71\"\n",
      "                },\n",
      "                {\n",
      "                    \"time_unix\": \"1562810710.000\",\n",
      "                    \"time_gnss\": null,\n",
      "                    \"f_m\": \"630008329.78\",\n",
      "                    \"gs_distance\": \"1704.31\"\n",
      "                },\n",
      "                {\n",
      "                    \"time_unix\": \"1562810720.000\",\n",
      "                    \"time_gnss\": null,\n",
      "                    \"f_m\": \"630008738.41\",\n",
      "                    \"gs_distance\": \"1744.93\"\n",
      "                },\n",
      "                {\n",
      "                    \"time_unix\": \"1562810730.000\",\n",
      "                    \"time_gnss\": null,\n",
      "                    \"f_m\": \"630009117.80\",\n",
      "                    \"gs_distance\": \"1787.43\"\n",
      "                },\n",
      "                {\n",
      "                    \"time_unix\": \"1562810740.000\",\n",
      "                    \"time_gnss\": null,\n",
      "                    \"f_m\": \"630009469.46\",\n",
      "                    \"gs_distance\": \"1831.67\"\n",
      "                },\n",
      "                {\n",
      "                    \"time_unix\": \"1562810750.000\",\n",
      "                    \"time_gnss\": null,\n",
      "                    \"f_m\": \"630009794.97\",\n",
      "                    \"gs_distance\": \"1877.51\"\n",
      "                },\n",
      "                {\n",
      "                    \"time_unix\": \"1562810760.000\",\n",
      "                    \"time_gnss\": null,\n",
      "                    \"f_m\": \"630010095.94\",\n",
      "                    \"gs_distance\": \"1924.85\"\n",
      "                },\n",
      "                {\n",
      "                    \"time_unix\": \"1562810770.000\",\n",
      "                    \"time_gnss\": null,\n",
      "                    \"f_m\": \"630010374.00\",\n",
      "                    \"gs_distance\": \"1973.56\"\n",
      "                },\n",
      "                {\n",
      "                    \"time_unix\": \"1562810780.000\",\n",
      "                    \"time_gnss\": null,\n",
      "                    \"f_m\": \"630010630.73\",\n",
      "                    \"gs_distance\": \"2023.55\"\n",
      "                },\n",
      "                {\n",
      "                    \"time_unix\": \"1562810790.000\",\n",
      "                    \"time_gnss\": null,\n",
      "                    \"f_m\": \"630010867.63\",\n",
      "                    \"gs_distance\": \"2074.71\"\n",
      "                },\n",
      "                {\n",
      "                    \"time_unix\": \"1562810800.000\",\n",
      "                    \"time_gnss\": null,\n",
      "                    \"f_m\": \"630011086.17\",\n",
      "                    \"gs_distance\": \"2126.95\"\n",
      "                },\n",
      "                {\n",
      "                    \"time_unix\": \"1562810810.000\",\n",
      "                    \"time_gnss\": null,\n",
      "                    \"f_m\": \"630011287.72\",\n",
      "                    \"gs_distance\": \"2180.19\"\n",
      "                },\n",
      "                {\n",
      "                    \"time_unix\": \"1562810820.000\",\n",
      "                    \"time_gnss\": null,\n",
      "                    \"f_m\": \"630011473.56\",\n",
      "                    \"gs_distance\": \"2234.35\"\n",
      "                },\n",
      "                {\n",
      "                    \"time_unix\": \"1562810830.000\",\n",
      "                    \"time_gnss\": null,\n",
      "                    \"f_m\": \"630011644.90\",\n",
      "                    \"gs_distance\": \"2289.36\"\n",
      "                },\n",
      "                {\n",
      "                    \"time_unix\": \"1562810840.000\",\n",
      "                    \"time_gnss\": null,\n",
      "                    \"f_m\": \"630011802.86\",\n",
      "                    \"gs_distance\": \"2345.16\"\n",
      "                },\n",
      "                {\n",
      "                    \"time_unix\": \"1562810850.000\",\n",
      "                    \"time_gnss\": null,\n",
      "                    \"f_m\": \"630011948.46\",\n",
      "                    \"gs_distance\": \"2401.67\"\n",
      "                },\n",
      "                {\n",
      "                    \"time_unix\": \"1562810860.000\",\n",
      "                    \"time_gnss\": null,\n",
      "                    \"f_m\": \"630012082.66\",\n",
      "                    \"gs_distance\": \"2458.85\"\n",
      "                },\n",
      "                {\n",
      "                    \"time_unix\": \"1562810870.000\",\n",
      "                    \"time_gnss\": null,\n",
      "                    \"f_m\": \"630012206.33\",\n",
      "                    \"gs_distance\": \"2516.65\"\n",
      "                }\n",
      "            ]\n",
      "        }\n",
      "    ]\n",
      "}\n"
     ]
    }
   ],
   "source": [
    "print(json.dumps(data_to_parse, indent=4, sort_keys=False))"
   ]
  },
  {
   "cell_type": "code",
   "execution_count": null,
   "metadata": {},
   "outputs": [],
   "source": []
  },
  {
   "cell_type": "code",
   "execution_count": null,
   "metadata": {},
   "outputs": [],
   "source": []
  },
  {
   "cell_type": "code",
   "execution_count": null,
   "metadata": {},
   "outputs": [],
   "source": []
  },
  {
   "cell_type": "code",
   "execution_count": null,
   "metadata": {},
   "outputs": [],
   "source": []
  },
  {
   "cell_type": "code",
   "execution_count": null,
   "metadata": {},
   "outputs": [],
   "source": []
  },
  {
   "cell_type": "code",
   "execution_count": null,
   "metadata": {},
   "outputs": [],
   "source": []
  },
  {
   "cell_type": "code",
   "execution_count": null,
   "metadata": {},
   "outputs": [],
   "source": []
  },
  {
   "cell_type": "code",
   "execution_count": null,
   "metadata": {},
   "outputs": [],
   "source": []
  },
  {
   "cell_type": "code",
   "execution_count": null,
   "metadata": {},
   "outputs": [],
   "source": []
  },
  {
   "cell_type": "code",
   "execution_count": null,
   "metadata": {},
   "outputs": [],
   "source": []
  }
 ],
 "metadata": {
  "kernelspec": {
   "display_name": "Python 3",
   "language": "python",
   "name": "python3"
  },
  "language_info": {
   "codemirror_mode": {
    "name": "ipython",
    "version": 3
   },
   "file_extension": ".py",
   "mimetype": "text/x-python",
   "name": "python",
   "nbconvert_exporter": "python",
   "pygments_lexer": "ipython3",
   "version": "3.5.2"
  }
 },
 "nbformat": 4,
 "nbformat_minor": 2
}
