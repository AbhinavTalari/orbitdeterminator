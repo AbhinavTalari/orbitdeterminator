{
 "cells": [
  {
   "cell_type": "code",
   "execution_count": 1,
   "metadata": {},
   "outputs": [],
   "source": [
    "# This module runs a MonteCarlo meethod \n",
    "# using the EMCEE library\n",
    "# Poliastro and Astropy.\n",
    "\n",
    "\n",
    "import numpy as np\n",
    "import matplotlib.pyplot as plt\n",
    "from mpl_toolkits.mplot3d import Axes3D\n",
    "\n",
    "from astropy import units as u\n",
    "from astropy import time\n",
    "from astropy.coordinates import representation\n",
    "\n"
   ]
  },
  {
   "cell_type": "code",
   "execution_count": 2,
   "metadata": {},
   "outputs": [],
   "source": [
    "from poliastro.bodies import Earth\n",
    "from poliastro.twobody import Orbit\n"
   ]
  },
  {
   "cell_type": "code",
   "execution_count": 4,
   "metadata": {},
   "outputs": [],
   "source": [
    "# from poliastro.plotting.static import StaticOrbitPlotter  # POLIASTRO v0.11?\n",
    "from poliastro.plotting import OrbitPlotter, plot # Poliastro v 0.9.1"
   ]
  },
  {
   "cell_type": "code",
   "execution_count": 5,
   "metadata": {},
   "outputs": [],
   "source": [
    "import emcee\n",
    "import corner\n",
    "#import timeit"
   ]
  },
  {
   "cell_type": "code",
   "execution_count": 6,
   "metadata": {},
   "outputs": [
    {
     "data": {
      "text/plain": [
       "'2.2.1'"
      ]
     },
     "execution_count": 6,
     "metadata": {},
     "output_type": "execute_result"
    }
   ],
   "source": [
    "emcee.__version__"
   ]
  },
  {
   "cell_type": "code",
   "execution_count": 7,
   "metadata": {},
   "outputs": [
    {
     "data": {
      "text/plain": [
       "'2.0.1'"
      ]
     },
     "execution_count": 7,
     "metadata": {},
     "output_type": "execute_result"
    }
   ],
   "source": [
    "corner.__version__"
   ]
  },
  {
   "cell_type": "code",
   "execution_count": 8,
   "metadata": {},
   "outputs": [],
   "source": [
    "\n",
    "\n",
    "R_earth = 6378.1    # km\n",
    "v_c     = 300000    # km/s\n",
    "\n",
    "N_t     = 10        # Tota number of times that satellite signal is measured by each GS\n",
    "deltaT  = 20        # seconds. Time interval between measurements\n",
    "\n",
    "\n",
    "def distance(a, b):\n",
    "    x0 = a[0]\n",
    "    x1 = a[1]\n",
    "    x2 = a[2]\n",
    "    \n",
    "    y0 = b[0]\n",
    "    y1 = b[1]\n",
    "    y2 = b[2]\n",
    "    \n",
    "    dist = (x0-y0)**2 + (x1-y1)**2 + (x2-y2)**2\n",
    "    dist = dist**0.5\n",
    "    return dist\n",
    "\n",
    "\n",
    "def rel_vel_to_base(r, v, Base):\n",
    "        \"\"\"\n",
    "        Returns the relative speed of the satellite to\n",
    "        some ground location. This velocity is \n",
    "        positive if the satellite is going towards\n",
    "        the ground location, negative if is going \n",
    "        outwards.\n",
    "        \"\"\"\n",
    "        \n",
    "        x1 = Base[0]\n",
    "        y1 = Base[1]\n",
    "        z1 = Base[2]\n",
    "    \n",
    "        x_r = r[0] - x1\n",
    "        y_r = r[1] - y1\n",
    "        z_r = r[2] - z1  \n",
    "\n",
    "        d = ( x_r ** 2 + y_r ** 2 + z_r ** 2 )**0.5\n",
    "    \n",
    "        ux  = x_r / d\n",
    "        uy  = y_r / d\n",
    "        uz  = z_r / d\n",
    "    \n",
    "        u = np.array([ux, uy, uz])\n",
    "        \n",
    "        return np.inner(-u,v)\n",
    "\n",
    "\n",
    "# To synchronize the first measurement.\n",
    "EPOCH = time.Time('2019-04-10 12:00:00.0' , format='iso')\n",
    "\n",
    "### Ground Base positions (in cartesian coordinates)\n",
    "\n",
    "a = np.array([6206.87748242, -2681.198044  ,   604.2233833])\n",
    "a /= np.linalg.norm(a)\n",
    "a = a * R_earth\n",
    "\n",
    "\n",
    "b = np.array([6250.0, -2700.0, 500.0])\n",
    "b /= np.linalg.norm(b)\n",
    "b = b * R_earth\n",
    "\n",
    "\n",
    "c = np.array([6100.0, -2800.0, 500.0])\n",
    "c /= np.linalg.norm(c)\n",
    "c = c * R_earth\n",
    "\n",
    "d = np.array([5800.0, -2500.0, 200.0])\n",
    "d /= np.linalg.norm(d)\n",
    "d = d * R_earth\n",
    "\n",
    "\n",
    "BaseA = a\n",
    "BaseB = b\n",
    "BaseC = c\n",
    "BaseD = d\n",
    "\n",
    "\n",
    "\n",
    "MD_path = \"measured_data/\"\n",
    "\n",
    "MD_filename = \"A.dat\"\n",
    "data = np.loadtxt(MD_path+MD_filename)\n",
    "T_a = data[:,0]\n",
    "A   = data[:,1]\n",
    "\n",
    "T = data[:,0]\n",
    "\n",
    "\n",
    "MD_filename = \"B.dat\"\n",
    "data = np.loadtxt(MD_path+MD_filename)\n",
    "T_b = data[:,0]\n",
    "B   = data[:,1]\n",
    "\n",
    "MD_filename = \"C.dat\"\n",
    "data = np.loadtxt(MD_path+MD_filename)\n",
    "T_c = data[:,0]\n",
    "C   = data[:,1]\n",
    "\n",
    "MD_filename = \"D.dat\"\n",
    "data = np.loadtxt(MD_path+MD_filename)\n",
    "T_d = data[:,0]\n",
    "D   = data[:,1]"
   ]
  },
  {
   "cell_type": "code",
   "execution_count": 19,
   "metadata": {},
   "outputs": [],
   "source": [
    "my_orbit = Orbit.from_classical(Earth, \n",
    "                                (R_earth+409)*u.km , \n",
    "                                0.00015*u.one, \n",
    "                                51 * u.deg, \n",
    "                                332 * u.deg, \n",
    "                                180 * u.deg,\n",
    "                                -179 * u.deg)\n",
    "\n"
   ]
  },
  {
   "cell_type": "code",
   "execution_count": 29,
   "metadata": {},
   "outputs": [
    {
     "data": {
      "text/plain": [
       "Earth (♁)"
      ]
     },
     "execution_count": 29,
     "metadata": {},
     "output_type": "execute_result"
    }
   ],
   "source": [
    "my_orbit."
   ]
  },
  {
   "cell_type": "code",
   "execution_count": null,
   "metadata": {},
   "outputs": [],
   "source": []
  },
  {
   "cell_type": "code",
   "execution_count": 32,
   "metadata": {},
   "outputs": [],
   "source": [
    "def log_likelihood(param):\n",
    "    \"\"\"\n",
    "    param = [a, ecc, inc, raan, argp, nu]\n",
    "    \n",
    "    Returns the log_Likelihood chi2 as the sum of squares\n",
    "    of differences between real data and MC-data\n",
    "    \"\"\"\n",
    "    a, ecc, inc, raan, argp, nu = param\n",
    "\n",
    "    ### Limit the parameter space ###\n",
    "    \n",
    "    if a < R_earth + 100:\n",
    "        return -numpy.inf\n",
    "    \n",
    "    if (ecc < 0) or (ecc > 1) :\n",
    "        return -numpy.inf\n",
    "    \n",
    "    if (inc < 0) or (inc > 180):\n",
    "        return -numpy.inf\n",
    "    \n",
    "    if abs(raan) > 360:\n",
    "        return -numpy.inf\n",
    "    \n",
    "    if abs(nu) > 180:\n",
    "        return -numpy.inf\n",
    "    \n",
    "    a    =   a  * u.km\n",
    "    ecc  = ecc  * u.one\n",
    "    inc  = inc  * u.degree\n",
    "    raan = raan * u.deg\n",
    "    argp = argp * u.deg\n",
    "    nu   = nu   * u.deg\n",
    "    \n",
    "    MCsat = Orbit.from_classical(Earth, a=a, ecc=ecc, inc=inc, raan=raan, argp=argp, nu=nu, epoch=EPOCH)\n",
    "    \n",
    "    #MCsat.classical()\n",
    "    \n",
    "    MCsat_r      = []\n",
    "    MCsat_v      = []\n",
    "    MCsat_t      = []\n",
    "    \n",
    "    MCsatV_rel_A = []\n",
    "    MCsatV_rel_B = []\n",
    "    MCsatV_rel_C = []\n",
    "    MCsatV_rel_D = []\n",
    "    \n",
    "    for i in range(N_t):\n",
    "        aux = MCsat.propagate(deltaT * i * u.second)\n",
    "        MCsat_r.append(aux.r )\n",
    "        MCsat_v.append(aux.v )\n",
    "        MCsat_t.append(aux.epoch.unix)\n",
    "        \n",
    "    MCsat_r = np.array(MCsat_r)\n",
    "    MCsat_v = np.array(MCsat_v)\n",
    "    \n",
    "    MCsat_A=[]\n",
    "    MCsat_B=[]\n",
    "    MCsat_C=[]\n",
    "    MCsat_D=[]\n",
    "\n",
    "    for t in range(N_t):\n",
    "        MCsat_A.append(rel_vel_to_base( MCsat_r[t], MCsat_v[t], BaseA) )\n",
    "        MCsat_B.append(rel_vel_to_base( MCsat_r[t], MCsat_v[t], BaseB) )\n",
    "        MCsat_C.append(rel_vel_to_base( MCsat_r[t], MCsat_v[t], BaseC) )\n",
    "        MCsat_D.append(rel_vel_to_base( MCsat_r[t], MCsat_v[t], BaseD) )\n",
    "\n",
    "    MCsat_A = np.array(MCsat_A)\n",
    "    MCsat_B = np.array(MCsat_B)\n",
    "    MCsat_C = np.array(MCsat_C)\n",
    "    MCsat_D = np.array(MCsat_D)\n",
    "\n",
    "    \n",
    "    chi2 = 0\n",
    "    sigma = np.log(2*np.pi)\n",
    "    for t in range(len(T)):\n",
    "        chi2 += (MCsat_A[i]-A[i])**2 + sigma\n",
    "        chi2 += (MCsat_B[i]-B[i])**2 + sigma\n",
    "        chi2 += (MCsat_C[i]-C[i])**2 + sigma\n",
    "        chi2 += (MCsat_D[i]-D[i])**2 + sigma\n",
    "    #print(\"Log Likelihood: \", chi2)\n",
    "    return chi2"
   ]
  },
  {
   "cell_type": "code",
   "execution_count": 33,
   "metadata": {},
   "outputs": [
    {
     "data": {
      "text/plain": [
       "149.70899336046324"
      ]
     },
     "execution_count": 33,
     "metadata": {},
     "output_type": "execute_result"
    }
   ],
   "source": [
    "param = [R_earth+409, 0.00015, 51, 332, 180, -179 ]\n",
    "\n",
    "log_likelihood(param)"
   ]
  },
  {
   "cell_type": "code",
   "execution_count": 40,
   "metadata": {},
   "outputs": [],
   "source": [
    "### Initialize EMCEE random walkers\n",
    "\n",
    "MCMC_steps = 20\n",
    "\n",
    "nwalkers, ndim = 20, 6\n",
    "p0 = np.zeros((nwalkers,ndim))\n",
    "\n",
    "\n",
    "theta = [R_earth + 500, 0.001, 0, 0, 0, 0]\n",
    "\n",
    "for i in range(nwalkers):\n",
    "    p0[i,0] = theta[0] * np.random.normal(1, 0.08)\n",
    "    p0[i,1] = theta[1] + 0.1 * np.random.rand()\n",
    "    p0[i,2] = theta[2] * np.random.normal(0, 30)\n",
    "    p0[i,3] = 360 * np.random.rand()\n",
    "    p0[i,4] = 360 * np.random.rand()\n",
    "    p0[i,5] = 360 * np.random.rand()"
   ]
  },
  {
   "cell_type": "code",
   "execution_count": 41,
   "metadata": {},
   "outputs": [],
   "source": [
    "import numpy\n",
    "\n",
    "#toc = timeit.default_timer()\n",
    "\n",
    "sampler = emcee.EnsembleSampler(nwalkers, ndim, log_likelihood)\n",
    "pos, prob, state = sampler.run_mcmc(p0, MCMC_steps)\n",
    "\n",
    "#tic = timeit.default_timer()\n",
    "#print(\"Time elapsed: \", tic -toc, \"seconds\")"
   ]
  },
  {
   "cell_type": "code",
   "execution_count": null,
   "metadata": {},
   "outputs": [],
   "source": []
  },
  {
   "cell_type": "code",
   "execution_count": 42,
   "metadata": {},
   "outputs": [],
   "source": [
    "samples = sampler.chain[:,5:,:].reshape((-1, ndim))\n",
    "#clock = timeit.time.time()"
   ]
  },
  {
   "cell_type": "code",
   "execution_count": 43,
   "metadata": {},
   "outputs": [
    {
     "ename": "NameError",
     "evalue": "name 'clock' is not defined",
     "output_type": "error",
     "traceback": [
      "\u001b[0;31m---------------------------------------------------------------------------\u001b[0m",
      "\u001b[0;31mNameError\u001b[0m                                 Traceback (most recent call last)",
      "\u001b[0;32m<ipython-input-43-a13688b86ecc>\u001b[0m in \u001b[0;36m<module>\u001b[0;34m\u001b[0m\n\u001b[1;32m      1\u001b[0m \u001b[0mMC_path\u001b[0m \u001b[0;34m=\u001b[0m \u001b[0;34m\"monte_carlo_chain_register/\"\u001b[0m\u001b[0;34m\u001b[0m\u001b[0m\n\u001b[0;32m----> 2\u001b[0;31m \u001b[0mMC_filename\u001b[0m \u001b[0;34m=\u001b[0m \u001b[0;34m\"mc_steps_{}_random_walkers_{}_{}_.dat\"\u001b[0m\u001b[0;34m.\u001b[0m\u001b[0mformat\u001b[0m\u001b[0;34m(\u001b[0m\u001b[0mMCMC_steps\u001b[0m\u001b[0;34m,\u001b[0m \u001b[0mnwalkers\u001b[0m\u001b[0;34m,\u001b[0m \u001b[0mclock\u001b[0m\u001b[0;34m)\u001b[0m\u001b[0;34m\u001b[0m\u001b[0m\n\u001b[0m\u001b[1;32m      3\u001b[0m \u001b[0mnp\u001b[0m\u001b[0;34m.\u001b[0m\u001b[0msavetxt\u001b[0m\u001b[0;34m(\u001b[0m\u001b[0mMC_path\u001b[0m\u001b[0;34m+\u001b[0m\u001b[0mMC_filename\u001b[0m\u001b[0;34m,\u001b[0m \u001b[0msamples\u001b[0m\u001b[0;34m)\u001b[0m\u001b[0;34m\u001b[0m\u001b[0m\n\u001b[1;32m      4\u001b[0m \u001b[0;34m\u001b[0m\u001b[0m\n\u001b[1;32m      5\u001b[0m \u001b[0mMC_filename\u001b[0m \u001b[0;34m=\u001b[0m \u001b[0;34m\"mc_steps_{}_random_walkers_{}_{}_.accepance\"\u001b[0m\u001b[0;34m.\u001b[0m\u001b[0mformat\u001b[0m\u001b[0;34m(\u001b[0m\u001b[0mMCMC_steps\u001b[0m\u001b[0;34m,\u001b[0m \u001b[0mnwalkers\u001b[0m\u001b[0;34m,\u001b[0m \u001b[0mclock\u001b[0m\u001b[0;34m)\u001b[0m\u001b[0;34m\u001b[0m\u001b[0m\n",
      "\u001b[0;31mNameError\u001b[0m: name 'clock' is not defined"
     ]
    }
   ],
   "source": [
    "MC_path = \"monte_carlo_chain_register/\"\n",
    "MC_filename = \"mc_steps_{}_random_walkers_{}_{}_.dat\".format(MCMC_steps, nwalkers, clock)\n",
    "np.savetxt(MC_path+MC_filename, samples)\n",
    "\n",
    "MC_filename = \"mc_steps_{}_random_walkers_{}_{}_.accepance\".format(MCMC_steps, nwalkers, clock)\n",
    "np.savetxt(MC_path+MC_filename, sampler.acceptance_fraction)"
   ]
  },
  {
   "cell_type": "code",
   "execution_count": 44,
   "metadata": {},
   "outputs": [
    {
     "ename": "ValueError",
     "evalue": "It looks like the parameter(s) in column(s) 2 have no dynamic range. Please provide a `range` argument.",
     "output_type": "error",
     "traceback": [
      "\u001b[0;31m---------------------------------------------------------------------------\u001b[0m",
      "\u001b[0;31mValueError\u001b[0m                                Traceback (most recent call last)",
      "\u001b[0;32m<ipython-input-44-0b8b81513a5e>\u001b[0m in \u001b[0;36m<module>\u001b[0;34m\u001b[0m\n\u001b[0;32m----> 1\u001b[0;31m \u001b[0mcorner\u001b[0m\u001b[0;34m.\u001b[0m\u001b[0mcorner\u001b[0m\u001b[0;34m(\u001b[0m\u001b[0msamples\u001b[0m\u001b[0;34m)\u001b[0m\u001b[0;34m\u001b[0m\u001b[0m\n\u001b[0m",
      "\u001b[0;32m~/anaconda3/envs/env_name/lib/python3.5/site-packages/corner/corner.py\u001b[0m in \u001b[0;36mcorner\u001b[0;34m(xs, bins, range, weights, color, smooth, smooth1d, labels, label_kwargs, show_titles, title_fmt, title_kwargs, truths, truth_color, scale_hist, quantiles, verbose, fig, max_n_ticks, top_ticks, use_math_text, hist_kwargs, **hist2d_kwargs)\u001b[0m\n\u001b[1;32m    171\u001b[0m                                   \"Please provide a `range` argument.\")\n\u001b[1;32m    172\u001b[0m                                  .format(\", \".join(map(\n\u001b[0;32m--> 173\u001b[0;31m                                      \"{0}\".format, np.arange(len(m))[m]))))\n\u001b[0m\u001b[1;32m    174\u001b[0m \u001b[0;34m\u001b[0m\u001b[0m\n\u001b[1;32m    175\u001b[0m     \u001b[0;32melse\u001b[0m\u001b[0;34m:\u001b[0m\u001b[0;34m\u001b[0m\u001b[0m\n",
      "\u001b[0;31mValueError\u001b[0m: It looks like the parameter(s) in column(s) 2 have no dynamic range. Please provide a `range` argument."
     ]
    }
   ],
   "source": [
    "corner.corner(samples)"
   ]
  },
  {
   "cell_type": "code",
   "execution_count": null,
   "metadata": {},
   "outputs": [],
   "source": []
  },
  {
   "cell_type": "code",
   "execution_count": 45,
   "metadata": {},
   "outputs": [
    {
     "data": {
      "image/png": "[encoded data removed]",
      "text/plain": [
       "<matplotlib.figure.Figure at 0x7f6d077af208>"
      ]
     },
     "metadata": {
      "needs_background": "light"
     },
     "output_type": "display_data"
    }
   ],
   "source": [
    "samples2 = np.delete(samples, 2, axis=1)\n",
    "fig = corner.corner(samples2, labels=[\"a\", \"inc\", \"raan\", \"argp\", \"nu\"])"
   ]
  },
  {
   "cell_type": "code",
   "execution_count": 86,
   "metadata": {},
   "outputs": [
    {
     "data": {
      "text/plain": [
       "(500, 10)"
      ]
     },
     "execution_count": 86,
     "metadata": {},
     "output_type": "execute_result"
    }
   ],
   "source": [
    "sampler.lnprobability.shape"
   ]
  },
  {
   "cell_type": "code",
   "execution_count": 52,
   "metadata": {},
   "outputs": [
    {
     "data": {
      "text/latex": [
       "$1669.7827 \\; \\mathrm{\\frac{km}{h}}$"
      ],
      "text/plain": [
       "<Quantity 1669.78267532 km / h>"
      ]
     },
     "execution_count": 52,
     "metadata": {},
     "output_type": "execute_result"
    }
   ],
   "source": [
    "v = (2*np.pi*R_earth * u.km /(86400 * u.s))\n",
    "v.to(u.km/u.h)"
   ]
  },
  {
   "cell_type": "code",
   "execution_count": 54,
   "metadata": {},
   "outputs": [
    {
     "data": {
      "text/latex": [
       "$463.82852 \\; \\mathrm{\\frac{m}{s}}$"
      ],
      "text/plain": [
       "<Quantity 463.82852092 m / s>"
      ]
     },
     "execution_count": 54,
     "metadata": {},
     "output_type": "execute_result"
    }
   ],
   "source": [
    "v.to(u.m/u.s)"
   ]
  },
  {
   "cell_type": "code",
   "execution_count": 55,
   "metadata": {},
   "outputs": [],
   "source": [
    "import astropy.coordinates"
   ]
  },
  {
   "cell_type": "code",
   "execution_count": 57,
   "metadata": {},
   "outputs": [
    {
     "data": {
      "text/plain": [
       "astropy.coordinates.earth.EarthLocation"
      ]
     },
     "execution_count": 57,
     "metadata": {},
     "output_type": "execute_result"
    }
   ],
   "source": [
    "astropy.coordinates.EarthLocation()"
   ]
  },
  {
   "cell_type": "code",
   "execution_count": null,
   "metadata": {},
   "outputs": [],
   "source": []
  },
  {
   "cell_type": "code",
   "execution_count": null,
   "metadata": {},
   "outputs": [],
   "source": []
  },
  {
   "cell_type": "code",
   "execution_count": null,
   "metadata": {},
   "outputs": [],
   "source": []
  },
  {
   "cell_type": "code",
   "execution_count": null,
   "metadata": {},
   "outputs": [],
   "source": []
  },
  {
   "cell_type": "code",
   "execution_count": null,
   "metadata": {},
   "outputs": [],
   "source": []
  },
  {
   "cell_type": "code",
   "execution_count": null,
   "metadata": {},
   "outputs": [],
   "source": []
  },
  {
   "cell_type": "code",
   "execution_count": null,
   "metadata": {},
   "outputs": [],
   "source": []
  },
  {
   "cell_type": "code",
   "execution_count": null,
   "metadata": {},
   "outputs": [],
   "source": []
  },
  {
   "cell_type": "code",
   "execution_count": null,
   "metadata": {},
   "outputs": [],
   "source": []
  },
  {
   "cell_type": "code",
   "execution_count": null,
   "metadata": {},
   "outputs": [],
   "source": []
  },
  {
   "cell_type": "code",
   "execution_count": null,
   "metadata": {},
   "outputs": [],
   "source": []
  },
  {
   "cell_type": "code",
   "execution_count": null,
   "metadata": {},
   "outputs": [],
   "source": []
  },
  {
   "cell_type": "code",
   "execution_count": null,
   "metadata": {},
   "outputs": [],
   "source": []
  },
  {
   "cell_type": "code",
   "execution_count": null,
   "metadata": {},
   "outputs": [],
   "source": []
  },
  {
   "cell_type": "code",
   "execution_count": null,
   "metadata": {},
   "outputs": [],
   "source": []
  },
  {
   "cell_type": "code",
   "execution_count": null,
   "metadata": {},
   "outputs": [],
   "source": []
  },
  {
   "cell_type": "code",
   "execution_count": null,
   "metadata": {},
   "outputs": [],
   "source": []
  },
  {
   "cell_type": "code",
   "execution_count": null,
   "metadata": {},
   "outputs": [],
   "source": []
  },
  {
   "cell_type": "code",
   "execution_count": null,
   "metadata": {},
   "outputs": [],
   "source": []
  },
  {
   "cell_type": "code",
   "execution_count": null,
   "metadata": {},
   "outputs": [],
   "source": []
  },
  {
   "cell_type": "code",
   "execution_count": null,
   "metadata": {},
   "outputs": [],
   "source": []
  },
  {
   "cell_type": "code",
   "execution_count": null,
   "metadata": {},
   "outputs": [],
   "source": []
  },
  {
   "cell_type": "code",
   "execution_count": null,
   "metadata": {},
   "outputs": [],
   "source": []
  },
  {
   "cell_type": "code",
   "execution_count": null,
   "metadata": {},
   "outputs": [],
   "source": []
  },
  {
   "cell_type": "code",
   "execution_count": null,
   "metadata": {},
   "outputs": [],
   "source": []
  },
  {
   "cell_type": "code",
   "execution_count": null,
   "metadata": {},
   "outputs": [],
   "source": []
  },
  {
   "cell_type": "code",
   "execution_count": null,
   "metadata": {},
   "outputs": [],
   "source": []
  },
  {
   "cell_type": "code",
   "execution_count": null,
   "metadata": {},
   "outputs": [],
   "source": []
  }
 ],
 "metadata": {
  "kernelspec": {
   "display_name": "Python 3",
   "language": "python",
   "name": "python3"
  },
  "language_info": {
   "codemirror_mode": {
    "name": "ipython",
    "version": 3
   },
   "file_extension": ".py",
   "mimetype": "text/x-python",
   "name": "python",
   "nbconvert_exporter": "python",
   "pygments_lexer": "ipython3",
   "version": "3.5.2"
  }
 },
 "nbformat": 4,
 "nbformat_minor": 2
}
