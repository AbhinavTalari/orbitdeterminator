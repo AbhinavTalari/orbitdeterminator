{
 "cells": [
  {
   "cell_type": "markdown",
   "metadata": {},
   "source": [
    "# Some definitions from IAU\n",
    "From the IAU [Circular 179](https://aa.usno.navy.mil/publications/docs/Circular_179.pdf)\n",
    "\n",
    "\n",
    "# Reference Systems and Reference Frames\n",
    ">The terminology that has become standard over the past decade or so distinguishes between a\n",
    "reference system and a reference frame. A reference system is the complete specification of how a\n",
    "celestial coordinate system is to be formed. Both the origin and the orientation of the fundamental\n",
    "planes (or axes) are defined. A reference system also incorporates a specification of the fundamental\n",
    "models needed to construct the system; that is, the basis for the algorithms used to transform\n",
    "between observable quantities and reference data in the system. A reference frame, on the other\n",
    "hand, consists of a set of identifiable fiducial points on the sky along with their coordinates, which\n",
    "serves as the practical realization of a reference system.\n",
    "\n",
    "## Barycentric (Solar System)\n",
    "### ICRS: International Celestial Reference System\n",
    "\n",
    ">The ICRS is a coordinate system with its origin at the solar system barycenter and axis directions that are fixed with respect to distant objects in the universe; it is to be used to express the positions and motions of stars, planets, and other celestial objects\n",
    "\n",
    "> The idealized barycentric coordinate system to which celestial positions are referred. It is kinematically non-rotating\n",
    "with respect to the ensemble of distant extragalactic objects. It has no intrinsic orientation but was aligned close to the mean equator and dynamical equinox of J2000.0\n",
    "for continuity with previous fundamental reference systems. Its orientation is independent of epoch, ecliptic or equator and is realized by a list of adopted coordinates of\n",
    "extragalactic sources\n",
    "\n",
    "### ICRF: International Celestial Reference Frame\n",
    "> A set of extragalactic objects\n",
    "whose adopted positions and uncertainties realize the ICRS axes and give the uncertainties of the axes. It is also the name of the radio catalogue whose 212 defining sources\n",
    "are currently the most accurate realization of the ICRS. Note that the orientation of the\n",
    "ICRF catalogue was carried over from earlier IERS radio catalogs and was within the\n",
    "errors of the standard stellar and dynamic frames at the time of adoption. Successive\n",
    "revisions of the ICRF are intended to minimize rotation from its original orientation.\n",
    "Other realizations of the ICRS have specific names (e.g. Hipparcos Celestial Reference\n",
    "Frame).\n",
    "\n",
    "## Geocentric (Earth's Center)\n",
    "\n",
    "### GCRS: Geocentric Celestial Reference System\n",
    "A non rotating frame.\n",
    ">GCRS is distinct form ICRS mainly in that it is relative to the Earth’s center-of-mass rather than the solar system Barycenter. That means this frame includes the effects of aberration (unlike ICRS).\n",
    "\n",
    ">The GCRS is the\n",
    "system appropriate for describing the rotation of the Earth, the orbits of Earth satellites, and geodetic quantities such as instrument locations and baselines. The analysis\n",
    "of precise observations inevitably involves quantities expressed in both systems and the\n",
    "transformations between them.\n",
    "\n",
    ">A system of geocentric spacetime coordinates within the framework of General Relativity with metric tensor specified\n",
    "by the IAU 2000 Resolution B1.3. The GCRS is defined such that the transformation\n",
    "between BCRS and GCRS spatial coordinates contains no rotation component, so that\n",
    "GCRS is kinematically non-rotating with respect to BCRS. The equations of motion\n",
    "of, for example, an Earth satellite with respect to the GCRS will contain relativistic\n",
    "Coriolis forces that come mainly from geodesic precession. The spatial orientation of\n",
    "the GCRS is derived from that of the BCRS, that is, unless otherwise stated, by the\n",
    "orientation of the ICRS\n",
    "\n",
    "### ITRS: International Terrestrial Reference System\n",
    ">The ITRS is realized for practical purposes by\n",
    "the adopted coordinates and velocities3 of a large group of observing stations. These coordinates are\n",
    "expressed as geocentric rectangular 3-vectors and thus are not dependent on a reference ellipsoid.\n",
    "The list of stations and their coordinates is referred to as the International Terrestrial Reference\n",
    "Frame (ITRF).\n",
    "\n",
    "### WGS 84: The World Geodetic System 1986 - GPS coordinates\n",
    ">Is the basis for coordinates obtained from GPS, uses an Earth ellipsoid with aE = 6378137 m and f = 1/298.257223563.\n",
    "...\n",
    " It is important to\n",
    "know, however, that the ITRS/ITRF is consistent with WGS 84 to within a few centimeters; thus\n",
    "for all astronomical purposes the GPS-obtained coordinates of instruments can be used with the\n",
    "algorithms presented here [at the circular 179]\n",
    "\n",
    "Geodetic makes reference to the coordinates over the surface of a ellipsoid. Their angles are not equivalent to angles in spherical coordinates from a geocentric system. [Geodetic Coordinate System](https://www-lite.larc.nasa.gov/level1doc/geodetic_coords.html)\n",
    "![The Geometry of Geodetic Coordinates](https://www-lite.larc.nasa.gov/level1doc/lite_geometry_xy.gif)\n"
   ]
  },
  {
   "cell_type": "code",
   "execution_count": 1,
   "metadata": {},
   "outputs": [],
   "source": [
    "import numpy as np\n",
    "import matplotlib.pyplot as plt\n",
    "import astropy.coordinates as coord\n",
    "import astropy.units as u\n",
    "from astropy import time"
   ]
  },
  {
   "cell_type": "markdown",
   "metadata": {},
   "source": [
    "First, we define an \"coordinates\" object in the **International Terrestrial Reference System** (**ITRS**). These objects can be created from the cartesian coordinates (x,y,z). By default is defined at observation time (obstime=J2000.000)\n",
    "\n",
    "This object is very close to Earth's Surface.\n",
    "\n",
    "[ITRS reference at Astropy Documentation](http://docs.astropy.org/en/stable/api/astropy.coordinates.ITRS.html)"
   ]
  },
  {
   "cell_type": "code",
   "execution_count": 2,
   "metadata": {},
   "outputs": [
    {
     "name": "stdout",
     "output_type": "stream",
     "text": [
      "<ITRS Coordinate (obstime=J2000.000): (x, y, z) in km\n",
      "    (6900., 0., -210.)>\n"
     ]
    }
   ],
   "source": [
    "itrs = coord.ITRS(x=6900*u.km, y=0*u.km, z=-210*u.km)\n",
    "print(itrs)"
   ]
  },
  {
   "cell_type": "markdown",
   "metadata": {},
   "source": [
    "Then, we can do the transformation to the barycenter system as:"
   ]
  },
  {
   "cell_type": "code",
   "execution_count": 3,
   "metadata": {},
   "outputs": [
    {
     "name": "stdout",
     "output_type": "stream",
     "text": [
      "<ICRS Coordinate: (ra, dec, distance) in (deg, deg, km)\n",
      "    (101.76557966, 23.0113199, 1.46882546e+08)>\n"
     ]
    }
   ],
   "source": [
    "icrs = itrs.transform_to(coord.ICRS)\n",
    "print(icrs)"
   ]
  },
  {
   "cell_type": "markdown",
   "metadata": {},
   "source": [
    "Note the distance, is almost an astronomic unit from the Solar System Barycenter."
   ]
  },
  {
   "cell_type": "markdown",
   "metadata": {},
   "source": [
    "## The Eart Rotating System to Non Rotating System\n",
    "\n",
    "[coord.EarthLocation](https://docs.astropy.org/en/stable/api/astropy.coordinates.EarthLocation.html) objects internally store information in geocentric coordinates. \n",
    ">Initialization is first attempted assuming geocentric (x, y, z) coordinates are given; if that fails, another attempt is made assuming geodetic coordinates (longitude, latitude, height above a reference ellipsoid). \n",
    "\n",
    "Astropy has the methods to do transformation from Earth Location (useful to deal with ground stations) to the Non-Rotating System (Useful for Satellite orbits)\n",
    "\n",
    "We take Bogotá's coordinates: \n",
    "\n",
    ">Lat = 4.609 N <p>\n",
    ">Long = -74.081 W <p>\n",
    ">Height over sea level: 2600m\n",
    "\n",
    "\n",
    "With this information we can create a EarthLocation object:"
   ]
  },
  {
   "cell_type": "code",
   "execution_count": 4,
   "metadata": {},
   "outputs": [
    {
     "name": "stdout",
     "output_type": "stream",
     "text": [
      "(1749778.0509086507, 141082.26654147235, -6113947.630573062) m\n"
     ]
    }
   ],
   "source": [
    "bogota = coord.EarthLocation(4.6097102, -74.081749, height=2600.)\n",
    "print(bogota)"
   ]
  },
  {
   "cell_type": "markdown",
   "metadata": {},
   "source": [
    "This is its representation in cartesian coordinates in the geocentric system. Unless geological time scales, this location is fixed, does not need to specify observation time."
   ]
  },
  {
   "cell_type": "code",
   "execution_count": 5,
   "metadata": {},
   "outputs": [
    {
     "data": {
      "text/plain": [
       "GeodeticLocation(lon=<Longitude 4.6097102 deg>, lat=<Latitude -74.081749 deg>, height=<Quantity 2600. m>)"
      ]
     },
     "execution_count": 5,
     "metadata": {},
     "output_type": "execute_result"
    }
   ],
   "source": [
    "bogota.geodetic"
   ]
  },
  {
   "cell_type": "code",
   "execution_count": 6,
   "metadata": {},
   "outputs": [
    {
     "data": {
      "text/plain": [
       "(<Quantity 1749778.05090865 m>,\n",
       " <Quantity 141082.26654147 m>,\n",
       " <Quantity -6113947.63057306 m>)"
      ]
     },
     "execution_count": 6,
     "metadata": {},
     "output_type": "execute_result"
    }
   ],
   "source": [
    "bogota.to_geocentric()"
   ]
  },
  {
   "cell_type": "code",
   "execution_count": 7,
   "metadata": {},
   "outputs": [
    {
     "data": {
      "text/plain": [
       "<ITRS Coordinate (obstime=J2000.000): (x, y, z) in m\n",
       "    (1749778.05090865, 141082.26654147, -6113947.63057306)>"
      ]
     },
     "execution_count": 7,
     "metadata": {},
     "output_type": "execute_result"
    }
   ],
   "source": [
    "bogota.itrs"
   ]
  },
  {
   "cell_type": "markdown",
   "metadata": {},
   "source": [
    "Now lets include the time. Having two different times to make comparisson."
   ]
  },
  {
   "cell_type": "code",
   "execution_count": 8,
   "metadata": {},
   "outputs": [
    {
     "data": {
      "text/plain": [
       "<bound method Time.now of <class 'astropy.time.core.Time'>>"
      ]
     },
     "execution_count": 8,
     "metadata": {},
     "output_type": "execute_result"
    }
   ],
   "source": [
    "t0 = time.Time.now\n",
    "t0"
   ]
  },
  {
   "cell_type": "code",
   "execution_count": 9,
   "metadata": {},
   "outputs": [
    {
     "data": {
      "text/plain": [
       "<Time object: scale='utc' format='iso' value=2019-06-26 23:32:33.657>"
      ]
     },
     "execution_count": 9,
     "metadata": {},
     "output_type": "execute_result"
    }
   ],
   "source": [
    "date1 = \"2019-06-26 23:32:33.656972\"\n",
    "t1 = time.Time(date1)\n",
    "t1"
   ]
  },
  {
   "cell_type": "code",
   "execution_count": 10,
   "metadata": {},
   "outputs": [
    {
     "name": "stdout",
     "output_type": "stream",
     "text": [
      "2019-07-03 23:29:09.492784 2019-06-26 23:32:33.657\n"
     ]
    }
   ],
   "source": [
    "print(t0(), t1)"
   ]
  },
  {
   "cell_type": "markdown",
   "metadata": {},
   "source": [
    "As we expected, the location of Bogotá has not changed in the last days, neither in the last twenty years, according to the International Terrestrial Reference System."
   ]
  },
  {
   "cell_type": "code",
   "execution_count": 11,
   "metadata": {},
   "outputs": [
    {
     "name": "stdout",
     "output_type": "stream",
     "text": [
      "<ITRS Coordinate (obstime=J2000.000): (x, y, z) in m\n",
      "    (1749778.05090865, 141082.26654147, -6113947.63057306)> \n",
      "\n",
      "<ITRS Coordinate (obstime=2019-06-26 23:32:33.657): (x, y, z) in m\n",
      "    (1749778.05090865, 141082.26654147, -6113947.63057306)> \n",
      "\n",
      "<ITRS Coordinate (obstime=2019-07-03 23:29:09.601288): (x, y, z) in m\n",
      "    (1749778.05090865, 141082.26654147, -6113947.63057306)> \n",
      "\n"
     ]
    }
   ],
   "source": [
    "print(bogota.get_itrs(), \"\\n\")\n",
    "print(bogota.get_itrs(obstime=t1), \"\\n\")\n",
    "print(bogota.get_itrs(obstime=t0()), \"\\n\")"
   ]
  },
  {
   "cell_type": "markdown",
   "metadata": {},
   "source": [
    "# From ITRS to GCRS\n",
    "\n",
    "Now lets evaluate the position of Bogotá, respect to the Geocentric Celestial Reference System.\n",
    "\n",
    "The coord.EartLocation object has two interesting methods: get_grs() and get_gcrs_posvel(). They have an observation time argument.\n",
    "\n",
    "### get_gcrs()\n",
    ">GCRS position with velocity at obstime as a GCRS coordinate.\n",
    ">\n",
    ">Parameters:\t\n",
    ">obstime : Time. The obstime to calculate the GCRS position/velocity at.\n",
    ">\n",
    ">Returns:\t\n",
    ">\n",
    ">gcrs : GCRS instance[(ra, dec, distance) in (deg, deg, m)]. \n",
    ">\n",
    ">With velocity included.\n",
    ">[(pm_ra_cosdec, pm_dec, radial_velocity) in (mas / yr, mas / yr, km / s)]\n",
    "\n",
    "### get_gcrs_posvel()\n",
    ">Calculate the GCRS position and velocity of this object at the requested\n",
    ">\n",
    ">Parameters:\t\n",
    ">obstime : Time.\n",
    ">The obstime to calculate the GCRS position/velocity at.\n",
    ">\n",
    ">Returns:\t\n",
    ">\n",
    ">obsgeoloc : CartesianRepresentation. The GCRS position of the object. (x,y,z) in meters\n",
    ">\n",
    ">obsgeovel : CartesianRepresentation. The GCRS velocity of the object. (vx,vy,vz) in meters per second\n",
    "\n",
    "\n"
   ]
  },
  {
   "cell_type": "code",
   "execution_count": 12,
   "metadata": {},
   "outputs": [
    {
     "data": {
      "text/plain": [
       "<GCRS Coordinate (obstime=2019-06-26 23:32:33.657, obsgeoloc=(0., 0., 0.) m, obsgeovel=(0., 0., 0.) m / s): (ra, dec, distance) in (deg, deg, m)\n",
       "    (271.92939511, -73.9850439, 6360973.43674094)\n",
       " (pm_ra_cosdec, pm_dec, radial_velocity) in (mas / yr, mas / yr, km / s)\n",
       "    (1.30990723e+11, -8.82716193e+08, -1.70964767e-08)>"
      ]
     },
     "execution_count": 12,
     "metadata": {},
     "output_type": "execute_result"
    }
   ],
   "source": [
    "bogota.get_gcrs(obstime=t1)"
   ]
  },
  {
   "cell_type": "code",
   "execution_count": 13,
   "metadata": {},
   "outputs": [
    {
     "data": {
      "text/plain": [
       "(<CartesianRepresentation (x, y, z) in m\n",
       "     (59084.46033492, -1753923.03407527, -6114102.23009159)>,\n",
       " <CartesianRepresentation (x, y, z) in m / s\n",
       "     (127.90689783, 5.13841266, -0.23796814)>)"
      ]
     },
     "execution_count": 13,
     "metadata": {},
     "output_type": "execute_result"
    }
   ],
   "source": [
    "bogota.get_gcrs_posvel(obstime=t1)"
   ]
  },
  {
   "cell_type": "code",
   "execution_count": 14,
   "metadata": {},
   "outputs": [
    {
     "data": {
      "text/plain": [
       "(<CartesianRepresentation (x, y, z) in m\n",
       "     (243533.19803819, -1736727.08897156, -6114446.30874301)>,\n",
       " <CartesianRepresentation (x, y, z) in m / s\n",
       "     (126.65294572, 18.58990834, -0.23574318)>)"
      ]
     },
     "execution_count": 14,
     "metadata": {},
     "output_type": "execute_result"
    }
   ],
   "source": [
    "bogota.get_gcrs_posvel(obstime=t0())"
   ]
  },
  {
   "cell_type": "markdown",
   "metadata": {},
   "source": [
    "We can see how Bogotá's position has changed. Even few seconds later (calling t0() again)"
   ]
  },
  {
   "cell_type": "code",
   "execution_count": 15,
   "metadata": {},
   "outputs": [
    {
     "data": {
      "text/plain": [
       "(<CartesianRepresentation (x, y, z) in m\n",
       "     (243572.05215192, -1736721.38559645, -6114446.3810673)>,\n",
       " <CartesianRepresentation (x, y, z) in m / s\n",
       "     (126.6523848, 18.59271596, -0.2357203)>)"
      ]
     },
     "execution_count": 15,
     "metadata": {},
     "output_type": "execute_result"
    }
   ],
   "source": [
    "bogota.get_gcrs_posvel(obstime=t0())"
   ]
  },
  {
   "cell_type": "markdown",
   "metadata": {},
   "source": [
    "## A small experiment\n",
    "\n",
    "The Eart's rotation axis orientation changes in time (nutation and precesion) respect to J2000.00. We can see how z and vz change according to the epoch."
   ]
  },
  {
   "cell_type": "code",
   "execution_count": 16,
   "metadata": {},
   "outputs": [],
   "source": [
    "V = bogota.get_gcrs_posvel(obstime=t1 + 10 * 3600 * u.s )[1]"
   ]
  },
  {
   "cell_type": "code",
   "execution_count": 17,
   "metadata": {},
   "outputs": [
    {
     "data": {
      "text/plain": [
       "0.2129352381452918"
      ]
     },
     "execution_count": 17,
     "metadata": {},
     "output_type": "execute_result"
    }
   ],
   "source": [
    "V.z.value"
   ]
  },
  {
   "cell_type": "code",
   "execution_count": 18,
   "metadata": {},
   "outputs": [],
   "source": [
    "v = []\n",
    "t = []\n",
    "for i in range(24):\n",
    "    V = bogota.get_gcrs_posvel(obstime=t1 + i * 3600 * u.s )[1]\n",
    "    \n",
    "    v.append( V.z.value )\n",
    "    t.append(i)"
   ]
  },
  {
   "cell_type": "code",
   "execution_count": null,
   "metadata": {},
   "outputs": [],
   "source": []
  },
  {
   "cell_type": "code",
   "execution_count": 19,
   "metadata": {},
   "outputs": [
    {
     "data": {
      "text/plain": [
       "Text(0,0.5,'V_z (m/s)')"
      ]
     },
     "execution_count": 19,
     "metadata": {},
     "output_type": "execute_result"
    },
    {
     "data": {
      "image/png": "[encoded data removed]",
      "text/plain": [
       "<matplotlib.figure.Figure at 0x7f8125f32748>"
      ]
     },
     "metadata": {
      "needs_background": "light"
     },
     "output_type": "display_data"
    }
   ],
   "source": [
    "plt.plot(t,v)\n",
    "plt.xlabel(\"Time (hours)\")\n",
    "plt.ylabel(\"V_z (m/s)\")"
   ]
  },
  {
   "cell_type": "code",
   "execution_count": 20,
   "metadata": {},
   "outputs": [
    {
     "data": {
      "text/plain": [
       "-0.23796814121305943"
      ]
     },
     "execution_count": 20,
     "metadata": {},
     "output_type": "execute_result"
    }
   ],
   "source": [
    "min(v)"
   ]
  },
  {
   "cell_type": "code",
   "execution_count": 21,
   "metadata": {},
   "outputs": [
    {
     "data": {
      "text/plain": [
       "0.23786986246705055"
      ]
     },
     "execution_count": 21,
     "metadata": {},
     "output_type": "execute_result"
    }
   ],
   "source": [
    "max(v)"
   ]
  },
  {
   "cell_type": "markdown",
   "metadata": {},
   "source": [
    "We can comparate Vz at epoch = now vs epoch = J2000.0, when Earth's rotation axis was pretty close to GCRS Z axis."
   ]
  },
  {
   "cell_type": "code",
   "execution_count": 22,
   "metadata": {},
   "outputs": [],
   "source": [
    "J2000 = \"2000-01-01 12:00:00.0\"\n",
    "t3 = time.Time(J2000)"
   ]
  },
  {
   "cell_type": "code",
   "execution_count": 23,
   "metadata": {},
   "outputs": [],
   "source": [
    "w = []\n",
    "t = []\n",
    "for i in range(24):\n",
    "    W = bogota.get_gcrs_posvel(obstime=t3 + i * 3600 * u.s )[1]\n",
    "    \n",
    "    w.append( W.z.value )\n",
    "    t.append(i)\n"
   ]
  },
  {
   "cell_type": "code",
   "execution_count": 24,
   "metadata": {},
   "outputs": [
    {
     "data": {
      "text/plain": [
       "Text(0,0.5,'V_z (m/s)')"
      ]
     },
     "execution_count": 24,
     "metadata": {},
     "output_type": "execute_result"
    },
    {
     "data": {
      "image/png": "[encoded data removed]",
      "text/plain": [
       "<matplotlib.figure.Figure at 0x7f8125f34048>"
      ]
     },
     "metadata": {
      "needs_background": "light"
     },
     "output_type": "display_data"
    }
   ],
   "source": [
    "plt.plot(t,w, label=\"Epoch=J2000\")\n",
    "plt.plot(t,v, label=\"Epoch=Now\")\n",
    "plt.xlabel(\"Time (hours)\")\n",
    "plt.ylabel(\"V_z (m/s)\")"
   ]
  },
  {
   "cell_type": "markdown",
   "metadata": {},
   "source": [
    "# Poliastro Reference System"
   ]
  },
  {
   "cell_type": "markdown",
   "metadata": {},
   "source": [
    "According to Poliastro V0.9.1 documentation:\n",
    "\n",
    ">class poliastro.twobody.orbit.Orbit(state, epoch)\n",
    ">\n",
    ">Position and velocity of a body with respect to an attractor at a given time (epoch).\n",
    ">\n",
    ">Regardless of how the Orbit is created, the implicit reference system is an inertial one. For the specific case of the Solar System, this can be assumed to be the International Celestial Reference System or ICRS."
   ]
  },
  {
   "cell_type": "markdown",
   "metadata": {},
   "source": [
    "So, we can infer that the implicit frame of reference for satellites is the GCRS"
   ]
  },
  {
   "cell_type": "code",
   "execution_count": 25,
   "metadata": {},
   "outputs": [],
   "source": [
    "from poliastro.examples import iss"
   ]
  },
  {
   "cell_type": "code",
   "execution_count": 58,
   "metadata": {},
   "outputs": [],
   "source": [
    "from poliastro.bodies import Earth\n",
    "import poliastro"
   ]
  },
  {
   "cell_type": "code",
   "execution_count": 26,
   "metadata": {},
   "outputs": [
    {
     "data": {
      "text/plain": [
       "6772 x 6790 km x 51.6 deg orbit around Earth (♁)"
      ]
     },
     "execution_count": 26,
     "metadata": {},
     "output_type": "execute_result"
    }
   ],
   "source": [
    "iss"
   ]
  },
  {
   "cell_type": "code",
   "execution_count": 35,
   "metadata": {},
   "outputs": [
    {
     "data": {
      "text/plain": [
       "<poliastro.twobody.rv.RVState at 0x7f8122ec2cc0>"
      ]
     },
     "execution_count": 35,
     "metadata": {},
     "output_type": "execute_result"
    }
   ],
   "source": [
    "iss.state"
   ]
  },
  {
   "cell_type": "code",
   "execution_count": 36,
   "metadata": {},
   "outputs": [
    {
     "data": {
      "text/latex": [
       "$5556.9697 \\; \\mathrm{s}$"
      ],
      "text/plain": [
       "<Quantity 5556.96970116 s>"
      ]
     },
     "execution_count": 36,
     "metadata": {},
     "output_type": "execute_result"
    }
   ],
   "source": [
    "iss.state.period"
   ]
  },
  {
   "cell_type": "code",
   "execution_count": 37,
   "metadata": {},
   "outputs": [
    {
     "data": {
      "text/latex": [
       "$[7.372892,~2.0822357,~0.43999979] \\; \\mathrm{\\frac{km}{s}}$"
      ],
      "text/plain": [
       "<Quantity [7.37289205, 2.08223573, 0.43999979] km / s>"
      ]
     },
     "execution_count": 37,
     "metadata": {},
     "output_type": "execute_result"
    }
   ],
   "source": [
    "iss.state.v"
   ]
  },
  {
   "cell_type": "code",
   "execution_count": 38,
   "metadata": {},
   "outputs": [
    {
     "data": {
      "text/latex": [
       "$[859.07256,~-4137.2037,~5295.5687] \\; \\mathrm{km}$"
      ],
      "text/plain": [
       "<Quantity [  859.07256, -4137.20368,  5295.56871] km>"
      ]
     },
     "execution_count": 38,
     "metadata": {},
     "output_type": "execute_result"
    }
   ],
   "source": [
    "iss.state.r"
   ]
  },
  {
   "cell_type": "code",
   "execution_count": 42,
   "metadata": {},
   "outputs": [
    {
     "data": {
      "text/latex": [
       "$6780.8588 \\; \\mathrm{km}$"
      ],
      "text/plain": [
       "<Quantity 6780.85876692 km>"
      ]
     },
     "execution_count": 42,
     "metadata": {},
     "output_type": "execute_result"
    }
   ],
   "source": [
    "iss.a"
   ]
  },
  {
   "cell_type": "code",
   "execution_count": 44,
   "metadata": {
    "scrolled": false
   },
   "outputs": [
    {
     "data": {
      "text/plain": [
       "(<Time object: scale='utc' format='iso' value=['2013-03-18 11:48:02.422' '2013-03-18 11:58:19.121'\n",
       "  '2013-03-18 12:08:36.168' '2013-03-18 12:18:53.746'\n",
       "  '2013-03-18 12:29:11.792' '2013-03-18 11:06:53.053'\n",
       "  '2013-03-18 11:17:11.099' '2013-03-18 11:27:28.677'\n",
       "  '2013-03-18 11:37:45.724' '2013-03-18 11:48:02.422']>,\n",
       " <CartesianRepresentation (x, y, z) in km\n",
       "     [(-4136.38403782, -4179.52820669,  3358.86048469),\n",
       "      (  111.32368864, -4319.84135552,  5216.7714807 ),\n",
       "      ( 4309.47181487, -2436.29634467,  4631.64269897),\n",
       "      ( 6493.70017538,   589.77518201,  1877.26239945),\n",
       "      ( 5641.98404531,  3342.44072615, -1757.56426418),\n",
       "      ( 2152.85086767,  4533.69748717, -4572.06149941),\n",
       "      (-2341.09516632,  3606.14318726, -5249.29477023),\n",
       "      (-5737.0867627 ,   993.79079195, -3472.3791026 ),\n",
       "      (-6446.10171129, -2081.01097993,   -72.75308564),\n",
       "      (-4136.38403782, -4179.52820669,  3358.86048469)]>)"
      ]
     },
     "execution_count": 44,
     "metadata": {},
     "output_type": "execute_result"
    }
   ],
   "source": [
    "iss.sample(10)\n"
   ]
  },
  {
   "cell_type": "code",
   "execution_count": 47,
   "metadata": {},
   "outputs": [
    {
     "data": {
      "text/plain": [
       "<Time object: scale='utc' format='iso' value=2013-03-18 12:00:00.000>"
      ]
     },
     "execution_count": 47,
     "metadata": {},
     "output_type": "execute_result"
    }
   ],
   "source": [
    "iss.epoch"
   ]
  },
  {
   "cell_type": "code",
   "execution_count": 56,
   "metadata": {},
   "outputs": [
    {
     "data": {
      "text/plain": [
       "(<Time object: scale='utc' format='iso' value=['2019-07-02 22:49:55.118' '2019-07-02 23:00:11.817'\n",
       "  '2019-07-02 23:10:28.863' '2019-07-02 23:20:46.441'\n",
       "  '2019-07-02 23:31:04.487' '2019-07-02 22:08:45.748'\n",
       "  '2019-07-02 22:19:03.794' '2019-07-02 22:29:21.373'\n",
       "  '2019-07-02 22:39:38.419' '2019-07-02 22:49:55.118']>,\n",
       " <CartesianRepresentation (x, y, z) in km\n",
       "     [(-4136.38403782, -4179.52820669,  3358.86048469),\n",
       "      (  111.32368864, -4319.84135552,  5216.7714807 ),\n",
       "      ( 4309.47181487, -2436.29634467,  4631.64269897),\n",
       "      ( 6493.70017538,   589.77518201,  1877.26239945),\n",
       "      ( 5641.98404531,  3342.44072615, -1757.56426418),\n",
       "      ( 2152.85086767,  4533.69748717, -4572.06149941),\n",
       "      (-2341.09516632,  3606.14318726, -5249.29477023),\n",
       "      (-5737.0867627 ,   993.79079195, -3472.37910261),\n",
       "      (-6446.10171129, -2081.01097993,   -72.75308564),\n",
       "      (-4136.38403782, -4179.52820669,  3358.86048469)]>)"
      ]
     },
     "execution_count": 56,
     "metadata": {},
     "output_type": "execute_result"
    }
   ],
   "source": [
    "iss.propagate(6.29 * u.year).sample(10)"
   ]
  },
  {
   "cell_type": "markdown",
   "metadata": {},
   "source": [
    "ISS data https://spaceflight.nasa.gov/realdata/sightings/SSapplications/Post/JavaSSOP/orbit/ISS/SVPOST.html"
   ]
  },
  {
   "cell_type": "code",
   "execution_count": 71,
   "metadata": {},
   "outputs": [],
   "source": [
    "VECTORTIME = \"2019/187/09:50:00.000\"\n",
    "\n",
    "X = -3210187.08 * u.m\n",
    "Y =  4054699.69 * u.m\n",
    "Z = -4413214.06 * u.m\n",
    "\n",
    "Xdot = -3135.666924 * u.m / u.s\n",
    "Ydot = -6121.893548 * u.m / u.s\n",
    "Zdot = -3353.651106 * u.m / u.s\n"
   ]
  },
  {
   "cell_type": "code",
   "execution_count": null,
   "metadata": {},
   "outputs": [],
   "source": []
  },
  {
   "cell_type": "code",
   "execution_count": null,
   "metadata": {},
   "outputs": [],
   "source": []
  },
  {
   "cell_type": "code",
   "execution_count": null,
   "metadata": {},
   "outputs": [],
   "source": []
  },
  {
   "cell_type": "code",
   "execution_count": null,
   "metadata": {},
   "outputs": [],
   "source": []
  },
  {
   "cell_type": "code",
   "execution_count": null,
   "metadata": {},
   "outputs": [],
   "source": []
  },
  {
   "cell_type": "code",
   "execution_count": null,
   "metadata": {},
   "outputs": [],
   "source": []
  },
  {
   "cell_type": "code",
   "execution_count": null,
   "metadata": {},
   "outputs": [],
   "source": []
  },
  {
   "cell_type": "code",
   "execution_count": null,
   "metadata": {},
   "outputs": [],
   "source": []
  },
  {
   "cell_type": "code",
   "execution_count": null,
   "metadata": {},
   "outputs": [],
   "source": []
  },
  {
   "cell_type": "code",
   "execution_count": null,
   "metadata": {},
   "outputs": [],
   "source": []
  },
  {
   "cell_type": "code",
   "execution_count": null,
   "metadata": {},
   "outputs": [],
   "source": []
  },
  {
   "cell_type": "code",
   "execution_count": null,
   "metadata": {},
   "outputs": [],
   "source": []
  },
  {
   "cell_type": "markdown",
   "metadata": {},
   "source": [
    "# References\n",
    "\n",
    "### USNO \n",
    "\n",
    "USNO Circular 179 https://aa.usno.navy.mil/publications/docs/Circular_179.pdf The IAU Resolutions\n",
    "on Astronomical Reference Systems,\n",
    "Time Scales, and Earth Rotation Models\n",
    "Explanation and Implementation. George H. Kaplan. (2005)\n",
    "\n",
    "### Astropy Documentation\n",
    "\n",
    "ITRS http://docs.astropy.org/en/stable/api/astropy.coordinates.ITRS.html\n",
    "\n",
    "EarthLocation Objects https://docs.astropy.org/en/stable/api/astropy.coordinates.EarthLocation.html\n",
    "\n",
    "\n",
    "### Poliastro\n",
    "\n",
    "Reference Frames: https://github.com/poliastro/poliastro/wiki/Reference-frames\n",
    "\n",
    "Orbits and Reference Frames (v0.11) https://github.com/poliastro/poliastro/wiki/Orbits-and-reference-frames\n",
    "\n",
    "General documentation (v0.9.1) https://docs.poliastro.space/en/v0.9.1/\n",
    "\n",
    "https://docs.poliastro.space/en/v0.9.1/references.html\n",
    "\n",
    "http://web.archive.org/web/20170920023932/http://aa.usno.navy.mil:80/faq/docs/ICRS_doc.php\n",
    "\n",
    "https://en.wikipedia.org/wiki/Earth-centered_inertial"
   ]
  },
  {
   "cell_type": "code",
   "execution_count": null,
   "metadata": {},
   "outputs": [],
   "source": []
  }
 ],
 "metadata": {
  "kernelspec": {
   "display_name": "Python 3",
   "language": "python",
   "name": "python3"
  },
  "language_info": {
   "codemirror_mode": {
    "name": "ipython",
    "version": 3
   },
   "file_extension": ".py",
   "mimetype": "text/x-python",
   "name": "python",
   "nbconvert_exporter": "python",
   "pygments_lexer": "ipython3",
   "version": "3.5.2"
  }
 },
 "nbformat": 4,
 "nbformat_minor": 2
}
