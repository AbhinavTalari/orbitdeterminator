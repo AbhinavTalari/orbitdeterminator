{
 "cells": [
  {
   "cell_type": "code",
   "execution_count": 1,
   "metadata": {},
   "outputs": [],
   "source": [
    "import numpy as np\n",
    "import matplotlib.pyplot as plt\n",
    "import astropy.coordinates as coord\n",
    "import astropy.units as u\n",
    "from astropy import time as t\n",
    "\n",
    "from poliastro.bodies import Earth\n",
    "from poliastro.twobody import Orbit\n",
    "import poliastro\n",
    "\n",
    "import urllib.request\n",
    "import json\n",
    "from collections import OrderedDict\n",
    "\n",
    "import emcee"
   ]
  },
  {
   "cell_type": "markdown",
   "metadata": {},
   "source": [
    "# Loading multiple files with a SINGLE satellite"
   ]
  },
  {
   "cell_type": "code",
   "execution_count": 161,
   "metadata": {},
   "outputs": [],
   "source": [
    "c = 299792.458  # km/s\n",
    "\n",
    "def get_redshift(f_c, f_m):\n",
    "    z = (f_m - f_c)/f_c\n",
    "    return z\n",
    "    \n",
    "def get_v_radial(f_c, f_m):\n",
    "    v_r = c * get_redshift(f_c, f_m)\n",
    "    return v_r"
   ]
  },
  {
   "cell_type": "code",
   "execution_count": 4,
   "metadata": {},
   "outputs": [],
   "source": [
    "file_list = ['first_test/001_20190721T052832_jena.json',\n",
    "             'first_test/001_20190721T052821_leipzig.json',\n",
    "             'first_test/001_20190721T052801_settrup.json',\n",
    "             'first_test/001_20190721T052806_stuttgart.json']\n",
    "\n",
    "N = len(file_list)"
   ]
  },
  {
   "cell_type": "code",
   "execution_count": 5,
   "metadata": {},
   "outputs": [],
   "source": [
    "raw_data = []\n",
    "\n",
    "for filename in file_list:\n",
    "    with open( filename, 'r') as myfile:\n",
    "        data=myfile.read()\n",
    "        raw_data.append(data)"
   ]
  },
  {
   "cell_type": "code",
   "execution_count": 6,
   "metadata": {},
   "outputs": [],
   "source": [
    "json_files = []\n",
    "\n",
    "for i in range(N):\n",
    "    obj = json.loads(raw_data[i])\n",
    "    json_files.append(obj)"
   ]
  },
  {
   "cell_type": "code",
   "execution_count": null,
   "metadata": {},
   "outputs": [],
   "source": [
    "json_files[0]"
   ]
  },
  {
   "cell_type": "code",
   "execution_count": 8,
   "metadata": {},
   "outputs": [
    {
     "name": "stdout",
     "output_type": "stream",
     "text": [
      "dict_keys(['meta', 'groundstation', 'satellite', 'data'])\n"
     ]
    }
   ],
   "source": [
    "obj = json_files[0]\n",
    "print(obj.keys())"
   ]
  },
  {
   "cell_type": "code",
   "execution_count": 9,
   "metadata": {},
   "outputs": [
    {
     "data": {
      "text/plain": [
       "{'gs_id': None,\n",
       " 'gs_name': 'jena',\n",
       " 'gs_lon': 11.56886,\n",
       " 'gs_lat': 50.91847,\n",
       " 'gs_alt': 130.0}"
      ]
     },
     "execution_count": 9,
     "metadata": {},
     "output_type": "execute_result"
    }
   ],
   "source": [
    "obj['groundstation']"
   ]
  },
  {
   "cell_type": "code",
   "execution_count": 10,
   "metadata": {},
   "outputs": [],
   "source": [
    "gs_geodetic_locs = []\n",
    "\n",
    "for i in range(N):\n",
    "    gs_geodetic_locs.append( json_files[i]['groundstation'])\n"
   ]
  },
  {
   "cell_type": "code",
   "execution_count": 12,
   "metadata": {},
   "outputs": [
    {
     "name": "stdout",
     "output_type": "stream",
     "text": [
      "{'gs_id': None, 'gs_name': 'jena', 'gs_lon': 11.56886, 'gs_lat': 50.91847, 'gs_alt': 130.0}\n",
      "{'gs_id': None, 'gs_name': 'leipzig', 'gs_lon': 12.338261, 'gs_lat': 51.336569, 'gs_alt': 80.0}\n",
      "{'gs_id': None, 'gs_name': 'settrup', 'gs_lon': 7.6289, 'gs_lat': 52.49356, 'gs_alt': 40.0}\n",
      "{'gs_id': None, 'gs_name': 'stuttgart', 'gs_lon': 9.2356, 'gs_lat': 48.777, 'gs_alt': 230.0}\n"
     ]
    }
   ],
   "source": [
    "for i in range(N):\n",
    "    print(gs_geodetic_locs[i])"
   ]
  },
  {
   "cell_type": "code",
   "execution_count": 13,
   "metadata": {},
   "outputs": [
    {
     "data": {
      "text/plain": [
       "{'file_name': 'D:/20190719_21/jena/SDRSharp_20190721_052832Z_137500000Hz_IQ.wav',\n",
       " 'file_time_system': 1563679712.0,\n",
       " 'file_f_center': 137500000,\n",
       " 'file_samplerate': 2048000,\n",
       " 'file_created': 1564523756.2432327}"
      ]
     },
     "execution_count": 13,
     "metadata": {},
     "output_type": "execute_result"
    }
   ],
   "source": [
    "obj['meta']"
   ]
  },
  {
   "cell_type": "code",
   "execution_count": 63,
   "metadata": {},
   "outputs": [],
   "source": [
    "f_c = obj['data'][0]['channel_f_center']"
   ]
  },
  {
   "cell_type": "code",
   "execution_count": 64,
   "metadata": {},
   "outputs": [
    {
     "data": {
      "text/plain": [
       "137100000"
      ]
     },
     "execution_count": 64,
     "metadata": {},
     "output_type": "execute_result"
    }
   ],
   "source": [
    "f_c"
   ]
  },
  {
   "cell_type": "code",
   "execution_count": 65,
   "metadata": {},
   "outputs": [
    {
     "data": {
      "text/plain": [
       "[{'sat_ID': 1, 'sat_name': 'NOAA-19'}]"
      ]
     },
     "execution_count": 65,
     "metadata": {},
     "output_type": "execute_result"
    }
   ],
   "source": [
    "obj['satellite']"
   ]
  },
  {
   "cell_type": "code",
   "execution_count": null,
   "metadata": {},
   "outputs": [],
   "source": [
    "obj['data']"
   ]
  },
  {
   "cell_type": "code",
   "execution_count": 67,
   "metadata": {},
   "outputs": [
    {
     "data": {
      "text/plain": [
       "dict_keys(['sat_id', 'channel', 'channel_bandwidth', 'channel_f_center', 'stream'])"
      ]
     },
     "execution_count": 67,
     "metadata": {},
     "output_type": "execute_result"
    }
   ],
   "source": [
    "obj['data'][0].keys()"
   ]
  },
  {
   "cell_type": "code",
   "execution_count": 68,
   "metadata": {
    "scrolled": true
   },
   "outputs": [
    {
     "name": "stdout",
     "output_type": "stream",
     "text": [
      "1\n",
      "{'id': 0, 'time_system': 1563679712.0, 'time_gnss': None, 'f': 137103187.75947043, 'f_doppler': 3187.7594704329967, 'r': None}\n",
      "{'id': 395, 'time_system': 1563680107.0, 'time_gnss': None, 'f': 137098401.4546298, 'f_doppler': -1598.5453701913357, 'r': None}\n",
      "\n",
      "1\n",
      "{'id': 0, 'time_system': 1563679701.0, 'time_gnss': None, 'f': 137102985.0495376, 'f_doppler': 2985.0495375990868, 'r': None}\n",
      "{'id': 400, 'time_system': 1563680101.0, 'time_gnss': None, 'f': 137098066.2063926, 'f_doppler': -1933.7936074137688, 'r': None}\n",
      "\n",
      "1\n",
      "{'id': 0, 'time_system': 1563679681.0, 'time_gnss': None, 'f': 137103232.47975314, 'f_doppler': 3232.479753136635, 'r': None}\n",
      "{'id': 388, 'time_system': 1563680069.0, 'time_gnss': None, 'f': 137098207.14077938, 'f_doppler': -1792.85922062397, 'r': None}\n",
      "\n",
      "1\n",
      "{'id': 0, 'time_system': 1563679686.0, 'time_gnss': None, 'f': 137103562.64867875, 'f_doppler': 3562.6486787497997, 'r': None}\n",
      "{'id': 391, 'time_system': 1563680077.0, 'time_gnss': None, 'f': 137098827.40861362, 'f_doppler': -1172.5913863778114, 'r': None}\n",
      "\n"
     ]
    }
   ],
   "source": [
    "for i in range(N):\n",
    "    print(json_files[i]['data'][0]['sat_id'])\n",
    "    print(json_files[i]['data'][0]['stream'][0])\n",
    "    print(json_files[i]['data'][0]['stream'][-1])\n",
    "    print()"
   ]
  },
  {
   "cell_type": "code",
   "execution_count": 70,
   "metadata": {},
   "outputs": [
    {
     "name": "stdout",
     "output_type": "stream",
     "text": [
      "1\n",
      "396\n",
      "1\n",
      "401\n",
      "1\n",
      "389\n",
      "1\n",
      "392\n"
     ]
    }
   ],
   "source": [
    "tau = []\n",
    "z = []\n",
    "\n",
    "for i in range(N):\n",
    "    \n",
    "    print(json_files[i]['data'][0]['sat_id'])\n",
    "    stream = json_files[i]['data'][0]['stream']\n",
    "    \n",
    "    aux_tau = []\n",
    "    aux_z   = []\n",
    "    \n",
    "    for s in stream:\n",
    "        aux_tau.append( float(s['time_system']))\n",
    "        aux_z.append( get_redshift(f_c, float(s['f']) ))\n",
    "\n",
    "    print(len(aux_z))\n",
    "    tau.append(aux_tau)\n",
    "    z.append(aux_z)\n",
    "\n",
    "        "
   ]
  },
  {
   "cell_type": "code",
   "execution_count": 71,
   "metadata": {},
   "outputs": [
    {
     "name": "stdout",
     "output_type": "stream",
     "text": [
      "396\n",
      "401\n",
      "389\n",
      "392\n"
     ]
    }
   ],
   "source": [
    "for i in range(N):\n",
    "    print(len(tau[i]))"
   ]
  },
  {
   "cell_type": "markdown",
   "metadata": {},
   "source": [
    "### Doppler Shift measured by Ground Stations"
   ]
  },
  {
   "cell_type": "code",
   "execution_count": 102,
   "metadata": {},
   "outputs": [
    {
     "data": {
      "image/png": "[encoded data removed]",
      "text/plain": [
       "<matplotlib.figure.Figure at 0x7fadd9f69b70>"
      ]
     },
     "metadata": {
      "needs_background": "light"
     },
     "output_type": "display_data"
    }
   ],
   "source": [
    "fig = plt.figure(figsize=(6,4))\n",
    "plt.axhline(0, c=\"k\", lw=1)\n",
    "\n",
    "for i in range(N):\n",
    "    \n",
    "    label = gs_geodetic_locs[i]['gs_name']\n",
    "    plt.scatter(tau[i], z[i], s=2, label=label)\n",
    "    \n",
    "plt.ylim(-2e-5,3e-5)\n",
    "plt.xlabel(\"System Time (Unix time in seconds)\")\n",
    "plt.ylabel(\"Doppler Shift (Dimensionless)\")\n",
    "plt.legend(loc=0)\n",
    "\n",
    "plt.tight_layout()\n",
    "plt.savefig(\"first_test/measured_doppler_shift.png\")"
   ]
  },
  {
   "cell_type": "markdown",
   "metadata": {},
   "source": [
    "### Calculating GS positions and velocities in the GeoCentric Reference System"
   ]
  },
  {
   "cell_type": "code",
   "execution_count": 91,
   "metadata": {},
   "outputs": [
    {
     "data": {
      "text/plain": [
       "[{'gs_id': None,\n",
       "  'gs_name': 'jena',\n",
       "  'gs_lon': 11.56886,\n",
       "  'gs_lat': 50.91847,\n",
       "  'gs_alt': 130.0},\n",
       " {'gs_id': None,\n",
       "  'gs_name': 'leipzig',\n",
       "  'gs_lon': 12.338261,\n",
       "  'gs_lat': 51.336569,\n",
       "  'gs_alt': 80.0},\n",
       " {'gs_id': None,\n",
       "  'gs_name': 'settrup',\n",
       "  'gs_lon': 7.6289,\n",
       "  'gs_lat': 52.49356,\n",
       "  'gs_alt': 40.0},\n",
       " {'gs_id': None,\n",
       "  'gs_name': 'stuttgart',\n",
       "  'gs_lon': 9.2356,\n",
       "  'gs_lat': 48.777,\n",
       "  'gs_alt': 230.0}]"
      ]
     },
     "execution_count": 91,
     "metadata": {},
     "output_type": "execute_result"
    }
   ],
   "source": [
    "gs_geodetic_locs"
   ]
  },
  {
   "cell_type": "code",
   "execution_count": 105,
   "metadata": {},
   "outputs": [],
   "source": [
    "GS = []\n",
    "\n",
    "for i in range(N):\n",
    "    lon = gs_geodetic_locs[i]['gs_lon']\n",
    "    lat = gs_geodetic_locs[i]['gs_lat']\n",
    "    alt = gs_geodetic_locs[i]['gs_alt']\n",
    "    \n",
    "    gs = coord.EarthLocation(lon, lat, alt)\n",
    "    \n",
    "    GS.append(gs)"
   ]
  },
  {
   "cell_type": "code",
   "execution_count": 106,
   "metadata": {},
   "outputs": [
    {
     "data": {
      "text/plain": [
       "[<EarthLocation (3947302.485977, 808029.34688436, 4927932.57836334) m>,\n",
       " <EarthLocation (3900688.39630275, 853216.64217843, 4957085.63237295) m>,\n",
       " <EarthLocation (3857117.25251054, 516629.62143337, 5036460.03219459) m>,\n",
       " <EarthLocation (4156679.23402729, 675885.84844335, 4774425.562896) m>]"
      ]
     },
     "execution_count": 106,
     "metadata": {},
     "output_type": "execute_result"
    }
   ],
   "source": [
    "GS "
   ]
  },
  {
   "cell_type": "code",
   "execution_count": 173,
   "metadata": {},
   "outputs": [
    {
     "data": {
      "text/plain": [
       "[1563679712.0,\n",
       " 1563679713.0,\n",
       " 1563679714.0,\n",
       " 1563679715.0,\n",
       " 1563679716.0,\n",
       " 1563679717.0,\n",
       " 1563679718.0,\n",
       " 1563679719.0,\n",
       " 1563679720.0,\n",
       " 1563679721.0]"
      ]
     },
     "execution_count": 173,
     "metadata": {},
     "output_type": "execute_result"
    }
   ],
   "source": [
    "tau[0][:10]"
   ]
  },
  {
   "cell_type": "code",
   "execution_count": null,
   "metadata": {},
   "outputs": [],
   "source": []
  },
  {
   "cell_type": "code",
   "execution_count": 119,
   "metadata": {},
   "outputs": [
    {
     "data": {
      "text/plain": [
       "<Time object: scale='utc' format='unix' value=1563679811.0>"
      ]
     },
     "execution_count": 119,
     "metadata": {},
     "output_type": "execute_result"
    }
   ],
   "source": [
    "t.Time(1563679811.0, format='unix', scale=\"utc\")"
   ]
  },
  {
   "cell_type": "code",
   "execution_count": null,
   "metadata": {},
   "outputs": [],
   "source": []
  },
  {
   "cell_type": "code",
   "execution_count": null,
   "metadata": {},
   "outputs": [],
   "source": []
  },
  {
   "cell_type": "code",
   "execution_count": 120,
   "metadata": {},
   "outputs": [],
   "source": [
    "tau_astropytime = []\n",
    "\n",
    "for i in range(N):\n",
    "    aux = []\n",
    "    for aux_t in tau[i]:\n",
    "        theta = t.Time(aux_t, format='unix', scale='utc')\n",
    "        aux.append(theta)\n",
    "    tau_astropytime.append(aux)"
   ]
  },
  {
   "cell_type": "code",
   "execution_count": 131,
   "metadata": {},
   "outputs": [
    {
     "name": "stdout",
     "output_type": "stream",
     "text": [
      "2019-07-31 19:16:36.520122\n"
     ]
    }
   ],
   "source": [
    "print(t.Time.now())"
   ]
  },
  {
   "cell_type": "code",
   "execution_count": 133,
   "metadata": {},
   "outputs": [
    {
     "name": "stdout",
     "output_type": "stream",
     "text": [
      "iteration 0 starts at time 2019-07-31 19:18:02.048991\n",
      "iteration 0 ends at time 2019-07-31 19:19:37.966385\n",
      "iteration 1 starts at time 2019-07-31 19:19:37.967225\n",
      "iteration 1 ends at time 2019-07-31 19:21:15.100529\n",
      "iteration 2 starts at time 2019-07-31 19:21:15.101580\n",
      "iteration 2 ends at time 2019-07-31 19:23:02.761106\n",
      "iteration 3 starts at time 2019-07-31 19:23:02.761779\n",
      "iteration 3 ends at time 2019-07-31 19:24:42.970084\n"
     ]
    }
   ],
   "source": [
    "GS_gcrs_positions = []\n",
    "GS_gcrs_velocities = []\n",
    "\n",
    "for  i in range(N):\n",
    "    aux_pos = []\n",
    "    aux_vel = []\n",
    "    \n",
    "    print(\"iteration {} starts at time {}\".format(i, t.Time.now()))\n",
    "    for t0 in tau_astropytime[i]:\n",
    "        p,v = GS[0].get_gcrs_posvel(obstime= t0)\n",
    "        aux_pos.append(p)\n",
    "        aux_vel.append(v)\n",
    "    \n",
    "    print(\"iteration {} ends at time {}\".format(i, t.Time.now()))\n",
    "    \n",
    "    GS_gcrs_positions.append(aux_pos)\n",
    "    GS_gcrs_velocities.append(aux_vel)"
   ]
  },
  {
   "cell_type": "code",
   "execution_count": 177,
   "metadata": {},
   "outputs": [
    {
     "data": {
      "text/plain": [
       "[<CartesianRepresentation (x, y, z) in m\n",
       "     (4035733.13268396, 145414.70323006, 4920400.43937277)>,\n",
       " <CartesianRepresentation (x, y, z) in m\n",
       "     (4035722.51179125, 145708.32183512, 4920400.46447655)>,\n",
       " <CartesianRepresentation (x, y, z) in m\n",
       "     (4035711.86943215, 146001.93966102, 4920400.48961992)>,\n",
       " <CartesianRepresentation (x, y, z) in m\n",
       "     (4035701.20577448, 146295.55675354, 4920400.5148105)>,\n",
       " <CartesianRepresentation (x, y, z) in m\n",
       "     (4035690.52060465, 146589.17294483, 4920400.54003305)>,\n",
       " <CartesianRepresentation (x, y, z) in m\n",
       "     (4035679.81402944, 146882.78846377, 4920400.56529519)>,\n",
       " <CartesianRepresentation (x, y, z) in m\n",
       "     (4035669.08612517, 147176.40320355, 4920400.59059691)>,\n",
       " <CartesianRepresentation (x, y, z) in m\n",
       "     (4035658.33667821, 147470.01708788, 4920400.61593059)>,\n",
       " <CartesianRepresentation (x, y, z) in m\n",
       "     (4035647.56590218, 147763.63020831, 4920400.64132675)>,\n",
       " <CartesianRepresentation (x, y, z) in m\n",
       "     (4035636.77373604, 148057.2425801, 4920400.66673961)>]"
      ]
     },
     "execution_count": 177,
     "metadata": {},
     "output_type": "execute_result"
    }
   ],
   "source": [
    "GS_gcrs_positions[0][:10]"
   ]
  },
  {
   "cell_type": "code",
   "execution_count": 176,
   "metadata": {},
   "outputs": [
    {
     "data": {
      "text/plain": [
       "[<CartesianRepresentation (x, y, z) in m / s\n",
       "     (-10.61036549, 293.61894124, 0.02509544)>,\n",
       " <CartesianRepresentation (x, y, z) in m / s\n",
       "     (-10.63158776, 293.61823837, 0.02511976)>,\n",
       " <CartesianRepresentation (x, y, z) in m / s\n",
       "     (-10.65305416, 293.61742869, 0.02515935)>,\n",
       " <CartesianRepresentation (x, y, z) in m / s\n",
       "     (-10.67452056, 293.61669531, 0.02522183)>,\n",
       " <CartesianRepresentation (x, y, z) in m / s\n",
       "     (-10.6956055, 293.61602296, 0.02523852)>,\n",
       " <CartesianRepresentation (x, y, z) in m / s\n",
       "     (-10.71730077, 293.61509121, 0.02527812)>,\n",
       " <CartesianRepresentation (x, y, z) in m / s\n",
       "     (-10.73866036, 293.61432731, 0.02531007)>,\n",
       " <CartesianRepresentation (x, y, z) in m / s\n",
       "     (-10.76003521, 293.61356341, 0.02537255)>,\n",
       " <CartesianRepresentation (x, y, z) in m / s\n",
       "     (-10.78151686, 293.61278425, 0.02541214)>,\n",
       " <CartesianRepresentation (x, y, z) in m / s\n",
       "     (-10.802968, 293.61188303, 0.0254441)>]"
      ]
     },
     "execution_count": 176,
     "metadata": {},
     "output_type": "execute_result"
    }
   ],
   "source": [
    "GS_gcrs_velocities[0][:10]"
   ]
  },
  {
   "cell_type": "markdown",
   "metadata": {},
   "source": [
    "### Now we have the Ground Station location in XYZ in the Geocentric Inertial System.\n",
    "\n",
    "Regading, this is the System where Satellite coordinates are measured."
   ]
  },
  {
   "cell_type": "code",
   "execution_count": 138,
   "metadata": {},
   "outputs": [
    {
     "name": "stdout",
     "output_type": "stream",
     "text": [
      "396 396 396\n",
      "401 401 401\n",
      "389 389 389\n",
      "392 392 392\n"
     ]
    }
   ],
   "source": [
    "for i in range(N):\n",
    "    print(len(GS_gcrs_positions[i]), len(GS_gcrs_velocities[i]), len(tau_astropytime[i]))"
   ]
  },
  {
   "cell_type": "code",
   "execution_count": 141,
   "metadata": {},
   "outputs": [
    {
     "data": {
      "text/plain": [
       "<CartesianRepresentation (x, y, z) in m\n",
       "    (4035848.54949027, 142184.84794311, 4920400.16588212)>"
      ]
     },
     "execution_count": 141,
     "metadata": {},
     "output_type": "execute_result"
    }
   ],
   "source": [
    "GS_gcrs_positions[1][0]"
   ]
  },
  {
   "cell_type": "markdown",
   "metadata": {},
   "source": [
    "### Initial position guess:\n",
    "\n",
    "Well, let's try an XYZ-VxVyVz approximation to the orbital parameters, instead the classic elements.\n",
    "\n",
    "1. Find average location of Ground Stations: GS_av\n",
    "2. Extend this vector into space something like 500 km: R0\n",
    "3. Find some points in a circle into a radius of 1000 km. The circle is centered at R0, in the plane defined by the vector GS_av\n",
    "4. Define initial velocities towards R0 (or something tangential to Earths Surface).\n"
   ]
  },
  {
   "cell_type": "code",
   "execution_count": 166,
   "metadata": {},
   "outputs": [],
   "source": [
    "GS_0x = []\n",
    "GS_0y = []\n",
    "GS_0z = []\n",
    "\n",
    "for i in range(N):\n",
    "    x, y, z = GS_gcrs_positions[i][0].xyz\n",
    "    \n",
    "    GS_0x.append(x.value)\n",
    "    GS_0y.append(y.value)\n",
    "    GS_0z.append(z.value)\n",
    "    \n",
    "GS_0xav = np.mean(GS_0x)\n",
    "GS_0yav = np.mean(GS_0y)\n",
    "GS_0zav = np.mean(GS_0z)"
   ]
  },
  {
   "cell_type": "code",
   "execution_count": 167,
   "metadata": {},
   "outputs": [
    {
     "data": {
      "text/plain": [
       "<CartesianRepresentation (x, y, z) in m\n",
       "    (4035733.13268396, 145414.70323006, 4920400.43937277)>"
      ]
     },
     "execution_count": 167,
     "metadata": {},
     "output_type": "execute_result"
    }
   ],
   "source": [
    "GS_gcrs_positions[0][0]"
   ]
  },
  {
   "cell_type": "code",
   "execution_count": 168,
   "metadata": {},
   "outputs": [
    {
     "name": "stdout",
     "output_type": "stream",
     "text": [
      "(4035908.8008950613, 140423.01365830595, 4920400.021755013)\n"
     ]
    }
   ],
   "source": [
    "GS_av = (GS_0xav, GS_0yav, GS_0zav)\n",
    "print(R0)"
   ]
  },
  {
   "cell_type": "code",
   "execution_count": 169,
   "metadata": {},
   "outputs": [],
   "source": [
    "N_rw = 60 # Number of Random Walkers"
   ]
  },
  {
   "cell_type": "code",
   "execution_count": 170,
   "metadata": {},
   "outputs": [
    {
     "data": {
      "text/plain": [
       "6365423.383090383"
      ]
     },
     "execution_count": 170,
     "metadata": {},
     "output_type": "execute_result"
    }
   ],
   "source": [
    "(X0 **2 + Y0 **2 + Z0 **2)**0.5"
   ]
  },
  {
   "cell_type": "code",
   "execution_count": null,
   "metadata": {},
   "outputs": [],
   "source": []
  },
  {
   "cell_type": "code",
   "execution_count": null,
   "metadata": {},
   "outputs": [],
   "source": []
  }
 ],
 "metadata": {
  "kernelspec": {
   "display_name": "Python 3",
   "language": "python",
   "name": "python3"
  },
  "language_info": {
   "codemirror_mode": {
    "name": "ipython",
    "version": 3
   },
   "file_extension": ".py",
   "mimetype": "text/x-python",
   "name": "python",
   "nbconvert_exporter": "python",
   "pygments_lexer": "ipython3",
   "version": "3.6.5"
  }
 },
 "nbformat": 4,
 "nbformat_minor": 2
}
